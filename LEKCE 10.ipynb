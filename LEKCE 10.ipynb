{
 "cells": [
  {
   "cell_type": "markdown",
   "metadata": {},
   "source": [
    "<h1> LEKCE 9 </h1>\n",
    "\n",
    "<h2> Opakování z minule </h2>\n",
    "\n",
    "- když chci zapsat něco z jednoho souboru do druhého, tak musím prvně uložit obsah prvního někam (např. obsah = f1.read()) a pak zapsat do druhého (např. f2.write(obsah))\n",
    "- pozor na veliké proměnné (viz třeba v příkladu výše) --> lepší je to pak číst a ukládat a zapisovat po řádcích --> méně komplexní a stabilnější\n",
    "\n",
    "<h2> Výjimky </h2>\n",
    "\n",
    "- vyjímka = chyba (error/exception)\n",
    "    - NameError (chybny nazev proměnné), SyntaxError, TypeError (chyba typu, např dělení stringem), ZeroDivisionError, IndexError (není index), KeyError (není klíč), ValueError (nevhodná hodnota např. ve fci), FileNotFoundError\n",
    "- 3 typy: syntaktické (nedodržení předpisu Pythonu), běhové (chyba při interpretaci), logické (funguje jinak, než chci)\n",
    "- syntaktické\n",
    "    - SyntaxError\n",
    "    - většina IDEs to podtrhne (např. chybějící dvojtečka v if else) = linters\n",
    "    - v cmd to umí třeba Pylint nebo flake8\n",
    "    - oproti logickým chybám docela \"jednoduché\" na opravu\n",
    "- běhové\n",
    "    - runtime error aj.\n",
    "    - když třeba prvně definuji fci na dělení, která je ok, pak ji hodím do for cyklu, kde ale narazí na string po xté iteraci\n",
    "    - těžší na opravu, ale intepret nám řekne, co je chyba\n",
    "- logické\n",
    "    - tyhle už není tak snadné odhalit: např. (x + y / 2) kde x = 3 a y = 5 --> výsledek 5.5 (nutně to není chyba, pokud skutečně prvně chci dělit a ne sčítat)\n",
    "    - tohle se řeší těžko, protože často na to ani nepřijdeme, takže kód může běžet měsíce a nebudeme o tom ani vědět\n",
    "- traceback nám pomáhá říkat, kde nastala chyba, hlavně u běhových chyb\n",
    "- u fcí je potřeba myslet na ty rámce\n",
    "    - když třeba chci přidat k existujíc proměnné 1, tak to jen tak nepřidám skrze def ...: x += 1, protože ji už nevidí jako tu globální, ale lokální\n",
    "    - i když bych třeba printoval, tak to printne jako globální\n",
    "    - řešení: na samotný řádek dát global nazev_promenne\n",
    "\n",
    "<h2> Zacházení s výjimkami </h2>\n",
    "\n",
    "- jak Pythonu říct, že má s něčím počítat\n",
    "- --> syntax try/except, respektive try/except/else/finally\n",
    "    - try: něco zkusíme udělat\n",
    "    - except ...: může napsat konkrétní chybu nebo nechat volné pro všechny chyby, když se nepodaří to v try bloku, a co udělat když nastane\n",
    "    - else: co udělat, když nenastane chyba\n",
    "    - finally: co udělat vždy, nehledě na to, zda bude chyba nebo ne (moc se nepoužívá a jsou na to ambivalentní názory)\n",
    "    - je to podobné if/elif/else a v jiných jazycích, kde není error handling (třeba v Céčku) se to tak používá\n",
    "- DOPORUČENÉ: to try bloku dávat jen to, co by mohlo chybu vyvolat\n",
    "    - --> takže dát třebe jeden try/except a pod něj další try/except/else třeba\n",
    "- když nenajde vyjímku --> jede jak má\n",
    "- když najde (dle specifikace za except ...) --> použije except větev\n",
    "- každopádně tam musí být hlavně try větev (!): pod kterou odsadím běžný obsah funkce/programu, whatever\n",
    "- except větví může být i víc (!)\n",
    "- nebo taky lze chyby dát do závorky a mít jich víc pro jednu větev (viz níže)\n",
    "- nebo za except nemusím nutně psát typ chyby (!) a spadnou tam všechny\n",
    "- ... kombinování typů chyb do jedné větve nebo nepsaní typů vůbec je ale blbý, protože nevím, co chybu způsobilo!\n",
    "- lze to zkombinovat i s else: try --> except --> ... --> else\n",
    "    - funguje to pak tak, že zkusí to try, pokud nenastane vyjímka, provede else (když nastane, viz jak předchozí)\n",
    "    - je to lepší v tom, že try pak zkouší jen jednu věc a většinu přesouvá pod else --> TOTO POUŽÍVAT!\n",
    "- try/except/else/finally\n",
    "    - to výše se dá ještě rozšířit o finally na konci\n",
    "    - používá se na provedení něčeho, co se má stát, ať už nastane vyjímka nebo ne\n",
    "    - nehodí se to vždy, ale může to být občas handy (z hlavy mě napadá na validování, že se všechno použilo/počítání iterací apod.)\n",
    "- tyhle věci jsou na běhové, ne syntaktické chyby !\n",
    "\n",
    "- můžeme i sami zavolat výjimku pomocí raise nazevVyjimky(\"Text chybového oznámení\")\n",
    "    - např. ... else: raise ValueError(\"Špatný datový typ\")\n",
    "\n",
    "- assert\n",
    "    - s tím souvisí AssertionError\n",
    "    - např. assert 5 < 1, \"5 není menší než 1\" (skutečně bez závorek!; 2. argument volitelný print)\n",
    "    - když výraz neplatí - dostanu AssertionError\n",
    "    - dost se používá při TESTOVÁNÍ\n",
    "\n",
    "- VS code a i ostatní IDEs mají debugger\n",
    "    - tam si označuju ty breakpointy (musím tam nějaký dát, jinak se to akorát celé spustí) a postupně procházím krok po kroku kód a jak jej intepret prochází\n",
    "    - a zároveň vidím hodnoty proměnných a průběžné výsledky, pokud tam nějaké mám\n",
    "    - navíc krom klasické konzole tam mám i debug konzoli, která pracuje s aktuálním stavem proměnných ale i importovanými, vytvořenými, ..., objekty do dané chvíle"
   ]
  },
  {
   "cell_type": "code",
   "execution_count": 7,
   "metadata": {},
   "outputs": [
    {
     "name": "stdout",
     "output_type": "stream",
     "text": [
      "1.0\n",
      "1.0\n",
      "Nemůžeš dělit nulou\n",
      "Nelze dělit string!\n",
      "1.0\n"
     ]
    }
   ],
   "source": [
    "def vrat_vysledek(cislo: int, delitel: int) -> float:\n",
    "    try:\n",
    "        print(cislo / delitel)\n",
    "    except TypeError:\n",
    "        print(\"Nelze dělit string!\")\n",
    "    except ZeroDivisionError:  \n",
    "        print(\"Nemůžeš dělit nulou\")\n",
    "    \n",
    "    \n",
    "for cislo, delitel in zip((1, 2, 3, \"4\", 5), (1, 2, 0, 4, 5)):\n",
    "    vrat_vysledek(cislo, delitel)"
   ]
  },
  {
   "cell_type": "code",
   "execution_count": 9,
   "metadata": {},
   "outputs": [
    {
     "name": "stdout",
     "output_type": "stream",
     "text": [
      "Chyba! Nelze provést dělit nečíslem\n",
      "Zkus to znovu...\n",
      "Nelze dělit nulou\n",
      "Zkus to znovu...\n",
      "2.0\n",
      "Co dál?\n"
     ]
    }
   ],
   "source": [
    "while True:\n",
    "    try:\n",
    "        cislo = int(input(\"Zadej čislo: \"))\n",
    "        print(10/cislo)\n",
    "    except ValueError:\n",
    "        print(f\"Chyba! Nelze provést dělit nečíslem\")\n",
    "    except ZeroDivisionError:\n",
    "        print(\"Nelze dělit nulou\")\n",
    "    else:\n",
    "        print(\"Co dál?\")\n",
    "        break\n",
    "    print(\"Zkus to znovu...\")"
   ]
  },
  {
   "cell_type": "code",
   "execution_count": 11,
   "metadata": {},
   "outputs": [
    {
     "name": "stdout",
     "output_type": "stream",
     "text": [
      "Chyba! Nelze provést dělit nečíslem\n",
      "X\n",
      "Nelze dělit nulou\n",
      "X\n",
      "0.5\n",
      "Co dál?\n",
      "X\n"
     ]
    }
   ],
   "source": [
    "while True:             #NEMUSÍ TO BÝT VE SMYČCE! je to jen pro ukázku\n",
    "    try:\n",
    "        cislo = int(input(\"Zadej čislo: \"))\n",
    "        print(10/cislo)\n",
    "    except ValueError:\n",
    "        print(f\"Chyba! Nelze provést dělit nečíslem\")\n",
    "    except ZeroDivisionError:\n",
    "        print(\"Nelze dělit nulou\")\n",
    "    else:\n",
    "        print(\"Co dál?\")\n",
    "        break\n",
    "    finally:\n",
    "        print(\"X\")      #nepoužívá se to tolik, protože lze to zapsat bez odsazení a bez toho finally a bude to fungovat to stejně\n",
    "                        #hodí se to ale pro čitelnost kódu, aby bylo jasné, že to patří k dané části kódu"
   ]
  },
  {
   "cell_type": "code",
   "execution_count": 15,
   "metadata": {},
   "outputs": [
    {
     "ename": "ValueError",
     "evalue": "Špatný datový typ",
     "output_type": "error",
     "traceback": [
      "\u001b[1;31m---------------------------------------------------------------------------\u001b[0m",
      "\u001b[1;31mValueError\u001b[0m                                Traceback (most recent call last)",
      "Cell \u001b[1;32mIn[15], line 15\u001b[0m\n\u001b[0;32m     11\u001b[0m     \u001b[38;5;28;01melse\u001b[39;00m:\n\u001b[0;32m     12\u001b[0m         \u001b[38;5;66;03m#print(\"Mimo rozsah!\")\u001b[39;00m\n\u001b[0;32m     13\u001b[0m         \u001b[38;5;28;01mraise\u001b[39;00m \u001b[38;5;167;01mValueError\u001b[39;00m(\u001b[38;5;124m\"\u001b[39m\u001b[38;5;124mChyba souřadnice, musí být mezi 0 a 100!\u001b[39m\u001b[38;5;124m\"\u001b[39m)\n\u001b[1;32m---> 15\u001b[0m \u001b[43mposun_osy\u001b[49m\u001b[43m(\u001b[49m\u001b[38;5;124;43m\"\u001b[39;49m\u001b[38;5;124;43mq\u001b[39;49m\u001b[38;5;124;43m\"\u001b[39;49m\u001b[43m)\u001b[49m\n",
      "Cell \u001b[1;32mIn[15], line 7\u001b[0m, in \u001b[0;36mposun_osy\u001b[1;34m(poloha)\u001b[0m\n\u001b[0;32m      5\u001b[0m     poloha \u001b[38;5;241m=\u001b[39m \u001b[38;5;28mint\u001b[39m(poloha)\n\u001b[0;32m      6\u001b[0m \u001b[38;5;28;01melse\u001b[39;00m:\n\u001b[1;32m----> 7\u001b[0m     \u001b[38;5;28;01mraise\u001b[39;00m \u001b[38;5;167;01mValueError\u001b[39;00m(\u001b[38;5;124m\"\u001b[39m\u001b[38;5;124mŠpatný datový typ\u001b[39m\u001b[38;5;124m\"\u001b[39m)\n\u001b[0;32m      8\u001b[0m \u001b[38;5;28;01mif\u001b[39;00m poloha \u001b[38;5;129;01min\u001b[39;00m \u001b[38;5;28mrange\u001b[39m(\u001b[38;5;241m0\u001b[39m, \u001b[38;5;241m101\u001b[39m):\n\u001b[0;32m      9\u001b[0m     \u001b[38;5;28mprint\u001b[39m(\u001b[38;5;124mf\u001b[39m\u001b[38;5;124m\"\u001b[39m\u001b[38;5;124mPosouvám na \u001b[39m\u001b[38;5;132;01m{\u001b[39;00mpoloha\u001b[38;5;132;01m}\u001b[39;00m\u001b[38;5;124m\"\u001b[39m)\n",
      "\u001b[1;31mValueError\u001b[0m: Špatný datový typ"
     ]
    }
   ],
   "source": [
    "#SAMI MŮŽEME ZAVOLAT NĚJAKOU VÝJIMKU\n",
    "def posun_osy(poloha):\n",
    "    \"\"\"Posun na pozici, může být 0-100\"\"\"\n",
    "    if isinstance(poloha, int):\n",
    "        poloha = int(poloha)\n",
    "    else:\n",
    "        raise ValueError(\"Špatný datový typ\")\n",
    "    if poloha in range(0, 101):\n",
    "        print(f\"Posouvám na {poloha}\")\n",
    "        ...\n",
    "    else:\n",
    "        #print(\"Mimo rozsah!\")\n",
    "        raise ValueError(\"Chyba souřadnice, musí být mezi 0 a 100!\")\n",
    "    \n",
    "posun_osy(\"q\")"
   ]
  },
  {
   "cell_type": "code",
   "execution_count": 16,
   "metadata": {},
   "outputs": [
    {
     "ename": "ValueError",
     "evalue": "Chyba souřadnice, musí být mezi 0 a 100!",
     "output_type": "error",
     "traceback": [
      "\u001b[1;31m---------------------------------------------------------------------------\u001b[0m",
      "\u001b[1;31mValueError\u001b[0m                                Traceback (most recent call last)",
      "Cell \u001b[1;32mIn[16], line 1\u001b[0m\n\u001b[1;32m----> 1\u001b[0m \u001b[43mposun_osy\u001b[49m\u001b[43m(\u001b[49m\u001b[38;5;241;43m150\u001b[39;49m\u001b[43m)\u001b[49m\n",
      "Cell \u001b[1;32mIn[15], line 13\u001b[0m, in \u001b[0;36mposun_osy\u001b[1;34m(poloha)\u001b[0m\n\u001b[0;32m     10\u001b[0m     \u001b[38;5;241m.\u001b[39m\u001b[38;5;241m.\u001b[39m\u001b[38;5;241m.\u001b[39m\n\u001b[0;32m     11\u001b[0m \u001b[38;5;28;01melse\u001b[39;00m:\n\u001b[0;32m     12\u001b[0m     \u001b[38;5;66;03m#print(\"Mimo rozsah!\")\u001b[39;00m\n\u001b[1;32m---> 13\u001b[0m     \u001b[38;5;28;01mraise\u001b[39;00m \u001b[38;5;167;01mValueError\u001b[39;00m(\u001b[38;5;124m\"\u001b[39m\u001b[38;5;124mChyba souřadnice, musí být mezi 0 a 100!\u001b[39m\u001b[38;5;124m\"\u001b[39m)\n",
      "\u001b[1;31mValueError\u001b[0m: Chyba souřadnice, musí být mezi 0 a 100!"
     ]
    }
   ],
   "source": [
    "posun_osy(150)"
   ]
  },
  {
   "cell_type": "code",
   "execution_count": 22,
   "metadata": {},
   "outputs": [
    {
     "name": "stdout",
     "output_type": "stream",
     "text": [
      "150\n",
      "Chyba souřadnice, musí být mezi 0 a 100!\n"
     ]
    }
   ],
   "source": [
    "hodnota = int(input(\"Zadej hondnotu: \"))\n",
    "print(hodnota)\n",
    "try:\n",
    "    posun_osy(hodnota)\n",
    "except ValueError as err:\n",
    "    print(err)\n",
    "except:\n",
    "    print(\"Neznámý problém\")"
   ]
  },
  {
   "cell_type": "code",
   "execution_count": 8,
   "metadata": {},
   "outputs": [
    {
     "name": "stdout",
     "output_type": "stream",
     "text": [
      "1.0\n",
      "1.0\n",
      "Chyba při dělení!\n",
      "Chyba při dělení!\n",
      "1.0\n"
     ]
    }
   ],
   "source": [
    "def vrat_vysledek(cislo: int, delitel: int) -> float:\n",
    "    try:\n",
    "        print(cislo / delitel)\n",
    "    except (TypeError, ZeroDivisionError):\n",
    "        print(\"Chyba při dělení!\")\n",
    "    \n",
    "    \n",
    "for cislo, delitel in zip((1, 2, 3, \"4\", 5), (1, 2, 0, 4, 5)):\n",
    "    vrat_vysledek(cislo, delitel)"
   ]
  },
  {
   "cell_type": "code",
   "execution_count": 9,
   "metadata": {},
   "outputs": [
    {
     "name": "stdout",
     "output_type": "stream",
     "text": [
      "1.0\n",
      "1.0\n",
      "Chyba!\n",
      "Chyba!\n",
      "1.0\n"
     ]
    }
   ],
   "source": [
    "def vrat_vysledek(cislo: int, delitel: int) -> float:\n",
    "    try:\n",
    "        print(cislo / delitel)\n",
    "    except:\n",
    "        print(\"Chyba!\")\n",
    "    \n",
    "    \n",
    "for cislo, delitel in zip((1, 2, 3, \"4\", 5), (1, 2, 0, 4, 5)):\n",
    "    vrat_vysledek(cislo, delitel)"
   ]
  },
  {
   "cell_type": "code",
   "execution_count": 10,
   "metadata": {},
   "outputs": [
    {
     "name": "stdout",
     "output_type": "stream",
     "text": [
      "1.0\n",
      "1.0\n",
      "Nemůžeš dělit nulou\n",
      "Nelze dělit string!\n",
      "1.0\n"
     ]
    }
   ],
   "source": [
    "def vrat_vysledek(cislo: int, delitel: int) -> float:\n",
    "    try:\n",
    "        vysledek = cislo / delitel\n",
    "    except TypeError:\n",
    "        print(\"Nelze dělit string!\")\n",
    "    except ZeroDivisionError:  \n",
    "        print(\"Nemůžeš dělit nulou\")\n",
    "    else:\n",
    "        print(vysledek)\n",
    "\n",
    "for cislo, delitel in zip((1, 2, 3, \"4\", 5), (1, 2, 0, 4, 5)):\n",
    "    vrat_vysledek(cislo, delitel)"
   ]
  },
  {
   "cell_type": "code",
   "execution_count": 11,
   "metadata": {},
   "outputs": [
    {
     "name": "stdout",
     "output_type": "stream",
     "text": [
      "1.0\n",
      "...zpracováno...\n",
      "1.0\n",
      "...zpracováno...\n",
      "Nemůžeš dělit nulou\n",
      "...zpracováno...\n",
      "Nelze dělit string!\n",
      "...zpracováno...\n",
      "1.0\n",
      "...zpracováno...\n"
     ]
    }
   ],
   "source": [
    "def vrat_vysledek(cislo: int, delitel: int) -> float:\n",
    "    try:\n",
    "        vysledek = cislo / delitel\n",
    "    except TypeError:\n",
    "        print(\"Nelze dělit string!\")\n",
    "    except ZeroDivisionError:  \n",
    "        print(\"Nemůžeš dělit nulou\")\n",
    "    else:\n",
    "        print(vysledek)\n",
    "    finally:\n",
    "        print(\"...zpracováno...\")\n",
    "\n",
    "for cislo, delitel in zip((1, 2, 3, \"4\", 5), (1, 2, 0, 4, 5)):\n",
    "    vrat_vysledek(cislo, delitel)"
   ]
  },
  {
   "cell_type": "code",
   "execution_count": 34,
   "metadata": {},
   "outputs": [
    {
     "ename": "AssertionError",
     "evalue": "5 is not smaller than 4",
     "output_type": "error",
     "traceback": [
      "\u001b[1;31m---------------------------------------------------------------------------\u001b[0m",
      "\u001b[1;31mAssertionError\u001b[0m                            Traceback (most recent call last)",
      "Cell \u001b[1;32mIn[34], line 1\u001b[0m\n\u001b[1;32m----> 1\u001b[0m \u001b[38;5;28;01massert\u001b[39;00m \u001b[38;5;241m5\u001b[39m \u001b[38;5;241m<\u001b[39m \u001b[38;5;241m4\u001b[39m, \u001b[38;5;124m\"\u001b[39m\u001b[38;5;124m5 is not smaller than 4\u001b[39m\u001b[38;5;124m\"\u001b[39m\n",
      "\u001b[1;31mAssertionError\u001b[0m: 5 is not smaller than 4"
     ]
    }
   ],
   "source": [
    "assert 5 < 4, \"5 is not smaller than 4\""
   ]
  },
  {
   "cell_type": "code",
   "execution_count": 35,
   "metadata": {},
   "outputs": [],
   "source": [
    "assert 5 > 4, \"5 is not smaller than 4\""
   ]
  },
  {
   "cell_type": "code",
   "execution_count": 37,
   "metadata": {},
   "outputs": [
    {
     "name": "stdout",
     "output_type": "stream",
     "text": [
      "1.0\n"
     ]
    },
    {
     "ename": "AssertionError",
     "evalue": "Funkce funguje pouze pro numerický vstup!",
     "output_type": "error",
     "traceback": [
      "\u001b[1;31m---------------------------------------------------------------------------\u001b[0m",
      "\u001b[1;31mAssertionError\u001b[0m                            Traceback (most recent call last)",
      "Cell \u001b[1;32mIn[37], line 6\u001b[0m\n\u001b[0;32m      3\u001b[0m     \u001b[38;5;28;01mreturn\u001b[39;00m cislo\u001b[38;5;241m/\u001b[39m\u001b[38;5;241m2\u001b[39m\n\u001b[0;32m      5\u001b[0m \u001b[38;5;28mprint\u001b[39m(vrat_polovinu(\u001b[38;5;241m2\u001b[39m))\n\u001b[1;32m----> 6\u001b[0m \u001b[43mvrat_polovinu\u001b[49m\u001b[43m(\u001b[49m\u001b[38;5;124;43m\"\u001b[39;49m\u001b[38;5;124;43mA\u001b[39;49m\u001b[38;5;124;43m\"\u001b[39;49m\u001b[43m)\u001b[49m\n",
      "Cell \u001b[1;32mIn[37], line 2\u001b[0m, in \u001b[0;36mvrat_polovinu\u001b[1;34m(cislo)\u001b[0m\n\u001b[0;32m      1\u001b[0m \u001b[38;5;28;01mdef\u001b[39;00m \u001b[38;5;21mvrat_polovinu\u001b[39m(cislo):\n\u001b[1;32m----> 2\u001b[0m     \u001b[38;5;28;01massert\u001b[39;00m \u001b[38;5;28misinstance\u001b[39m(cislo, \u001b[38;5;28mint\u001b[39m) \u001b[38;5;129;01mor\u001b[39;00m \u001b[38;5;28misinstance\u001b[39m(cislo, \u001b[38;5;28mfloat\u001b[39m), \u001b[38;5;124m\"\u001b[39m\u001b[38;5;124mFunkce funguje pouze pro numerický vstup!\u001b[39m\u001b[38;5;124m\"\u001b[39m\n\u001b[0;32m      3\u001b[0m     \u001b[38;5;28;01mreturn\u001b[39;00m cislo\u001b[38;5;241m/\u001b[39m\u001b[38;5;241m2\u001b[39m\n",
      "\u001b[1;31mAssertionError\u001b[0m: Funkce funguje pouze pro numerický vstup!"
     ]
    }
   ],
   "source": [
    "def vrat_polovinu(cislo):\n",
    "    assert isinstance(cislo, int) or isinstance(cislo, float), \"Funkce funguje pouze pro numerický vstup!\"\n",
    "    return cislo/2\n",
    "\n",
    "print(vrat_polovinu(2))\n",
    "vrat_polovinu(\"A\")"
   ]
  },
  {
   "cell_type": "code",
   "execution_count": 32,
   "metadata": {},
   "outputs": [
    {
     "ename": "SyntaxError",
     "evalue": "incomplete input (4001644310.py, line 5)",
     "output_type": "error",
     "traceback": [
      "\u001b[1;36m  Cell \u001b[1;32mIn[32], line 5\u001b[1;36m\u001b[0m\n\u001b[1;33m    print(next(it))\u001b[0m\n\u001b[1;37m                   ^\u001b[0m\n\u001b[1;31mSyntaxError\u001b[0m\u001b[1;31m:\u001b[0m incomplete input\n"
     ]
    }
   ],
   "source": [
    "seznam = (1, 2, 3)\n",
    "it = iter(seznam)\n",
    "while True:\n",
    "    try:\n",
    "        print(next(it))"
   ]
  },
  {
   "cell_type": "code",
   "execution_count": 31,
   "metadata": {},
   "outputs": [
    {
     "name": "stdout",
     "output_type": "stream",
     "text": [
      "1\n",
      "2\n",
      "3\n"
     ]
    }
   ],
   "source": [
    "seznam = (1, 2, 3)\n",
    "it = iter(seznam)\n",
    "while True:\n",
    "    try:\n",
    "        print(next(it))\n",
    "    except StopIteration:\n",
    "        break"
   ]
  },
  {
   "cell_type": "markdown",
   "metadata": {},
   "source": [
    "<h3> Cvičení v hodině </h3>"
   ]
  },
  {
   "cell_type": "code",
   "execution_count": 47,
   "metadata": {},
   "outputs": [
    {
     "name": "stdout",
     "output_type": "stream",
     "text": [
      "Obsah byl načten\n",
      "Burkin,  Ouhkiou\n",
      "Burundi,  Bujumb\n",
      "Cabo Verde,  Praia\n",
      "Cambodia,  Phoe Je\n",
      "Warsav,  Poland\n",
      "Stopchativ,  Ukraine\n",
      "Cameroon,  Yaodun\n",
      "Kyiv,  Ukraine\n",
      "Prague,  Czechia\n",
      "Budapest,  Hungary\n",
      "Paname City,  Paname\n",
      "Boston,  Usa\n",
      "New York,  Usa\n",
      "Mexico City,  Mexico\n"
     ]
    },
    {
     "ename": "SystemExit",
     "evalue": "",
     "output_type": "error",
     "traceback": [
      "An exception has occurred, use %tb to see the full traceback.\n",
      "\u001b[1;31mSystemExit\u001b[0m\n"
     ]
    },
    {
     "name": "stderr",
     "output_type": "stream",
     "text": [
      "C:\\Users\\Michal\\AppData\\Local\\Packages\\PythonSoftwareFoundation.Python.3.11_qbz5n2kfra8p0\\LocalCache\\local-packages\\Python311\\site-packages\\IPython\\core\\interactiveshell.py:3561: UserWarning: To exit: use 'exit', 'quit', or Ctrl-D.\n",
      "  warn(\"To exit: use 'exit', 'quit', or Ctrl-D.\", stacklevel=1)\n"
     ]
    }
   ],
   "source": [
    "#přečíst soubor, printovat a zastavit u STOPky\n",
    "import sys\n",
    "\n",
    "def read_text_file(fpath: str) -> list[str]:\n",
    "    # f = open(...)\n",
    "    with open(fpath, mode=\"r\", encoding=\"utf-8\") as f:      #f jako file, fpath jako file path\n",
    "        print(\"Obsah byl načten\")\n",
    "        return f.readlines()        #vhodnější kvůli formatu, vrací list stringů (1 string = 1 řádek)\n",
    "\n",
    "def process_line(line: str) -> None:\n",
    "    if \"stop\" == line.strip().lower():          #řádek má totiž v sobě symbol nového řádku !\n",
    "        sys.exit()\n",
    "    country, city = line.strip().split(\",\")        #strip pro smazání mezer ale hlavně symbolů nových řádků (!!!)\n",
    "                #když máme vpravo list 2 prvků, tam můžeme assignout i dvě proměnné\n",
    "    print(f\"{country.title()}, {city.title()}\")\n",
    "\n",
    "def process_text_file(fpath: str):\n",
    "    #přečíst soubor\n",
    "    content = read_text_file(fpath)\n",
    "    #vypsat řáky\n",
    "    for i in content:\n",
    "        process_line(i)\n",
    "\n",
    "process_text_file(fpath=\"cities_in.txt\")"
   ]
  },
  {
   "cell_type": "markdown",
   "metadata": {},
   "source": [
    "<h3> Cvičení 1: Čtečka řádků </h3>"
   ]
  },
  {
   "cell_type": "code",
   "execution_count": 41,
   "metadata": {},
   "outputs": [
    {
     "name": "stdout",
     "output_type": "stream",
     "text": [
      "Python,\n",
      "Scala,\n",
      "JavaScript,\n",
      "Java.\n",
      "\n",
      "Soubor: c:\\Users\\Michal\\Desktop\\Engeto python\\jazykyy.txt neexistuje!\n",
      "[]\n"
     ]
    }
   ],
   "source": [
    "import os\n",
    "\n",
    "obsah_souboru = \"\"\"Python,\n",
    "Scala,\n",
    "JavaScript,\n",
    "Java.\n",
    "\"\"\"\n",
    "\n",
    "# with open(\"jazyky.txt\", mode=\"w\") as txt:\n",
    "#     txt.write(obsah_souboru)\n",
    "\n",
    "def nacti_radky(cesta_k_souboru):\n",
    "    try:\n",
    "        soubor = open(cesta_k_souboru)\n",
    "    except:\n",
    "        print(f'Soubor: {cesta_k_souboru} neexistuje!')\n",
    "        vysledek = []\n",
    "    else:\n",
    "        vysledek = soubor.read()\n",
    "        soubor.close()\n",
    "    finally:\n",
    "        return vysledek\n",
    "\n",
    "vysledek = nacti_radky(os.path.join(os.getcwd(), \"jazyky.txt\"))\n",
    "print(vysledek)\n",
    "\n",
    "vysledek = nacti_radky(os.path.join(os.getcwd(), \"jazykyy.txt\"))\n",
    "print(vysledek)\n",
    "\n",
    "#\"c:\\Users\\Michal\\Desktop\\Engeto python\\jazyky.txt\"\n",
    "#f\"{os.getcwd()}{os.sep}novy.txt\"\n"
   ]
  },
  {
   "cell_type": "markdown",
   "metadata": {},
   "source": [
    "<h3> Cvičení 2: Sčítáme špinavý list </h3>"
   ]
  },
  {
   "cell_type": "code",
   "execution_count": 5,
   "metadata": {},
   "outputs": [
    {
     "name": "stdout",
     "output_type": "stream",
     "text": [
      "Hodnota asda není čiselný údaj.\n",
      "Hodnota {'zvire': 'kocka'} není čiselný údaj.\n",
      "Hodnota [] není čiselný údaj.\n",
      "Hodnota \\n není čiselný údaj.\n",
      "Výsledek: 10.0\n"
     ]
    }
   ],
   "source": [
    "test = [1, 'asda', {'zvire': 'kocka'}, '3.0', 2.0, [], '\\\\n', 4]\n",
    "\n",
    "def secti_hodnoty(udaje):\n",
    "    vysledek = 0\n",
    "    for i in udaje:\n",
    "        try:\n",
    "            i = float(i)\n",
    "        except:\n",
    "            print(f\"Hodnota {i} není čiselný údaj.\")\n",
    "        else:\n",
    "            vysledek = vysledek + i\n",
    "    return vysledek\n",
    "    \n",
    "print(f\"Výsledek: {secti_hodnoty(test)}\")"
   ]
  },
  {
   "cell_type": "markdown",
   "metadata": {},
   "source": [
    "<h3> Cvičení 3: Slovníkový vyhledávač </h3>"
   ]
  },
  {
   "cell_type": "code",
   "execution_count": 38,
   "metadata": {},
   "outputs": [
    {
     "name": "stdout",
     "output_type": "stream",
     "text": [
      "Klíč: jmeno, nalezen.\n",
      "True\n",
      "Klíč: jmMeno, nalezen.\n",
      "Hodnota Pepa, nenalezena.\n",
      "False\n",
      "Klíč: jmeno, nalezen.\n",
      "Hodnota Pavel, nenalezena.\n",
      "False\n"
     ]
    }
   ],
   "source": [
    "muj_slovnik = {\n",
    "    'jmeno':'Pepa',\n",
    "    'prijmeni': 'Novak',\n",
    "    'rok_narozeni': 1990\n",
    "}\n",
    "\n",
    "\n",
    "def obsahuje_klic_a_hodnotu(klic, hodnota, slovnik):\n",
    "    try:\n",
    "        nalez = slovnik.get(klic)\n",
    "    except KeyError:\n",
    "        print(f\"Klíč: {klic}, nenalezen.\")\n",
    "        vysledek = False\n",
    "    else:\n",
    "        print(f\"Klíč: {klic}, nalezen.\")\n",
    "        if nalez == hodnota:\n",
    "            vysledek = True\n",
    "        else:\n",
    "            print(f\"Hodnota {hodnota}, nenalezena.\")\n",
    "            vysledek = False\n",
    "        return vysledek\n",
    "   \n",
    "print(obsahuje_klic_a_hodnotu(\"jmeno\", \"Pepa\", muj_slovnik))\n",
    "print(obsahuje_klic_a_hodnotu(\"jmMeno\", \"Pepa\", muj_slovnik))\n",
    "print(obsahuje_klic_a_hodnotu(\"jmeno\", \"Pavel\", muj_slovnik))"
   ]
  },
  {
   "cell_type": "markdown",
   "metadata": {},
   "source": [
    "<h2> Debugování </h2>\n",
    "\n",
    "- aka odstraňování chyb\n",
    "- = snaha najít místo ohlášení, které buď způsobuje výjimku nebo nečekané chování\n",
    "- traceback ... takový hledač, to je to, co se pak vypisuje, když nastane chyba\n",
    "- callstack ... eviduje pořadí kroků, aby bylo možné chyby dohledat\n",
    "- execution frame ... v tom se spouští celý zápis; objekt, který má vždy jméno rámce (třeba jméno fce), číslo řádku, výpis objektů z local a global rámce\n",
    "- pomocí zabudovaných fcí\n",
    "    - fce print ... printnu si třeba novou proměnnou, kterou vytvářím a může/je tam chyba\n",
    "    - fce type ... podobně jak výše, když chci vědět, s čím dělám\n",
    "    - fce vars ... používá se ve fci a vrací seznam použitých proměnných (v podobě dictu)\n",
    "- v PyCharmu je debuggovací tool ...\n",
    "- imo je i VS code, jen tam není default\n",
    "- každopádně basically to funguje tak, že v debug módu nastavím breaking point, ke kterému když interpret dojde, tak se dočasně zastaví\n",
    "- ... když se to pak spustí v tom módu, tak se to zastaví v tom bodě a skrze tab Variable ukáže hodnotu proměnných\n",
    "- ... když chybu nenajdu, tak pokračuju na další breaking point ... případně si nastavím nový"
   ]
  }
 ],
 "metadata": {
  "kernelspec": {
   "display_name": "Python 3",
   "language": "python",
   "name": "python3"
  },
  "language_info": {
   "codemirror_mode": {
    "name": "ipython",
    "version": 3
   },
   "file_extension": ".py",
   "mimetype": "text/x-python",
   "name": "python",
   "nbconvert_exporter": "python",
   "pygments_lexer": "ipython3",
   "version": "3.11.6"
  }
 },
 "nbformat": 4,
 "nbformat_minor": 2
}
