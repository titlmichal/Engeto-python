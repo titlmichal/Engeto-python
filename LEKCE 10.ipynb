{
 "cells": [
  {
   "cell_type": "markdown",
   "metadata": {},
   "source": [
    "<h1> LEKCE 9 </h1>\n",
    "\n",
    "-\n",
    "\n",
    "<h2> Výjimky </h2>\n",
    "\n",
    "- vyjímka = chyba (error/exception)\n",
    "    - NameError, SyntaxError, ...\n",
    "- 3 typy: syntaktické (nedodržení předpisu Pythonu), běhové (chyba při interpretaci), logické (funguje jinak, než chci)\n",
    "- syntaktické\n",
    "    - SyntaxError\n",
    "    - většina IDEs to podtrhne (např. chybějící dvojtečka v if else) = linters\n",
    "    - v cmd to umí třeba Pylint nebo flake8\n",
    "- běhové\n",
    "    - runtime error aj.\n",
    "    - když třeba prvně definuji fci na dělení, která je ok, pak ji hodím do for cyklu, kde ale narazí na string po xté iteraci\n",
    "- logické\n",
    "    - tyhle už není tak snadné odhalit: např. (x + y / 2) kde x = 3 a y = 5 --> výsledek 5.5 (nutně to není chyba, pokud skutečně prvně chci dělit a ne sčítat)\n",
    "\n",
    "<h2> Zacházení s výjimkami </h2>\n",
    "\n",
    "- jak Pythonu říct, že má s něčím počítat\n",
    "- --> syntax try/except\n",
    "- když nenajde vyjímku --> jede jak má\n",
    "- když najde (dle specifikace za except ...) --> použije except větev\n",
    "- každopádně tam musí být hlavně try větev (!): pod kterou odsadím běžný obsah funkce/programu, whatever\n",
    "- except větví může být i víc (!)\n",
    "- nebo taky lze chyby dát do závorky a mít jich víc pro jednu větev (viz níže)\n",
    "- nebo za except nemusím nutně psát typ chyby (!) a spadnou tam všechny\n",
    "- ... kombinování typů chyb do jedné větve nebo nepsaní typů vůbec je ale blbý, protože nevím, co chybu způsobilo!\n",
    "- lze to zkombinovat i s else: try --> except --> ... --> else\n",
    "    - funguje to pak tak, že zkusí to try, pokud nenastane vyjímka, provede else (když nastane, viz jak předchozí)\n",
    "    - je to lepší v tom, že try pak zkouší jen jednu věc a většinu přesouvá pod else --> TOTO POUŽÍVAT!\n",
    "- try/except/else/finally\n",
    "    - to výše se dá ještě rozšířit o finally na konci\n",
    "    - používá se na provedení něčeho, co se má stát, ať už nastane vyjímka nebo ne\n",
    "    - nehodí se to vždy, ale může to být občas handy (z hlavy mě napadá na validování, že se všechno použilo/počítání iterací apod.)\n",
    "- tyhle věci jsou na běhové, ne syntaktické chyby !"
   ]
  },
  {
   "cell_type": "code",
   "execution_count": 7,
   "metadata": {},
   "outputs": [
    {
     "name": "stdout",
     "output_type": "stream",
     "text": [
      "1.0\n",
      "1.0\n",
      "Nemůžeš dělit nulou\n",
      "Nelze dělit string!\n",
      "1.0\n"
     ]
    }
   ],
   "source": [
    "def vrat_vysledek(cislo: int, delitel: int) -> float:\n",
    "    try:\n",
    "        print(cislo / delitel)\n",
    "    except TypeError:\n",
    "        print(\"Nelze dělit string!\")\n",
    "    except ZeroDivisionError:  \n",
    "        print(\"Nemůžeš dělit nulou\")\n",
    "    \n",
    "    \n",
    "for cislo, delitel in zip((1, 2, 3, \"4\", 5), (1, 2, 0, 4, 5)):\n",
    "    vrat_vysledek(cislo, delitel)"
   ]
  },
  {
   "cell_type": "code",
   "execution_count": 8,
   "metadata": {},
   "outputs": [
    {
     "name": "stdout",
     "output_type": "stream",
     "text": [
      "1.0\n",
      "1.0\n",
      "Chyba při dělení!\n",
      "Chyba při dělení!\n",
      "1.0\n"
     ]
    }
   ],
   "source": [
    "def vrat_vysledek(cislo: int, delitel: int) -> float:\n",
    "    try:\n",
    "        print(cislo / delitel)\n",
    "    except (TypeError, ZeroDivisionError):\n",
    "        print(\"Chyba při dělení!\")\n",
    "    \n",
    "    \n",
    "for cislo, delitel in zip((1, 2, 3, \"4\", 5), (1, 2, 0, 4, 5)):\n",
    "    vrat_vysledek(cislo, delitel)"
   ]
  },
  {
   "cell_type": "code",
   "execution_count": 9,
   "metadata": {},
   "outputs": [
    {
     "name": "stdout",
     "output_type": "stream",
     "text": [
      "1.0\n",
      "1.0\n",
      "Chyba!\n",
      "Chyba!\n",
      "1.0\n"
     ]
    }
   ],
   "source": [
    "def vrat_vysledek(cislo: int, delitel: int) -> float:\n",
    "    try:\n",
    "        print(cislo / delitel)\n",
    "    except:\n",
    "        print(\"Chyba!\")\n",
    "    \n",
    "    \n",
    "for cislo, delitel in zip((1, 2, 3, \"4\", 5), (1, 2, 0, 4, 5)):\n",
    "    vrat_vysledek(cislo, delitel)"
   ]
  },
  {
   "cell_type": "code",
   "execution_count": 10,
   "metadata": {},
   "outputs": [
    {
     "name": "stdout",
     "output_type": "stream",
     "text": [
      "1.0\n",
      "1.0\n",
      "Nemůžeš dělit nulou\n",
      "Nelze dělit string!\n",
      "1.0\n"
     ]
    }
   ],
   "source": [
    "def vrat_vysledek(cislo: int, delitel: int) -> float:\n",
    "    try:\n",
    "        vysledek = cislo / delitel\n",
    "    except TypeError:\n",
    "        print(\"Nelze dělit string!\")\n",
    "    except ZeroDivisionError:  \n",
    "        print(\"Nemůžeš dělit nulou\")\n",
    "    else:\n",
    "        print(vysledek)\n",
    "\n",
    "for cislo, delitel in zip((1, 2, 3, \"4\", 5), (1, 2, 0, 4, 5)):\n",
    "    vrat_vysledek(cislo, delitel)"
   ]
  },
  {
   "cell_type": "code",
   "execution_count": 11,
   "metadata": {},
   "outputs": [
    {
     "name": "stdout",
     "output_type": "stream",
     "text": [
      "1.0\n",
      "...zpracováno...\n",
      "1.0\n",
      "...zpracováno...\n",
      "Nemůžeš dělit nulou\n",
      "...zpracováno...\n",
      "Nelze dělit string!\n",
      "...zpracováno...\n",
      "1.0\n",
      "...zpracováno...\n"
     ]
    }
   ],
   "source": [
    "def vrat_vysledek(cislo: int, delitel: int) -> float:\n",
    "    try:\n",
    "        vysledek = cislo / delitel\n",
    "    except TypeError:\n",
    "        print(\"Nelze dělit string!\")\n",
    "    except ZeroDivisionError:  \n",
    "        print(\"Nemůžeš dělit nulou\")\n",
    "    else:\n",
    "        print(vysledek)\n",
    "    finally:\n",
    "        print(\"...zpracováno...\")\n",
    "\n",
    "for cislo, delitel in zip((1, 2, 3, \"4\", 5), (1, 2, 0, 4, 5)):\n",
    "    vrat_vysledek(cislo, delitel)"
   ]
  },
  {
   "cell_type": "markdown",
   "metadata": {},
   "source": [
    "<h3> Cvičení 1: Čtečka řádků </h3>"
   ]
  },
  {
   "cell_type": "code",
   "execution_count": 41,
   "metadata": {},
   "outputs": [
    {
     "name": "stdout",
     "output_type": "stream",
     "text": [
      "Python,\n",
      "Scala,\n",
      "JavaScript,\n",
      "Java.\n",
      "\n",
      "Soubor: c:\\Users\\Michal\\Desktop\\Engeto python\\jazykyy.txt neexistuje!\n",
      "[]\n"
     ]
    }
   ],
   "source": [
    "import os\n",
    "\n",
    "obsah_souboru = \"\"\"Python,\n",
    "Scala,\n",
    "JavaScript,\n",
    "Java.\n",
    "\"\"\"\n",
    "\n",
    "# with open(\"jazyky.txt\", mode=\"w\") as txt:\n",
    "#     txt.write(obsah_souboru)\n",
    "\n",
    "def nacti_radky(cesta_k_souboru):\n",
    "    try:\n",
    "        soubor = open(cesta_k_souboru)\n",
    "    except:\n",
    "        print(f'Soubor: {cesta_k_souboru} neexistuje!')\n",
    "        vysledek = []\n",
    "    else:\n",
    "        vysledek = soubor.read()\n",
    "        soubor.close()\n",
    "    finally:\n",
    "        return vysledek\n",
    "\n",
    "vysledek = nacti_radky(os.path.join(os.getcwd(), \"jazyky.txt\"))\n",
    "print(vysledek)\n",
    "\n",
    "vysledek = nacti_radky(os.path.join(os.getcwd(), \"jazykyy.txt\"))\n",
    "print(vysledek)\n",
    "\n",
    "#\"c:\\Users\\Michal\\Desktop\\Engeto python\\jazyky.txt\"\n",
    "#f\"{os.getcwd()}{os.sep}novy.txt\"\n"
   ]
  },
  {
   "cell_type": "markdown",
   "metadata": {},
   "source": [
    "<h3> Cvičení 2: Sčítáme špinavý list </h3>"
   ]
  },
  {
   "cell_type": "code",
   "execution_count": 5,
   "metadata": {},
   "outputs": [
    {
     "name": "stdout",
     "output_type": "stream",
     "text": [
      "Hodnota asda není čiselný údaj.\n",
      "Hodnota {'zvire': 'kocka'} není čiselný údaj.\n",
      "Hodnota [] není čiselný údaj.\n",
      "Hodnota \\n není čiselný údaj.\n",
      "Výsledek: 10.0\n"
     ]
    }
   ],
   "source": [
    "test = [1, 'asda', {'zvire': 'kocka'}, '3.0', 2.0, [], '\\\\n', 4]\n",
    "\n",
    "def secti_hodnoty(udaje):\n",
    "    vysledek = 0\n",
    "    for i in udaje:\n",
    "        try:\n",
    "            i = float(i)\n",
    "        except:\n",
    "            print(f\"Hodnota {i} není čiselný údaj.\")\n",
    "        else:\n",
    "            vysledek = vysledek + i\n",
    "    return vysledek\n",
    "    \n",
    "print(f\"Výsledek: {secti_hodnoty(test)}\")"
   ]
  },
  {
   "cell_type": "markdown",
   "metadata": {},
   "source": [
    "<h3> Cvičení 3: Slovníkový vyhledávač </h3>"
   ]
  },
  {
   "cell_type": "code",
   "execution_count": 38,
   "metadata": {},
   "outputs": [
    {
     "name": "stdout",
     "output_type": "stream",
     "text": [
      "Klíč: jmeno, nalezen.\n",
      "True\n",
      "Klíč: jmMeno, nalezen.\n",
      "Hodnota Pepa, nenalezena.\n",
      "False\n",
      "Klíč: jmeno, nalezen.\n",
      "Hodnota Pavel, nenalezena.\n",
      "False\n"
     ]
    }
   ],
   "source": [
    "muj_slovnik = {\n",
    "    'jmeno':'Pepa',\n",
    "    'prijmeni': 'Novak',\n",
    "    'rok_narozeni': 1990\n",
    "}\n",
    "\n",
    "\n",
    "def obsahuje_klic_a_hodnotu(klic, hodnota, slovnik):\n",
    "    try:\n",
    "        nalez = slovnik.get(klic)\n",
    "    except KeyError:\n",
    "        print(f\"Klíč: {klic}, nenalezen.\")\n",
    "        vysledek = False\n",
    "    else:\n",
    "        print(f\"Klíč: {klic}, nalezen.\")\n",
    "        if nalez == hodnota:\n",
    "            vysledek = True\n",
    "        else:\n",
    "            print(f\"Hodnota {hodnota}, nenalezena.\")\n",
    "            vysledek = False\n",
    "        return vysledek\n",
    "   \n",
    "print(obsahuje_klic_a_hodnotu(\"jmeno\", \"Pepa\", muj_slovnik))\n",
    "print(obsahuje_klic_a_hodnotu(\"jmMeno\", \"Pepa\", muj_slovnik))\n",
    "print(obsahuje_klic_a_hodnotu(\"jmeno\", \"Pavel\", muj_slovnik))"
   ]
  },
  {
   "cell_type": "markdown",
   "metadata": {},
   "source": [
    "<h2> Debugování </h2>\n",
    "\n",
    "- aka odstraňování chyb\n",
    "- = snaha najít místo ohlášení, které buď způsobuje výjimku nebo nečekané chování\n",
    "- traceback ... takový hledač, to je to, co se pak vypisuje, když nastane chyba\n",
    "- callstack ... eviduje pořadí kroků, aby bylo možné chyby dohledat\n",
    "- execution frame ... v tom se spouští celý zápis; objekt, který má vždy jméno rámce (třeba jméno fce), číslo řádku, výpis objektů z local a global rámce\n",
    "- pomocí zabudovaných fcí\n",
    "    - fce print ... printnu si třeba novou proměnnou, kterou vytvářím a může/je tam chyba\n",
    "    - fce type ... podobně jak výše, když chci vědět, s čím dělám\n",
    "    - fce vars ... používá se ve fci a vrací seznam použitých proměnných (v podobě dictu)\n",
    "- v PyCharmu je debuggovací tool ...\n",
    "- imo je i VS code, jen tam není default\n",
    "- každopádně basically to funguje tak, že v debug módu nastavím breaking point, ke kterému když interpret dojde, tak se dočasně zastaví\n",
    "- ... když se to pak spustí v tom módu, tak se to zastaví v tom bodě a skrze tab Variable ukáže hodnotu proměnných\n",
    "- ... když chybu nenajdu, tak pokračuju na další breaking point ... případně si nastavím nový"
   ]
  }
 ],
 "metadata": {
  "kernelspec": {
   "display_name": "Python 3",
   "language": "python",
   "name": "python3"
  },
  "language_info": {
   "codemirror_mode": {
    "name": "ipython",
    "version": 3
   },
   "file_extension": ".py",
   "mimetype": "text/x-python",
   "name": "python",
   "nbconvert_exporter": "python",
   "pygments_lexer": "ipython3",
   "version": "3.11.6"
  }
 },
 "nbformat": 4,
 "nbformat_minor": 2
}
