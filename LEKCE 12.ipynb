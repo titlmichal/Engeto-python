{
 "cells": [
  {
   "cell_type": "markdown",
   "metadata": {},
   "source": [
    "<h1> LEKCE 12 </h1>\n",
    "\n",
    "<h2> Knihovny třetích stran </h2>\n",
    "\n",
    "- builtin (https://docs.python.org/3/library/index.html) X 3rd party knihovny\n",
    "- builtin dělám přes import, 3rd party mi ale chodí chybu tímto způsobem - není mezi knihovnami, kde má Python hledat (vi cesta níže)\n",
    "- virtuální prostředí?\n",
    "    - něco jako složky dle projektů, kde jsou vlastní verze Pythonu/knihoven, které se vzájemně nebudou ovlivňovat\n",
    "    - pokud instaluju knihovnu bez virtuálního prostředí, může se stát, že nahradím původní verze (--> možné kolize napříč projekty a tak)\n",
    "- virtuální prostředí lze vytvořit v command lině\n",
    "    - napíšu: python -m venv moje_prvni_prostredi\n",
    "    - vznikne složka s nazvem moje_prvni_prostredi\n",
    "    - napíšu: moje_prvni_prostredi\\Scripts\\Activate.ps1\n",
    "    - tím se údajně aktivuje virtuální prostředí\n",
    "- s tím se instaluje (s celým Pythonem) manažer balíčků pip (pip --version ke zjištění verze)\n",
    "    - když znám jméno knihovny: pip install <jmeno_knihovny>\n",
    "    - podobně odinstalace knihoven: pip uninstall jmeno_knihovny\n",
    "    - seznam knihoven zde: https://pypi.org/\n",
    "- v PyCharmu se nové virtuální prostředí vytváří při každém novém projektu automaticky\n",
    "    - tan taky skrze settings, projekt, interpreter a + lze přidávat nové knihovny\n",
    "- dobré je pak přikládat nějaký texťák k projektům, kde používám knihovny 3. stran"
   ]
  },
  {
   "cell_type": "code",
   "execution_count": 1,
   "metadata": {},
   "outputs": [],
   "source": [
    "import uuid\n",
    "import random\n",
    "import typing"
   ]
  },
  {
   "cell_type": "code",
   "execution_count": 2,
   "metadata": {},
   "outputs": [
    {
     "ename": "ModuleNotFoundError",
     "evalue": "No module named 'flask'",
     "output_type": "error",
     "traceback": [
      "\u001b[1;31m---------------------------------------------------------------------------\u001b[0m",
      "\u001b[1;31mModuleNotFoundError\u001b[0m                       Traceback (most recent call last)",
      "Cell \u001b[1;32mIn[2], line 1\u001b[0m\n\u001b[1;32m----> 1\u001b[0m \u001b[38;5;28;01mimport\u001b[39;00m \u001b[38;5;21;01mflask\u001b[39;00m\n",
      "\u001b[1;31mModuleNotFoundError\u001b[0m: No module named 'flask'"
     ]
    }
   ],
   "source": [
    "import flask"
   ]
  },
  {
   "cell_type": "code",
   "execution_count": 3,
   "metadata": {},
   "outputs": [
    {
     "name": "stdout",
     "output_type": "stream",
     "text": [
      "['c:\\\\Users\\\\Michal\\\\Desktop\\\\Engeto python',\n",
      " 'C:\\\\Program '\n",
      " 'Files\\\\WindowsApps\\\\PythonSoftwareFoundation.Python.3.11_3.11.1776.0_x64__qbz5n2kfra8p0\\\\python311.zip',\n",
      " 'C:\\\\Program '\n",
      " 'Files\\\\WindowsApps\\\\PythonSoftwareFoundation.Python.3.11_3.11.1776.0_x64__qbz5n2kfra8p0\\\\DLLs',\n",
      " 'C:\\\\Program '\n",
      " 'Files\\\\WindowsApps\\\\PythonSoftwareFoundation.Python.3.11_3.11.1776.0_x64__qbz5n2kfra8p0\\\\Lib',\n",
      " 'C:\\\\Program '\n",
      " 'Files\\\\WindowsApps\\\\PythonSoftwareFoundation.Python.3.11_3.11.1776.0_x64__qbz5n2kfra8p0',\n",
      " '',\n",
      " 'C:\\\\Users\\\\Michal\\\\AppData\\\\Local\\\\Packages\\\\PythonSoftwareFoundation.Python.3.11_qbz5n2kfra8p0\\\\LocalCache\\\\local-packages\\\\Python311\\\\site-packages',\n",
      " 'C:\\\\Users\\\\Michal\\\\AppData\\\\Local\\\\Packages\\\\PythonSoftwareFoundation.Python.3.11_qbz5n2kfra8p0\\\\LocalCache\\\\local-packages\\\\Python311\\\\site-packages\\\\win32',\n",
      " 'C:\\\\Users\\\\Michal\\\\AppData\\\\Local\\\\Packages\\\\PythonSoftwareFoundation.Python.3.11_qbz5n2kfra8p0\\\\LocalCache\\\\local-packages\\\\Python311\\\\site-packages\\\\win32\\\\lib',\n",
      " 'C:\\\\Users\\\\Michal\\\\AppData\\\\Local\\\\Packages\\\\PythonSoftwareFoundation.Python.3.11_qbz5n2kfra8p0\\\\LocalCache\\\\local-packages\\\\Python311\\\\site-packages\\\\Pythonwin',\n",
      " 'C:\\\\Program '\n",
      " 'Files\\\\WindowsApps\\\\PythonSoftwareFoundation.Python.3.11_3.11.1776.0_x64__qbz5n2kfra8p0\\\\Lib\\\\site-packages']\n"
     ]
    }
   ],
   "source": [
    "from sys import path\n",
    "from pprint import pprint\n",
    "\n",
    "pprint(path)"
   ]
  },
  {
   "cell_type": "markdown",
   "metadata": {},
   "source": [
    "<h2> Úvod do web scrapingu </h2>\n",
    "\n",
    "- když mi nejde o zážitek z webu, ale data\n",
    "- 3 základní kroky před scrapováním\n",
    "    - 1) jak data vyhledat\n",
    "    - 2) jak získat jejich zdroj\n",
    "    - 3) jak přečíst tento zdroj\n",
    "- vyhledávání dat: klasika skrze prohlížeč najít, co chci\n",
    "- získávání podkladů webu: skrze HTTP/HTTPS protokoly posílám požadavky a server vrací odpovědi (dotazy get, post, put, delete, ...)\n",
    "- zdrojový kód: viz klasika skrze prohlížeč, HTML formát\n",
    "- HTML (hypertext markup language) úvod\n",
    "    - (!) když si tenhle markdown otevřu jen v read režimu, tak html příklady nebudou vidět z podstaty věci (!)\n",
    "    - HTML používá tagy, např. <div></div>\n",
    "    - tagy jsou párové, jeden tag otevírá, druhý zavírá (ten s lomítkem), ALE existují i nepárové (např <br> nebo <img>)\n",
    "    - některé tagy jsou zarovnané, jiné odsazené\n",
    "    - tagy taky lze dělit na hlavní rodičovské (<div>), odsazené potomky (<li>, <a>) a sourozence na stejné úrovni jako potomci\n",
    "    - atributy tagů: velmi podobné dictům v Pythonu, viz div id=\"menu\" ... účelem je přidat nějaké doplňující nebo rozšiřující chování, tvoří je klíč a hodnota, spojené pomocí =\n",
    "    - příklady níže\n",
    "\n",
    "<a href=\"https://www.google.com/\" target=\"_blank\">Go to Google</a>\n",
    "\n",
    "<!-- pouze vzorový zápis -->\n",
    "<body>\n",
    "<div id=\"menu\">\n",
    "<li>\n",
    "<a href=\"http://XXXXXXX.cz\" title=\"\">Homepage</a>\n",
    "</li>\n",
    "</div>\n",
    "</body>\n",
    "<div id=\"menu\">\n",
    "    <li>\n",
    "        <a href=\"XYZ\">Homepage</a>\n",
    "        <a href=\"MNO\">Source</a>\n",
    "    </li>\n",
    "</div>"
   ]
  },
  {
   "cell_type": "markdown",
   "metadata": {},
   "source": [
    "<h2> Úvod do web scrapingu - pokračování </h2>\n",
    "\n",
    "- "
   ]
  }
 ],
 "metadata": {
  "kernelspec": {
   "display_name": "Python 3",
   "language": "python",
   "name": "python3"
  },
  "language_info": {
   "codemirror_mode": {
    "name": "ipython",
    "version": 3
   },
   "file_extension": ".py",
   "mimetype": "text/x-python",
   "name": "python",
   "nbconvert_exporter": "python",
   "pygments_lexer": "ipython3",
   "version": "3.11.6"
  }
 },
 "nbformat": 4,
 "nbformat_minor": 2
}
