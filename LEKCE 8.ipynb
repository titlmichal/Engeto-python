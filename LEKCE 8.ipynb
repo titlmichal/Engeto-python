{
 "cells": [
  {
   "cell_type": "markdown",
   "metadata": {},
   "source": [
    "<h1> LEKCE 8 </h1>\n",
    "\n",
    "- raise mi pomůže vyvolat chybu, např.:\n",
    "    - if not isinstance(a, int):\n",
    "        raise ValueError(\"Wrong data type for a\")\n",
    "\n",
    "<h2> PARAMETRY FUNKCÍ </h2>\n",
    "\n",
    "- parametry při definici, argumenty při použití jako hodnoty\n",
    "- všechny možné varianty parametrů:\n",
    "    - poziční (argumenty)\n",
    "    - klíčové\n",
    "    - defaultní\n",
    "    - position-only\n",
    "    - *args\n",
    "    - *kwargs\n",
    "- poziční parametry\n",
    "    - spojení mezi parametry a argumenty je v pořadí, v ničem jiném\n",
    "    - prostě tak klasika, co byla do teď\n",
    "- klíčové argumenty\n",
    "    - když pořadí v tom může dělat hokej, tak zapíš hodnotu argumentu přímo v zápisu fce\n",
    "    - nemůžeme v tom ale dělat hokej ani při zápise ... když jednou použiju klíčový argument v zápise, tak i ostatní (pokud do toho nevstupují typy níže)\n",
    "- defaultní parametry (volitelné)\n",
    "    - prostě výchozí hodnota, když nezadám argument (!) ... takže je nemusím zadat\n",
    "    - podobně jako u printu třeba sep\n",
    "    - v definování fce musím teda definovat i default hodnotu\n",
    "    - uvnitř té funkce jsou uložené defaults (nazev_fce.__defaults__)\n",
    "    - je to ale blbý, když tam použiju jako default hodnotu list (!) nebo jiný mutable iterable --> když ve fci jej budu upravovat, tak změny zůstávají\n",
    "    - zase mi ale přijde, že když to člověk ví, tak se to dá (možná i prakticky) použít\n",
    "    - hodí se to třeba když dělám nějaké kroky (třeba procházím nějaký obrázek s posouvám souřadnice bodů od [0, 0] pomocí navig[0] += 1 ... navig[1] += 1)\n",
    "    - obecně ale není dobré používat mutables jako default parametry --> lepší třeba tuple (který není mutable)\n",
    "- position-only parametry\n",
    "    - od v3.8\n",
    "    - nalevo od lomítka poziční (nepíšu tam nazev_parametru=hodnota), napravo klíčové (napíšu nazev_parametru=hodnota) nebo jaké chci (taky může být poziční)\n",
    "    - na vynucení zápisu argumentu jako pozičního - to před lomítkem nemůžu zapsat jako poziční, to napravo jak chci\n",
    "    - btw třeba funkce len to tak má (v dokumentaci má jako len(__obj=Sized, /)) ... obecně zabudované fce to mívají, uživatelské moc ne\n",
    "    - ALTERNATIVNĚ to mohu obrátit pomocí * místo / --> vše nalevo od * dle pozice nebo jak chci, vše napravo dle jména\n",
    "    - takže když / \n",
    "        - tak vlevo poziční, vpravo jak chci\n",
    "    - když * \n",
    "        - tak vlevo jak chci, vpravo dle jména (klíče)\n",
    "    - používá se to, když chceme donuti uživatele donutit se zamyslet, kterou proměnnou používá jako argument (když třeba parametrů je hodně a dalo by se to splést)\n",
    "    - nebo taky pro vývojáře balíčků/knihoven, když chce vývojář přidat/posunout nějaký argument (a kdyby tam nebyla *, tak při nové verzi by všem uživatelům fce rozbila, protože by se řídila pozicemi, ale ty by už byly jiné v nové verzi oproti staré)\n",
    "- *args\n",
    "    - def nazev_fce(*args): ...\n",
    "    - má to v dokumentaci třeba print, ale není to jakože ... parametr, *, parametr ..., ale je to *parametr\n",
    "    - jde o tu *, parametry se klidně mohou jmenovat argumenty (místo args ... argumenty)\n",
    "    - mohu tak nasypat do fce kolik argumentů chci, resp počet hodnot argumentu, kolik chci\n",
    "    - hodí se to, když třeba nevím, kolik jich budu mít, protože teprve přidjou\n",
    "    - btw ty args (nebo jak si to pojmenujeme s tou *) jsou tuple\n",
    "    - mohu tam mít i více parametrů (def fce(*arg, param)), ale pak to funguje podobně jak * výše --> vpravo od * musíme argument použít pomocí jména/klíče\n",
    "- **kwargs\n",
    "    - opět se to může jmenovat jinak, ale kwargs je konvence jako \"keyword arguments\"\n",
    "    - 2 hvězdičky\n",
    "    - zase když nevím, kolik bude argumentů\n",
    "    - tady jde akorát o to, že jsou klíčové (!), takže v praxi vytvořím název argumentu (v příkladu jmeno) a rovnou = hodnota (v příkladu \"Michal\")\n",
    "    - takže jde o klíčové argumenty\n",
    "    - nejde tedy o množství jednotlivých hodnot (jako u *args), ale o množství párů hodnot (!) ... **kwargs je datový typ dict --> kwargs lze iterovat a dělat s tím vše, co jde se slovníkem\n",
    "    - --> když zkombinuju v parametrech *args a *kwargs, tak můžu dát kolik chci pozičních i kolik chci klíčových"
   ]
  },
  {
   "cell_type": "code",
   "execution_count": 1,
   "metadata": {},
   "outputs": [
    {
     "name": "stdout",
     "output_type": "stream",
     "text": [
      "m.titl\n"
     ]
    }
   ],
   "source": [
    "def spoj_cele_jmeno(jmeno, prijmeni):\n",
    "    return \".\".join(\n",
    "        (\n",
    "            jmeno[0].lower(),\n",
    "            prijmeni.lower()\n",
    "        )\n",
    "    )\n",
    "\n",
    "print(spoj_cele_jmeno(\"Michal\", \"Titl\"))\n",
    "#argument 1 se předal do parametru na první pozici (respektive pozici 0), argument 2 do druhé pozice (resp na pozici 1)"
   ]
  },
  {
   "cell_type": "code",
   "execution_count": 4,
   "metadata": {},
   "outputs": [
    {
     "name": "stdout",
     "output_type": "stream",
     "text": [
      "16.0\n",
      "18.0\n",
      "18.0\n"
     ]
    }
   ],
   "source": [
    "#klíčové argumenty\n",
    "def vypocitej_hodnotu(koef_1, koef_2, koef_3):\n",
    "    \"\"\"\n",
    "    Vypocitej hodnotu na zaklade tri zadanych koeficinetu.\n",
    "    \"\"\"\n",
    "    return (1/koef_1) * (koef_2 ** koef_3)\n",
    "\n",
    "#místo tohoto\n",
    "print(vypocitej_hodnotu(1, 2, 4))\n",
    "\n",
    "#použiju toto\n",
    "print(vypocitej_hodnotu( koef_1=0.5, koef_2=3, koef_3=2))\n",
    "\n",
    "#nezáleží pak na pořadí\n",
    "print(vypocitej_hodnotu( koef_3=2, koef_2=3, koef_1=0.5))"
   ]
  },
  {
   "cell_type": "code",
   "execution_count": 1,
   "metadata": {},
   "outputs": [
    {
     "name": "stdout",
     "output_type": "stream",
     "text": [
      "Ahoj, Michal\n",
      "Ahoj, Kačka\n"
     ]
    },
    {
     "data": {
      "text/plain": [
       "('Michal',)"
      ]
     },
     "execution_count": 1,
     "metadata": {},
     "output_type": "execute_result"
    }
   ],
   "source": [
    "#defaultní parametry\n",
    "def vytvor_pozdrav(jmeno = \"Michal\"):\n",
    "    print(\"Ahoj,\", jmeno)\n",
    "\n",
    "vytvor_pozdrav()\n",
    "vytvor_pozdrav(\"Kačka\")\n",
    "vytvor_pozdrav.__defaults__"
   ]
  },
  {
   "cell_type": "code",
   "execution_count": 11,
   "metadata": {},
   "outputs": [
    {
     "name": "stdout",
     "output_type": "stream",
     "text": [
      "Ahoj, Michal\n",
      "Ahoj, Michal\n"
     ]
    },
    {
     "ename": "TypeError",
     "evalue": "napis_pozdrav() got some positional-only arguments passed as keyword arguments: 'jmeno'",
     "output_type": "error",
     "traceback": [
      "\u001b[1;31m---------------------------------------------------------------------------\u001b[0m",
      "\u001b[1;31mTypeError\u001b[0m                                 Traceback (most recent call last)",
      "Cell \u001b[1;32mIn[11], line 10\u001b[0m\n\u001b[0;32m      8\u001b[0m napis_pozdrav(\u001b[38;5;124m\"\u001b[39m\u001b[38;5;124mMichal\u001b[39m\u001b[38;5;124m\"\u001b[39m, \u001b[38;5;28;01mTrue\u001b[39;00m)\n\u001b[0;32m      9\u001b[0m napis_pozdrav(\u001b[38;5;124m\"\u001b[39m\u001b[38;5;124mMichal\u001b[39m\u001b[38;5;124m\"\u001b[39m, registrovany\u001b[38;5;241m=\u001b[39m\u001b[38;5;28;01mTrue\u001b[39;00m)\n\u001b[1;32m---> 10\u001b[0m \u001b[43mnapis_pozdrav\u001b[49m\u001b[43m(\u001b[49m\u001b[43mjmeno\u001b[49m\u001b[38;5;241;43m=\u001b[39;49m\u001b[38;5;124;43m\"\u001b[39;49m\u001b[38;5;124;43mMichal\u001b[39;49m\u001b[38;5;124;43m\"\u001b[39;49m\u001b[43m,\u001b[49m\u001b[43m \u001b[49m\u001b[43mregistrovany\u001b[49m\u001b[38;5;241;43m=\u001b[39;49m\u001b[38;5;28;43;01mTrue\u001b[39;49;00m\u001b[43m)\u001b[49m\n",
      "\u001b[1;31mTypeError\u001b[0m: napis_pozdrav() got some positional-only arguments passed as keyword arguments: 'jmeno'"
     ]
    }
   ],
   "source": [
    "#position-only parametry\n",
    "def napis_pozdrav(jmeno, /, registrovany):\n",
    "    if not registrovany:\n",
    "        print(\"Nejsi uzivatel!\")\n",
    "    print(\"Ahoj,\", jmeno)\n",
    "\n",
    "\n",
    "napis_pozdrav(\"Michal\", True)\n",
    "napis_pozdrav(\"Michal\", registrovany=True)\n",
    "napis_pozdrav(jmeno=\"Michal\", registrovany=True)"
   ]
  },
  {
   "cell_type": "code",
   "execution_count": 21,
   "metadata": {},
   "outputs": [
    {
     "name": "stdout",
     "output_type": "stream",
     "text": [
      "3.0\n"
     ]
    },
    {
     "ename": "TypeError",
     "evalue": "vypocitej_prumer() takes 1 positional argument but 5 were given",
     "output_type": "error",
     "traceback": [
      "\u001b[1;31m---------------------------------------------------------------------------\u001b[0m",
      "\u001b[1;31mTypeError\u001b[0m                                 Traceback (most recent call last)",
      "Cell \u001b[1;32mIn[21], line 8\u001b[0m\n\u001b[0;32m      6\u001b[0m moje_cisla \u001b[38;5;241m=\u001b[39m (\u001b[38;5;241m1\u001b[39m, \u001b[38;5;241m2\u001b[39m, \u001b[38;5;241m3\u001b[39m, \u001b[38;5;241m4\u001b[39m, \u001b[38;5;241m5\u001b[39m)\n\u001b[0;32m      7\u001b[0m \u001b[38;5;28mprint\u001b[39m(vypocitej_prumer(moje_cisla))\n\u001b[1;32m----> 8\u001b[0m \u001b[38;5;28mprint\u001b[39m(\u001b[43mvypocitej_prumer\u001b[49m\u001b[43m(\u001b[49m\u001b[38;5;241;43m1\u001b[39;49m\u001b[43m,\u001b[49m\u001b[43m \u001b[49m\u001b[38;5;241;43m2\u001b[39;49m\u001b[43m,\u001b[49m\u001b[43m \u001b[49m\u001b[38;5;241;43m3\u001b[39;49m\u001b[43m,\u001b[49m\u001b[43m \u001b[49m\u001b[38;5;241;43m4\u001b[39;49m\u001b[43m,\u001b[49m\u001b[43m \u001b[49m\u001b[38;5;241;43m5\u001b[39;49m\u001b[43m)\u001b[49m)\n",
      "\u001b[1;31mTypeError\u001b[0m: vypocitej_prumer() takes 1 positional argument but 5 were given"
     ]
    }
   ],
   "source": [
    "# *args\n",
    "\n",
    "def vypocitej_prumer(args):\n",
    "    return sum(args)/len(args)\n",
    "\n",
    "moje_cisla = (1, 2, 3, 4, 5)\n",
    "print(vypocitej_prumer(moje_cisla))\n",
    "print(vypocitej_prumer(1, 2, 3, 4, 5))"
   ]
  },
  {
   "cell_type": "code",
   "execution_count": 16,
   "metadata": {},
   "outputs": [
    {
     "name": "stdout",
     "output_type": "stream",
     "text": [
      "3.0\n"
     ]
    }
   ],
   "source": [
    "# *args\n",
    "\n",
    "def vypocitej_prumer(*args):\n",
    "    return sum(args)/len(args)\n",
    "\n",
    "print(vypocitej_prumer(1, 2, 3, 4, 5))"
   ]
  },
  {
   "cell_type": "code",
   "execution_count": 19,
   "metadata": {},
   "outputs": [
    {
     "name": "stdout",
     "output_type": "stream",
     "text": [
      "{'jmeno': 'Michal', 'prijmeni': 'Holinka'}\n",
      "{'jmeno': 'Michal', 'prijmeni': 'Holinka', 'vek': 24, 'email': 'N/A'}\n"
     ]
    }
   ],
   "source": [
    "# **kwargs\n",
    "\n",
    "def vytvor_slovnik(**kwargs):\n",
    "    vysledek = dict()\n",
    "\n",
    "    for klic, hodnota in kwargs.items():\n",
    "        vysledek[klic] = hodnota\n",
    "    return vysledek \n",
    "\n",
    "print(vytvor_slovnik(jmeno=\"Michal\", prijmeni=\"Holinka\"))\n",
    "print(vytvor_slovnik(jmeno=\"Michal\", prijmeni=\"Holinka\", vek=24, email=\"N/A\"))\n"
   ]
  },
  {
   "cell_type": "markdown",
   "metadata": {},
   "source": [
    "<h3> Cvičení 1: Anagram </h3>"
   ]
  },
  {
   "cell_type": "code",
   "execution_count": 29,
   "metadata": {},
   "outputs": [
    {
     "name": "stdout",
     "output_type": "stream",
     "text": [
      "True\n",
      "False\n",
      "False\n",
      "True\n",
      "True\n"
     ]
    }
   ],
   "source": [
    "def je_anagram(*args):\n",
    "    vzor = set(args[0])\n",
    "    vysledek = 0\n",
    "    for i in args:\n",
    "        slovo = set(i)\n",
    "        if slovo != vzor:\n",
    "            vysledek = False\n",
    "            break\n",
    "        else:\n",
    "            vysledek = True\n",
    "    return vysledek\n",
    "\n",
    "print(\n",
    "    je_anagram(\"ship\", \"hips\", \"phis\"),\n",
    "    je_anagram(\"ship\", \"hips\", \"duck\"),\n",
    "    je_anagram(\"ship\", \"duck\", \"hips\"),\n",
    "    je_anagram(\"duck\", \"duck\", \"duck\"),\n",
    "    je_anagram(\"cat\", \"act\", \"tac\"),\n",
    "    sep=\"\\n\"\n",
    ")"
   ]
  },
  {
   "cell_type": "markdown",
   "metadata": {},
   "source": [
    "<h2> RÁMCE V PYTHONU </h2>"
   ]
  },
  {
   "cell_type": "code",
   "execution_count": 1,
   "metadata": {},
   "outputs": [
    {
     "ename": "NameError",
     "evalue": "name 'jmeno' is not defined",
     "output_type": "error",
     "traceback": [
      "\u001b[1;31m---------------------------------------------------------------------------\u001b[0m",
      "\u001b[1;31mNameError\u001b[0m                                 Traceback (most recent call last)",
      "Cell \u001b[1;32mIn[1], line 5\u001b[0m\n\u001b[0;32m      2\u001b[0m     jmeno \u001b[38;5;241m=\u001b[39m \u001b[38;5;124m\"\u001b[39m\u001b[38;5;124mJan\u001b[39m\u001b[38;5;124m\"\u001b[39m\n\u001b[0;32m      4\u001b[0m vytvor_jmeno()\n\u001b[1;32m----> 5\u001b[0m \u001b[38;5;28mprint\u001b[39m(\u001b[43mjmeno\u001b[49m)\n",
      "\u001b[1;31mNameError\u001b[0m: name 'jmeno' is not defined"
     ]
    }
   ],
   "source": [
    "def vytvor_jmeno():\n",
    "    jmeno = \"Jan\"\n",
    "\n",
    "vytvor_jmeno()\n",
    "print(jmeno)"
   ]
  },
  {
   "cell_type": "code",
   "execution_count": 2,
   "metadata": {},
   "outputs": [
    {
     "name": "stdout",
     "output_type": "stream",
     "text": [
      "Jan\n"
     ]
    }
   ],
   "source": [
    "def vytvor_jmeno():\n",
    "    jmeno = \"Jan\"\n",
    "    print(jmeno)\n",
    "\n",
    "vytvor_jmeno()"
   ]
  },
  {
   "cell_type": "markdown",
   "metadata": {},
   "source": [
    "\n",
    "- tady je prý vidět ten rozdíl/význam rámců (aka scopes)\n",
    "- rámce jsou jako slovníky, které mají klíče (jména proměnných) a hodnoty (hodnoty proměnných)\n",
    "- 4 druhy v Pythonu (od toho nejvíc širokého):\n",
    "    - zabudovaný/built-in (scope)\n",
    "    - globální/global\n",
    "    - uzavírající/enclosing/nonlocal\n",
    "    - lokální/local\n",
    "- zabudovaný rámec\n",
    "    - vše standarní, co znám (built-in fce jako print, sum, ..., a typy chyb)\n",
    "    - automaticky se načtou při spuštění, netřeba importu\n",
    "    - ověření přítomnosti skrze dir() a hledání '__builtins__'\n",
    "- globální rámec\n",
    "    - když otevřou soubor .py, tak jdu tímto rámcem\n",
    "    - zde jsou všechny objekty\n",
    "    - vše co je nejvíc vlevo na každém řádku\n",
    "    - např. když po Pythonu chci nějakou hodnotu proměnné (třeba print(jmeno)), tak se podívá do toho global rámce a pokud nenajde tam, hodí chybu (musí být před tím definované, aby to našel)\n",
    "    - zase skrz dir a globals\n",
    "    - po zavření programu nebo interpreta rámec zaniká\n",
    "    - z globálního nevidíme do lokálního (takové krabičky, kterou má třeba každá fce)\n",
    "    - v globálním je vidět vše, co je v zabudovaném (pro nás tam prakticky není rozdíl)\n",
    "- lokální rámec\n",
    "    - globální je 1 jediný moment aktivní jen 1 X lokálních může být několik\n",
    "    - např. každá fce má vlastní\n",
    "    - ověřuju skrze locals, kde ale záleží na pořadí\n",
    "    - důležité je ty rámec nemíchat (nejen lokální s lokálním např. použitím v definici proměnnou, kterou ale nechci po uživateli jako argument a je někde jinde v kódu, ale i lokální s vyšším apod.)\n",
    "- uzavřený rámec\n",
    "    - při nestování fcí, když vnitřní fci nelze spustit bez té hlavní\n",
    "    - toho se používá u tzv. closures\n",
    "- proč ty rámec řešit?\n",
    "    - díky nim lze pracovat se stejnými jmény proměnných uvnitř různých rámců\n",
    "    - když proměnnou Python v daném/aktuálním rámci nenajde --> přesune se o rámec nahoru --> když nenajde --> NameError\n",
    "- v praxi hledáme ze vnitřku ven: v daném lokálním --> (není tam? --> uzavírající rámec) --> když tam není, tak v globálním rámci --> když není ani v globálním, tak do built-in --> když není, tak error\n",
    "- u těch lokálních, uzavírajících rámců tak záleží na úhlu pohledu, respektive objektu dle kterého posuzujeme\n",
    "- identitu proměnné nelze měnit\n",
    "    - když ve fci definuji stejnojmennou proměnnou (bez fce global), tak jejím použitím nezměním její identitu\n",
    "    - ALE když fcí šahám na globální proměnnou (třeba list, ke kterému appenduji), tak hodnotu mohu upravovat (ale nezměním identitu)\n",
    "- BTW kód se dělá ve funkcích, ne přímo"
   ]
  },
  {
   "cell_type": "code",
   "execution_count": 3,
   "metadata": {},
   "outputs": [
    {
     "name": "stdout",
     "output_type": "stream",
     "text": [
      "['ArithmeticError', 'AssertionError', 'AttributeError', 'BaseException', 'BaseExceptionGroup', 'BlockingIOError', 'BrokenPipeError', 'BufferError', 'BytesWarning', 'ChildProcessError', 'ConnectionAbortedError', 'ConnectionError', 'ConnectionRefusedError', 'ConnectionResetError', 'DeprecationWarning', 'EOFError', 'Ellipsis', 'EncodingWarning', 'EnvironmentError', 'Exception', 'ExceptionGroup', 'False', 'FileExistsError', 'FileNotFoundError', 'FloatingPointError', 'FutureWarning', 'GeneratorExit', 'IOError', 'ImportError', 'ImportWarning', 'IndentationError', 'IndexError', 'InterruptedError', 'IsADirectoryError', 'KeyError', 'KeyboardInterrupt', 'LookupError', 'MemoryError', 'ModuleNotFoundError', 'NameError', 'None', 'NotADirectoryError', 'NotImplemented', 'NotImplementedError', 'OSError', 'OverflowError', 'PendingDeprecationWarning', 'PermissionError', 'ProcessLookupError', 'RecursionError', 'ReferenceError', 'ResourceWarning', 'RuntimeError', 'RuntimeWarning', 'StopAsyncIteration', 'StopIteration', 'SyntaxError', 'SyntaxWarning', 'SystemError', 'SystemExit', 'TabError', 'TimeoutError', 'True', 'TypeError', 'UnboundLocalError', 'UnicodeDecodeError', 'UnicodeEncodeError', 'UnicodeError', 'UnicodeTranslateError', 'UnicodeWarning', 'UserWarning', 'ValueError', 'Warning', 'WindowsError', 'ZeroDivisionError', '__IPYTHON__', '__build_class__', '__debug__', '__doc__', '__import__', '__loader__', '__name__', '__package__', '__spec__', 'abs', 'aiter', 'all', 'anext', 'any', 'ascii', 'bin', 'bool', 'breakpoint', 'bytearray', 'bytes', 'callable', 'chr', 'classmethod', 'compile', 'complex', 'copyright', 'credits', 'delattr', 'dict', 'dir', 'display', 'divmod', 'enumerate', 'eval', 'exec', 'execfile', 'filter', 'float', 'format', 'frozenset', 'get_ipython', 'getattr', 'globals', 'hasattr', 'hash', 'help', 'hex', 'id', 'input', 'int', 'isinstance', 'issubclass', 'iter', 'len', 'license', 'list', 'locals', 'map', 'max', 'memoryview', 'min', 'next', 'object', 'oct', 'open', 'ord', 'pow', 'print', 'property', 'range', 'repr', 'reversed', 'round', 'runfile', 'set', 'setattr', 'slice', 'sorted', 'staticmethod', 'str', 'sum', 'super', 'tuple', 'type', 'vars', 'zip']\n"
     ]
    }
   ],
   "source": [
    "print(dir(__builtins__))"
   ]
  },
  {
   "cell_type": "code",
   "execution_count": 6,
   "metadata": {},
   "outputs": [
    {
     "name": "stdout",
     "output_type": "stream",
     "text": [
      "{'__name__': '__main__', '__doc__': 'Automatically created module for IPython interactive environment', '__package__': None, '__loader__': None, '__spec__': None, '__builtin__': <module 'builtins' (built-in)>, '__builtins__': <module 'builtins' (built-in)>, '_ih': ['', 'def vytvor_jmeno():\\n    jmeno = \"Jan\"\\n\\nvytvor_jmeno()\\nprint(jmeno)', 'def vytvor_jmeno():\\n    jmeno = \"Jan\"\\n    print(jmeno)\\n\\nvytvor_jmeno()', 'print(dir(__builtins__))', 'print(globals)', 'print(globals())', 'jmeno = \"Matous\"\\nvek = 44\\nje_uzivatel = True\\n\\nprint(globals())'], '_oh': {}, '_dh': [WindowsPath('c:/Users/Michal/Desktop/Engeto python'), WindowsPath('c:/Users/Michal/Desktop/Engeto python')], 'In': ['', 'def vytvor_jmeno():\\n    jmeno = \"Jan\"\\n\\nvytvor_jmeno()\\nprint(jmeno)', 'def vytvor_jmeno():\\n    jmeno = \"Jan\"\\n    print(jmeno)\\n\\nvytvor_jmeno()', 'print(dir(__builtins__))', 'print(globals)', 'print(globals())', 'jmeno = \"Matous\"\\nvek = 44\\nje_uzivatel = True\\n\\nprint(globals())'], 'Out': {}, 'get_ipython': <bound method InteractiveShell.get_ipython of <ipykernel.zmqshell.ZMQInteractiveShell object at 0x00000217123C0310>>, 'exit': <IPython.core.autocall.ZMQExitAutocall object at 0x00000217123D06D0>, 'quit': <IPython.core.autocall.ZMQExitAutocall object at 0x00000217123D06D0>, 'open': <function open at 0x000002170FEFF740>, '_': '', '__': '', '___': '', '__vsc_ipynb_file__': 'c:\\\\Users\\\\Michal\\\\Desktop\\\\Engeto python\\\\LEKCE 8.ipynb', '_i': 'print(globals())', '_ii': 'print(globals)', '_iii': 'print(dir(__builtins__))', '_i1': 'def vytvor_jmeno():\\n    jmeno = \"Jan\"\\n\\nvytvor_jmeno()\\nprint(jmeno)', 'vytvor_jmeno': <function vytvor_jmeno at 0x0000021712522480>, '_i2': 'def vytvor_jmeno():\\n    jmeno = \"Jan\"\\n    print(jmeno)\\n\\nvytvor_jmeno()', '_i3': 'print(dir(__builtins__))', '_i4': 'print(globals)', '_i5': 'print(globals())', '_i6': 'jmeno = \"Matous\"\\nvek = 44\\nje_uzivatel = True\\n\\nprint(globals())', 'jmeno': 'Matous', 'vek': 44, 'je_uzivatel': True}\n"
     ]
    }
   ],
   "source": [
    "jmeno = \"Matous\"\n",
    "vek = 44\n",
    "je_uzivatel = True\n",
    "\n",
    "print(globals())"
   ]
  },
  {
   "cell_type": "code",
   "execution_count": 10,
   "metadata": {},
   "outputs": [
    {
     "name": "stdout",
     "output_type": "stream",
     "text": [
      "{'__name__': '__main__', '__doc__': 'Automatically created module for IPython interactive environment', '__package__': None, '__loader__': None, '__spec__': None, '__builtin__': <module 'builtins' (built-in)>, '__builtins__': <module 'builtins' (built-in)>, '_ih': ['', '#defaultní parametry\\ndef vytvor_pozdrav(jmeno = \"Michal\"):\\n    print(\"Ahoj,\", jmeno)\\n\\nvytvor_pozdrav()\\nvytvor_pozdrav(\"Kačka\")\\nvytvor_pozdrav.__defaults__', 'def fce(*args)\\n    print(args)\\n\\nfce(1,2,3)', 'def fce(*args):\\n    print(args)\\n\\nfce(1,2,3)', 'def fce(*args):\\n    print(type(args))', 'def fce(*args):\\n    print(type(args))\\n\\nfce(1,23)', 'print(globals())', 'print(globals())\\n#protože jsem v .pynb, tak je toho tady víc, než v normální python souboru\\nprint(globals([\"jmeno\"]))', 'print(globals())\\n#protože jsem v .pynb, tak je toho tady víc, než v normální python souboru\\nprint(globals()[\"jmeno\"])', 'print(globals())\\n#protože jsem v .pynb, tak je toho tady víc, než v normální python souboru\\nprint(globals()[\"vek\"])', 'print(globals())\\n#protože jsem v .pynb, tak je toho tady víc, než v normální python souboru'], '_oh': {1: ('Michal',)}, '_dh': [WindowsPath('c:/Users/Michal/Desktop/Engeto python'), WindowsPath('c:/Users/Michal/Desktop/Engeto python')], 'In': ['', '#defaultní parametry\\ndef vytvor_pozdrav(jmeno = \"Michal\"):\\n    print(\"Ahoj,\", jmeno)\\n\\nvytvor_pozdrav()\\nvytvor_pozdrav(\"Kačka\")\\nvytvor_pozdrav.__defaults__', 'def fce(*args)\\n    print(args)\\n\\nfce(1,2,3)', 'def fce(*args):\\n    print(args)\\n\\nfce(1,2,3)', 'def fce(*args):\\n    print(type(args))', 'def fce(*args):\\n    print(type(args))\\n\\nfce(1,23)', 'print(globals())', 'print(globals())\\n#protože jsem v .pynb, tak je toho tady víc, než v normální python souboru\\nprint(globals([\"jmeno\"]))', 'print(globals())\\n#protože jsem v .pynb, tak je toho tady víc, než v normální python souboru\\nprint(globals()[\"jmeno\"])', 'print(globals())\\n#protože jsem v .pynb, tak je toho tady víc, než v normální python souboru\\nprint(globals()[\"vek\"])', 'print(globals())\\n#protože jsem v .pynb, tak je toho tady víc, než v normální python souboru'], 'Out': {1: ('Michal',)}, 'get_ipython': <bound method InteractiveShell.get_ipython of <ipykernel.zmqshell.ZMQInteractiveShell object at 0x000002B0CC0A01D0>>, 'exit': <IPython.core.autocall.ZMQExitAutocall object at 0x000002B0CC0B05D0>, 'quit': <IPython.core.autocall.ZMQExitAutocall object at 0x000002B0CC0B05D0>, 'open': <function open at 0x000002B0C9BFF740>, '_': ('Michal',), '__': '', '___': '', '__vsc_ipynb_file__': 'c:\\\\Users\\\\Michal\\\\Desktop\\\\Engeto python\\\\LEKCE 8.ipynb', '_i': 'print(globals())\\n#protože jsem v .pynb, tak je toho tady víc, než v normální python souboru\\nprint(globals()[\"vek\"])', '_ii': 'print(globals())\\n#protože jsem v .pynb, tak je toho tady víc, než v normální python souboru\\nprint(globals()[\"jmeno\"])', '_iii': 'print(globals())\\n#protože jsem v .pynb, tak je toho tady víc, než v normální python souboru\\nprint(globals([\"jmeno\"]))', '_i1': '#defaultní parametry\\ndef vytvor_pozdrav(jmeno = \"Michal\"):\\n    print(\"Ahoj,\", jmeno)\\n\\nvytvor_pozdrav()\\nvytvor_pozdrav(\"Kačka\")\\nvytvor_pozdrav.__defaults__', 'vytvor_pozdrav': <function vytvor_pozdrav at 0x000002B0CC0D4D60>, '_1': ('Michal',), '_i2': 'def fce(*args)\\n    print(args)\\n\\nfce(1,2,3)', '_i3': 'def fce(*args):\\n    print(args)\\n\\nfce(1,2,3)', 'fce': <function fce at 0x000002B0CC0D5620>, '_i4': 'def fce(*args):\\n    print(type(args))', '_i5': 'def fce(*args):\\n    print(type(args))\\n\\nfce(1,23)', '_i6': 'print(globals())', '_i7': 'print(globals())\\n#protože jsem v .pynb, tak je toho tady víc, než v normální python souboru\\nprint(globals([\"jmeno\"]))', '_i8': 'print(globals())\\n#protože jsem v .pynb, tak je toho tady víc, než v normální python souboru\\nprint(globals()[\"jmeno\"])', '_i9': 'print(globals())\\n#protože jsem v .pynb, tak je toho tady víc, než v normální python souboru\\nprint(globals()[\"vek\"])', '_i10': 'print(globals())\\n#protože jsem v .pynb, tak je toho tady víc, než v normální python souboru'}\n"
     ]
    }
   ],
   "source": [
    "print(globals())\n",
    "#protože jsem v .pynb, tak je toho tady víc, než v normální python souboru"
   ]
  },
  {
   "cell_type": "code",
   "execution_count": 8,
   "metadata": {},
   "outputs": [
    {
     "name": "stdout",
     "output_type": "stream",
     "text": [
      "{'jmeno': 'michal', 'uzivatel': True, 'pozdrav': 'Ahoj,michal'}\n"
     ]
    }
   ],
   "source": [
    "jmeno = \"michal\"\n",
    "vek = \"24\"\n",
    "je_uzivatel = True\n",
    "\n",
    "def vytvor_pozdrav(jmeno, /, uzivatel):\n",
    "    if not uzivatel:\n",
    "        pozdrav = \"Není user\" + jmeno\n",
    "    else:\n",
    "        pozdrav = \"Ahoj,\" + jmeno\n",
    "    print(locals())\n",
    "    return pozdrav\n",
    "\n",
    "pozdrav = vytvor_pozdrav(jmeno, uzivatel=je_uzivatel)"
   ]
  },
  {
   "cell_type": "code",
   "execution_count": 9,
   "metadata": {},
   "outputs": [
    {
     "name": "stdout",
     "output_type": "stream",
     "text": [
      "uzavírající: {'var_1': 10, 'vnitrni_funkce': <function vnejsi_funkce.<locals>.vnitrni_funkce at 0x0000021712523EC0>}\n",
      "lokální: {'var_2': 20}\n"
     ]
    }
   ],
   "source": [
    "#ukázka locals\n",
    "def vnejsi_funkce():\n",
    "    var_1 = 10\n",
    "    def vnitrni_funkce():\n",
    "        var_2 = 20\n",
    "        print(\"lokální:\", locals())\n",
    "    \n",
    "    print(\"uzavírající:\", locals())\n",
    "    vnitrni_funkce()\n",
    "vnejsi_funkce()"
   ]
  },
  {
   "cell_type": "code",
   "execution_count": 10,
   "metadata": {},
   "outputs": [
    {
     "name": "stdout",
     "output_type": "stream",
     "text": [
      "25\n",
      "100\n",
      "81\n",
      "8\n"
     ]
    }
   ],
   "source": [
    "#ukázka closures\n",
    "def umoc_fce(exponent):\n",
    "    def umoc_hodnotu(cislo):\n",
    "        return cislo ** exponent\n",
    "    return umoc_hodnotu\n",
    "\n",
    "na_druhou = umoc_fce(2)\n",
    "print(na_druhou(5), na_druhou(10), na_druhou(9), sep=\"\\n\")\n",
    "\n",
    "na_treti = umoc_fce(3)\n",
    "print(na_treti(2))"
   ]
  },
  {
   "cell_type": "code",
   "execution_count": 11,
   "metadata": {},
   "outputs": [
    {
     "name": "stdout",
     "output_type": "stream",
     "text": [
      "local\n"
     ]
    }
   ],
   "source": [
    "def vnejsi_fce(ramec):\n",
    "    def vnitrni_fce(ramec):\n",
    "        print(ramec)\n",
    "    vnitrni_fce(ramec)\n",
    "vnejsi_fce(\"local\")"
   ]
  },
  {
   "cell_type": "markdown",
   "metadata": {},
   "source": [
    "<h2> DALŠÍ PRVKY FUNKCÍ </h2>\n",
    "\n",
    "- např. docstring je volitelný, protože není vždy potřeba (např. když je název všeobjímající)\n",
    "    - navíc je fajn, že při použití print(help(nazev_fce)) jej uvidíme\n",
    "    - lze ho tak i tunit o třeba popis parametrů nebo příklady fungování fce\n",
    "- napovídání (datových typů - type hints)\n",
    "    - za každý parametr v závorce dvojtečku a název datového typu\n",
    "    - plus závorku pomocnou šipku -> a název výsledného datového typu\n",
    "    - lze to udělat i mimo fce pro proměnné (za název zase : nazev_datoveho_typu a pak normálně rovná se hodnota)\n",
    "    - pozn. jsou pro mě a ostatní, na fungování nemají vliv\n",
    "- doplňující ohlášení\n",
    "    - není to moc přehledné + proti pravidlům good practise\n",
    "    - ohlášení global\n",
    "        - při definování fce na začátek (!) na samotná řádek dám global nazev_proměnné\n",
    "        - pak ji mohou použití i v jiném, než lokálním rámci\n",
    "    - ohlášení nonlocal\n",
    "        - podobně jako global - dám nonlocal a název/názvy_proměnných na samotný řádek\n",
    "        - akorát v zanořené fci, kde sahám na proměnnou ve vyšším rámci\n",
    "    - overall je lepší to nepoužívat a nemíchat ... já s tím souhlasím, protože jsem líný a přijde mi to moc costly vzhledem k results :))))\n",
    "- je name __main__ nebo ne\n",
    "    - typicky je na konci nějakého modulu (.py)\n",
    "    - používá s při importování\n",
    "    - ve stylu if __name__ == \"__main__\": hlavni_fce() ... else: ...\n",
    "    - když je podmínka splněná, tak jde o primární soubor, takže chceme od něj tu hlavní fci\n",
    "    - když ne, tak jej jen importujeme a chceme jen třeba ty fce --> jen říct, že jej nahrávám (nic zatím spouštět nechci)"
   ]
  },
  {
   "cell_type": "code",
   "execution_count": 14,
   "metadata": {},
   "outputs": [
    {
     "name": "stdout",
     "output_type": "stream",
     "text": [
      "{'a': 3, 'b': 2, 'c': 1, 'd': 1}\n"
     ]
    }
   ],
   "source": [
    "def vypocitej_vyskyt_dat(text):\n",
    "    \"\"\"\n",
    "    Vrátí slovník, který obsahuje vypočítaný výskyt hodnot\n",
    "    v parametru \"text\".\n",
    "\n",
    "    Parametry:\n",
    "    :text: list nebo tuple\n",
    "        Zadaný objekt, jehož hodnoty funkce počítá.\n",
    "\n",
    "    :vyskyt: dict\n",
    "        Eviduje výskyty jednotlivých hodnot.\n",
    "        \n",
    "    Příklad:\n",
    "    >>> vysledek = vypocitej_vyskyt_dat(\"a\", \"b\", \"a\")\n",
    "    >>> vysledek\n",
    "    {\"a\": 2, \"b\": 1}\n",
    "    \"\"\"\n",
    "    vyskyt = {}\n",
    "    \n",
    "    for slovo in text:\n",
    "        vyskyt[slovo] = vyskyt.setdefault(slovo, 0) + 1\n",
    "\n",
    "    return vyskyt\n",
    "\n",
    "\n",
    "print(vypocitej_vyskyt_dat((\"a\", \"b\", \"a\", \"c\", \"d\", \"b\", \"a\")))"
   ]
  },
  {
   "cell_type": "code",
   "execution_count": 15,
   "metadata": {},
   "outputs": [
    {
     "name": "stdout",
     "output_type": "stream",
     "text": [
      "Help on function vypocitej_vyskyt_dat in module __main__:\n",
      "\n",
      "vypocitej_vyskyt_dat(text)\n",
      "    Vrátí slovník, který obsahuje vypočítaný výskyt hodnot\n",
      "    v parametru \"text\".\n",
      "    \n",
      "    Parametry:\n",
      "    :text: list nebo tuple\n",
      "        Zadaný objekt, jehož hodnoty funkce počítá.\n",
      "    \n",
      "    :vyskyt: dict\n",
      "        Eviduje výskyty jednotlivých hodnot.\n",
      "        \n",
      "    Příklad:\n",
      "    >>> vysledek = vypocitej_vyskyt_dat(\"a\", \"b\", \"a\")\n",
      "    >>> vysledek\n",
      "    {\"a\": 2, \"b\": 1}\n",
      "\n",
      "None\n"
     ]
    }
   ],
   "source": [
    "print(help(vypocitej_vyskyt_dat))"
   ]
  },
  {
   "cell_type": "code",
   "execution_count": 19,
   "metadata": {},
   "outputs": [
    {
     "name": "stdout",
     "output_type": "stream",
     "text": [
      "100\n",
      "Name\n",
      "True\n"
     ]
    }
   ],
   "source": [
    "#typ hints\n",
    "def vynasob_hodnoty(x, y):\n",
    "    return x * y\n",
    "\n",
    "def vynasob_hodnoty(x: int, y: int) -> int:\n",
    "    return x * y \n",
    "\n",
    "vek: int = 100\n",
    "jmeno: str = \"Name\"\n",
    "je_user: bool = True\n",
    "\n",
    "print(vek, jmeno, je_user, sep=\"\\n\")"
   ]
  },
  {
   "cell_type": "markdown",
   "metadata": {},
   "source": [
    "<h3> Cvičení 2: Filtruj emaily </h3>"
   ]
  },
  {
   "cell_type": "code",
   "execution_count": 22,
   "metadata": {},
   "outputs": [
    {
     "name": "stdout",
     "output_type": "stream",
     "text": [
      "['danek11@seznam.cz', 'rennud15@gmail.com']\n"
     ]
    }
   ],
   "source": [
    "adresy = [\n",
    "   \"matous@holinka.com\",\n",
    "   \"danek11@seznam.cz\",\n",
    "   \"rennud15@gmail.com\",\n",
    "   \"pepa@centrum.cz\"\n",
    "]\n",
    "\n",
    "def filtruj_adresy_s_cisly(adresy):\n",
    "    vysledek = list()\n",
    "    for adresa in adresy:\n",
    "        znaky = set(adresa)\n",
    "        for znak in znaky:\n",
    "            if znak.isnumeric():\n",
    "                vysledek.append(adresa)\n",
    "                break\n",
    "            else:\n",
    "                pass\n",
    "    return vysledek\n",
    "\n",
    "vysledek = filtruj_adresy_s_cisly(adresy)\n",
    "print(vysledek)"
   ]
  },
  {
   "cell_type": "markdown",
   "metadata": {},
   "source": [
    "<h3> Cvičení 3: Prvočíslo </h3>"
   ]
  },
  {
   "cell_type": "code",
   "execution_count": 11,
   "metadata": {},
   "outputs": [
    {
     "name": "stdout",
     "output_type": "stream",
     "text": [
      "True\n",
      "True\n",
      "False\n"
     ]
    }
   ],
   "source": [
    "def je_prvocislo(cislo, prvocisla):\n",
    "    return cislo in prvocisla\n",
    "\n",
    "def generuj_interval_prvocisel(stop):\n",
    "    interval = range(0, stop + 1)\n",
    "    vysledek = list()\n",
    "    for i in interval:\n",
    "        if i == 0 or i == 1:\n",
    "            continue\n",
    "        for filtr_cislo in range(2, i):\n",
    "            if i % filtr_cislo == 0:\n",
    "                break\n",
    "        else:\n",
    "            vysledek.append(i)\n",
    "    return tuple(vysledek)\n",
    "\n",
    "print(\n",
    "    je_prvocislo(23, generuj_interval_prvocisel(30)),\n",
    "    je_prvocislo(233, generuj_interval_prvocisel(300)),\n",
    "    je_prvocislo(146, generuj_interval_prvocisel(300)),\n",
    "    sep=\"\\n\"\n",
    ")\n"
   ]
  },
  {
   "cell_type": "markdown",
   "metadata": {},
   "source": [
    "<h3> Cvičení 4: Sběr emailů </h3>"
   ]
  },
  {
   "cell_type": "code",
   "execution_count": 20,
   "metadata": {},
   "outputs": [
    {
     "name": "stdout",
     "output_type": "stream",
     "text": [
      "['tiger123@email.cz', 'cnn@info.com', 'abc@gmail.com', 'b2b@money.fr', 'spam@info.cz']\n"
     ]
    }
   ],
   "source": [
    "text = \"\"\"\n",
    "Lorem ipsum dolor sit amet, consectetur adipiscing\n",
    "elit. Mauris vulputate lacus id eros consequat tempus.\n",
    "Nam viverra velit sit amet lorem lobortis, at tincidunt\n",
    "nunc ultricies. Duis facilisis ultrices lacus, id\n",
    "tiger123@email.cz auctor massa molestie at. Nunc tristique\n",
    "fringilla congue. Donec ante diam cnn@info.com, dapibus\n",
    "lacinia vulputate vitae, ullamcorper in justo. Maecenas\n",
    "massa purus, ultricies a dictum ut, dapibus vitae massa.\n",
    "Cras abc@gmail.com vel libero felis. In augue elit, porttitor\n",
    "nec molestie quis, auctor a quam. Quisque b2b@money.fr\n",
    "pretium dolor et tempor feugiat. Morbi libero lectus,\n",
    "porttitor eu mi sed, luctus lacinia risus. Maecenas posuere\n",
    "leo sit amet spam@info.cz. elit tincidunt maximus. Aliquam\n",
    "erat volutpat. Donec eleifend felis at leo ullamcorper cursus.\n",
    "Pellentesque id dui viverra, auctor enim ut, fringilla est.\n",
    "Maecenas gravida turpis nec ultrices aliquet.\n",
    "\"\"\"\n",
    "\n",
    "def uloz_emailove_adresy(text):\n",
    "    vysledek = list()\n",
    "    for i in text.split():\n",
    "        if \"@\" in i:\n",
    "            vysledek.append(i.strip(\",.:;\"))\n",
    "    return vysledek\n",
    "\n",
    "vysledek = uloz_emailove_adresy(text)\n",
    "print(vysledek)\n"
   ]
  },
  {
   "cell_type": "markdown",
   "metadata": {},
   "source": [
    "<h3> Cvičení v hodině: Kalkulačka </h3>"
   ]
  },
  {
   "cell_type": "code",
   "execution_count": 24,
   "metadata": {},
   "outputs": [
    {
     "name": "stdout",
     "output_type": "stream",
     "text": [
      "---------------------------------\n",
      "+ | - | * | / | prum | pow | quit\n",
      "---------------------------------\n",
      "5555 = 5555\n"
     ]
    }
   ],
   "source": [
    "def zobrazit_nabidku(procesy):\n",
    "    vyber = \" | \".join(procesy)                   #u joinu pozor na zápis - volá se pro symbol, kterým chceme SPOJOVAT KOLEKCI hodnot (voláme metodu stringu pro str)\n",
    "    oddelovac = \"-\" * len(vyber)\n",
    "    print(oddelovac, vyber, oddelovac, sep=\"\\n\")\n",
    "\n",
    "def umocneni() -> None:                             #nechceme to psát vše najednou --> rozdělíme si jednotlivé podfunkce kalkulačky do samotatných fcí\n",
    "    hodnota = int(input(\"Hodnota: \"))       #tady by to taky chtěl ověřit, že je to numerické\n",
    "    mocnina = int(input(\"Mocnina: \"))       #tady taky\n",
    "    print(\"VÝSLEDEK: \", hodnota ** mocnina)\n",
    "    return None                         #nic vracet stejně nechceme, jen tisknout\n",
    "\n",
    "def vypocet_prumeru() -> None:          #zase nechceme nic vracet, jen tisknout\n",
    "    rada_cisel = []\n",
    "    while (hodnota := input(\"VSTUP: \")) != \"quit\":\n",
    "        if hodnota.isnumeric():\n",
    "            rada_cisel.append(int(hodnota))\n",
    "        else:\n",
    "            continue                            #tohle bychom psát nemuseli, protože nikam jinam jít nelze, protože while pořád platí\n",
    "    prumer = sum(rada_cisel)/len(rada_cisel)\n",
    "    print(\"PRŮMĚR: \", prumer)\n",
    "\n",
    "def vypocet_zakladnich_operaci() -> None:\n",
    "    zapis = \"\"\n",
    "    while True:\n",
    "        tlacitko = input(\"TLAČÍTKO: \")\n",
    "        if tlacitko.isnumeric():\n",
    "            zapis += tlacitko\n",
    "        elif tlacitko in (\"+\", \"-\", \"*\", \"/\"):\n",
    "            zapis += tlacitko\n",
    "        elif tlacitko == \"=\":\n",
    "            print(zapis, \"=\", eval(zapis))              #metoda eval vezme string a vyhodnotí ho, jakoby to byl normální matematický zápis\n",
    "            break           #nebo return\n",
    "\n",
    "def kalkulacka():\n",
    "    procesy = (\"+\", \"-\", \"*\", \"/\", \"prum\", \"pow\", \"quit\")   #btw tyhle procesy nesouvisí s těmi procesy nahoře, protože jsou to jiné rámced\n",
    "\n",
    "    while True:\n",
    "        zobrazit_nabidku(procesy)\n",
    "        vyber = input(\"VYBER OPERACI: \")\n",
    "        if vyber == \"quit\":\n",
    "            print(\"Ukončuji\")\n",
    "            return                      #tím půjdeme ven z fce, takže tím ukončíme while cyklus\n",
    "        elif vyber == \"pow\":\n",
    "            umocneni()\n",
    "        elif vyber == \"prum\":\n",
    "            vypocet_prumeru()\n",
    "        elif vyber in procesy[:4]:\n",
    "            vypocet_zakladnich_operaci()\n",
    "        break\n",
    "\n",
    "kalkulacka()\n"
   ]
  }
 ],
 "metadata": {
  "kernelspec": {
   "display_name": "Python 3",
   "language": "python",
   "name": "python3"
  },
  "language_info": {
   "codemirror_mode": {
    "name": "ipython",
    "version": 3
   },
   "file_extension": ".py",
   "mimetype": "text/x-python",
   "name": "python",
   "nbconvert_exporter": "python",
   "pygments_lexer": "ipython3",
   "version": "3.11.6"
  }
 },
 "nbformat": 4,
 "nbformat_minor": 2
}
