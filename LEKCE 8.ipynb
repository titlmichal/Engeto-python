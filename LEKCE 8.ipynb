{
 "cells": [
  {
   "cell_type": "markdown",
   "metadata": {},
   "source": [
    "<h1> LEKCE 8 </h1>\n",
    "\n",
    "- raise mi pomůže vyvolat chybu, např.:\n",
    "    - if not isinstance(a, int):\n",
    "        raise ValueError(\"Wrong data type for a\")\n",
    "\n",
    "<h2> PARAMETRY FUNKCÍ </h2>\n",
    "\n",
    "- parametry při definici, argumenty při použití jako hodnoty\n",
    "- všechny možné varianty parametrů:\n",
    "    - poziční (argumenty)\n",
    "    - klíčové\n",
    "    - defaultní\n",
    "    - position-only\n",
    "    - *args\n",
    "    - *kwargs\n",
    "- poziční parametry\n",
    "    - spojení mezi parametry a argumenty je v pořadí, v ničem jiném\n",
    "    - prostě tak klasika, co byla do teď\n",
    "- klíčové argumenty\n",
    "    - když pořadí v tom může dělat hokej, tak zapíš hodnotu argumentu přímo v zápisu fce\n",
    "    - nemůžeme v tom ale dělat hokej ani při zápise ... když jednou použiju klíčový argument v zápise, tak i ostatní (pokud do toho nevstupují typy níže)\n",
    "- defaultní parametry (volitelné)\n",
    "    - prostě výchozí hodnota, když nezadám argument (!) ... takže je nemusím zadat\n",
    "    - podobně jako u printu třeba sep\n",
    "    - v definování fce musím teda definovat i default hodnotu\n",
    "    - uvnitř té funkce jsou uložené defaults (nazev_fce.__defaults__)\n",
    "    - je to ale blbý, když tam použiju jako default hodnotu list (!) nebo jiný mutable iterable --> když ve fci jej budu upravovat, tak změny zůstávají\n",
    "    - zase mi ale přijde, že když to člověk ví, tak se to dá (možná i prakticky) použít\n",
    "    - hodí se to třeba když dělám nějaké kroky (třeba procházím nějaký obrázek s posouvám souřadnice bodů od [0, 0] pomocí navig[0] += 1 ... navig[1] += 1)\n",
    "    - obecně ale není dobré používat mutables jako default parametry --> lepší třeba tuple (který není mutable)\n",
    "- position-only parametry\n",
    "    - od v3.8\n",
    "    - nalevo od lomítka poziční (nepíšu tam nazev_parametru=hodnota), napravo klíčové (napíšu nazev_parametru=hodnota) nebo jaké chci (taky může být poziční)\n",
    "    - na vynucení zápisu argumentu jako pozičního - to před lomítkem nemůžu zapsat jako poziční, to napravo jak chci\n",
    "    - btw třeba funkce len to tak má (v dokumentaci má jako len(__obj=Sized, /)) ... obecně zabudované fce to mívají, uživatelské moc ne\n",
    "    - ALTERNATIVNĚ to mohu obrátit pomocí * místo / --> vše nalevo od * dle pozice nebo jak chci, vše napravo dle jména\n",
    "    - takže když / \n",
    "        - tak vlevo poziční, vpravo jak chci\n",
    "    - když * \n",
    "        - tak vlevo jak chci, vpravo dle jména (klíče)\n",
    "    - používá se to, když chceme donuti uživatele donutit se zamyslet, kterou proměnnou používá jako argument (když třeba parametrů je hodně a dalo by se to splést)\n",
    "    - nebo taky pro vývojáře balíčků/knihoven, když chce vývojář přidat/posunout nějaký argument (a kdyby tam nebyla *, tak při nové verzi by všem uživatelům fce rozbila, protože by se řídila pozicemi, ale ty by už byly jiné v nové verzi oproti staré)\n",
    "- *args\n",
    "    - def nazev_fce(*args): ...\n",
    "    - má to v dokumentaci třeba print, ale není to jakože ... parametr, *, parametr ..., ale je to *parametr\n",
    "    - jde o tu *, parametry se klidně mohou jmenovat argumenty (místo args ... argumenty)\n",
    "    - mohu tak nasypat do fce kolik argumentů chci, resp počet hodnot argumentu, kolik chci\n",
    "    - hodí se to, když třeba nevím, kolik jich budu mít, protože teprve přidjou\n",
    "    - btw ty args (nebo jak si to pojmenujeme s tou *) jsou tuple\n",
    "    - mohu tam mít i více parametrů (def fce(*arg, param)), ale pak to funguje podobně jak * výše --> vpravo od * musíme argument použít pomocí jména/klíče\n",
    "- **kwargs\n",
    "    - opět se to může jmenovat jinak, ale kwargs je konvence jako \"keyword arguments\"\n",
    "    - 2 hvězdičky\n",
    "    - zase když nevím, kolik bude argumentů\n",
    "    - tady jde akorát o to, že jsou klíčové, takže v praxi vytvořím název argumentu (v příkladu jmeno) a rovnou = hodnota (v příkladu \"Michal\")\n",
    "    - nejde tedy o množství jednotlivých hodnot (jako u *args), ale o množství párů hodnot (!)"
   ]
  },
  {
   "cell_type": "code",
   "execution_count": 1,
   "metadata": {},
   "outputs": [
    {
     "name": "stdout",
     "output_type": "stream",
     "text": [
      "m.titl\n"
     ]
    }
   ],
   "source": [
    "def spoj_cele_jmeno(jmeno, prijmeni):\n",
    "    return \".\".join(\n",
    "        (\n",
    "            jmeno[0].lower(),\n",
    "            prijmeni.lower()\n",
    "        )\n",
    "    )\n",
    "\n",
    "print(spoj_cele_jmeno(\"Michal\", \"Titl\"))\n",
    "#argument 1 se předal do parametru na první pozici (respektive pozici 0), argument 2 do druhé pozice (resp na pozici 1)"
   ]
  },
  {
   "cell_type": "code",
   "execution_count": 4,
   "metadata": {},
   "outputs": [
    {
     "name": "stdout",
     "output_type": "stream",
     "text": [
      "16.0\n",
      "18.0\n",
      "18.0\n"
     ]
    }
   ],
   "source": [
    "#klíčové argumenty\n",
    "def vypocitej_hodnotu(koef_1, koef_2, koef_3):\n",
    "    \"\"\"\n",
    "    Vypocitej hodnotu na zaklade tri zadanych koeficinetu.\n",
    "    \"\"\"\n",
    "    return (1/koef_1) * (koef_2 ** koef_3)\n",
    "\n",
    "#místo tohoto\n",
    "print(vypocitej_hodnotu(1, 2, 4))\n",
    "\n",
    "#použiju toto\n",
    "print(vypocitej_hodnotu( koef_1=0.5, koef_2=3, koef_3=2))\n",
    "\n",
    "#nezáleží pak na pořadí\n",
    "print(vypocitej_hodnotu( koef_3=2, koef_2=3, koef_1=0.5))"
   ]
  },
  {
   "cell_type": "code",
   "execution_count": 1,
   "metadata": {},
   "outputs": [
    {
     "name": "stdout",
     "output_type": "stream",
     "text": [
      "Ahoj, Michal\n",
      "Ahoj, Kačka\n"
     ]
    },
    {
     "data": {
      "text/plain": [
       "('Michal',)"
      ]
     },
     "execution_count": 1,
     "metadata": {},
     "output_type": "execute_result"
    }
   ],
   "source": [
    "#defaultní parametry\n",
    "def vytvor_pozdrav(jmeno = \"Michal\"):\n",
    "    print(\"Ahoj,\", jmeno)\n",
    "\n",
    "vytvor_pozdrav()\n",
    "vytvor_pozdrav(\"Kačka\")\n",
    "vytvor_pozdrav.__defaults__"
   ]
  },
  {
   "cell_type": "code",
   "execution_count": 11,
   "metadata": {},
   "outputs": [
    {
     "name": "stdout",
     "output_type": "stream",
     "text": [
      "Ahoj, Michal\n",
      "Ahoj, Michal\n"
     ]
    },
    {
     "ename": "TypeError",
     "evalue": "napis_pozdrav() got some positional-only arguments passed as keyword arguments: 'jmeno'",
     "output_type": "error",
     "traceback": [
      "\u001b[1;31m---------------------------------------------------------------------------\u001b[0m",
      "\u001b[1;31mTypeError\u001b[0m                                 Traceback (most recent call last)",
      "Cell \u001b[1;32mIn[11], line 10\u001b[0m\n\u001b[0;32m      8\u001b[0m napis_pozdrav(\u001b[38;5;124m\"\u001b[39m\u001b[38;5;124mMichal\u001b[39m\u001b[38;5;124m\"\u001b[39m, \u001b[38;5;28;01mTrue\u001b[39;00m)\n\u001b[0;32m      9\u001b[0m napis_pozdrav(\u001b[38;5;124m\"\u001b[39m\u001b[38;5;124mMichal\u001b[39m\u001b[38;5;124m\"\u001b[39m, registrovany\u001b[38;5;241m=\u001b[39m\u001b[38;5;28;01mTrue\u001b[39;00m)\n\u001b[1;32m---> 10\u001b[0m \u001b[43mnapis_pozdrav\u001b[49m\u001b[43m(\u001b[49m\u001b[43mjmeno\u001b[49m\u001b[38;5;241;43m=\u001b[39;49m\u001b[38;5;124;43m\"\u001b[39;49m\u001b[38;5;124;43mMichal\u001b[39;49m\u001b[38;5;124;43m\"\u001b[39;49m\u001b[43m,\u001b[49m\u001b[43m \u001b[49m\u001b[43mregistrovany\u001b[49m\u001b[38;5;241;43m=\u001b[39;49m\u001b[38;5;28;43;01mTrue\u001b[39;49;00m\u001b[43m)\u001b[49m\n",
      "\u001b[1;31mTypeError\u001b[0m: napis_pozdrav() got some positional-only arguments passed as keyword arguments: 'jmeno'"
     ]
    }
   ],
   "source": [
    "#position-only parametry\n",
    "def napis_pozdrav(jmeno, /, registrovany):\n",
    "    if not registrovany:\n",
    "        print(\"Nejsi uzivatel!\")\n",
    "    print(\"Ahoj,\", jmeno)\n",
    "\n",
    "\n",
    "napis_pozdrav(\"Michal\", True)\n",
    "napis_pozdrav(\"Michal\", registrovany=True)\n",
    "napis_pozdrav(jmeno=\"Michal\", registrovany=True)"
   ]
  },
  {
   "cell_type": "code",
   "execution_count": 21,
   "metadata": {},
   "outputs": [
    {
     "name": "stdout",
     "output_type": "stream",
     "text": [
      "3.0\n"
     ]
    },
    {
     "ename": "TypeError",
     "evalue": "vypocitej_prumer() takes 1 positional argument but 5 were given",
     "output_type": "error",
     "traceback": [
      "\u001b[1;31m---------------------------------------------------------------------------\u001b[0m",
      "\u001b[1;31mTypeError\u001b[0m                                 Traceback (most recent call last)",
      "Cell \u001b[1;32mIn[21], line 8\u001b[0m\n\u001b[0;32m      6\u001b[0m moje_cisla \u001b[38;5;241m=\u001b[39m (\u001b[38;5;241m1\u001b[39m, \u001b[38;5;241m2\u001b[39m, \u001b[38;5;241m3\u001b[39m, \u001b[38;5;241m4\u001b[39m, \u001b[38;5;241m5\u001b[39m)\n\u001b[0;32m      7\u001b[0m \u001b[38;5;28mprint\u001b[39m(vypocitej_prumer(moje_cisla))\n\u001b[1;32m----> 8\u001b[0m \u001b[38;5;28mprint\u001b[39m(\u001b[43mvypocitej_prumer\u001b[49m\u001b[43m(\u001b[49m\u001b[38;5;241;43m1\u001b[39;49m\u001b[43m,\u001b[49m\u001b[43m \u001b[49m\u001b[38;5;241;43m2\u001b[39;49m\u001b[43m,\u001b[49m\u001b[43m \u001b[49m\u001b[38;5;241;43m3\u001b[39;49m\u001b[43m,\u001b[49m\u001b[43m \u001b[49m\u001b[38;5;241;43m4\u001b[39;49m\u001b[43m,\u001b[49m\u001b[43m \u001b[49m\u001b[38;5;241;43m5\u001b[39;49m\u001b[43m)\u001b[49m)\n",
      "\u001b[1;31mTypeError\u001b[0m: vypocitej_prumer() takes 1 positional argument but 5 were given"
     ]
    }
   ],
   "source": [
    "# *args\n",
    "\n",
    "def vypocitej_prumer(args):\n",
    "    return sum(args)/len(args)\n",
    "\n",
    "moje_cisla = (1, 2, 3, 4, 5)\n",
    "print(vypocitej_prumer(moje_cisla))\n",
    "print(vypocitej_prumer(1, 2, 3, 4, 5))"
   ]
  },
  {
   "cell_type": "code",
   "execution_count": 16,
   "metadata": {},
   "outputs": [
    {
     "name": "stdout",
     "output_type": "stream",
     "text": [
      "3.0\n"
     ]
    }
   ],
   "source": [
    "# *args\n",
    "\n",
    "def vypocitej_prumer(*args):\n",
    "    return sum(args)/len(args)\n",
    "\n",
    "print(vypocitej_prumer(1, 2, 3, 4, 5))"
   ]
  },
  {
   "cell_type": "code",
   "execution_count": 19,
   "metadata": {},
   "outputs": [
    {
     "name": "stdout",
     "output_type": "stream",
     "text": [
      "{'jmeno': 'Michal', 'prijmeni': 'Holinka'}\n",
      "{'jmeno': 'Michal', 'prijmeni': 'Holinka', 'vek': 24, 'email': 'N/A'}\n"
     ]
    }
   ],
   "source": [
    "# **kwargs\n",
    "\n",
    "def vytvor_slovnik(**kwargs):\n",
    "    vysledek = dict()\n",
    "\n",
    "    for klic, hodnota in kwargs.items():\n",
    "        vysledek[klic] = hodnota\n",
    "    return vysledek \n",
    "\n",
    "print(vytvor_slovnik(jmeno=\"Michal\", prijmeni=\"Holinka\"))\n",
    "print(vytvor_slovnik(jmeno=\"Michal\", prijmeni=\"Holinka\", vek=24, email=\"N/A\"))\n"
   ]
  },
  {
   "cell_type": "markdown",
   "metadata": {},
   "source": [
    "<h3> Cvičení 1: Anagram </h3>"
   ]
  },
  {
   "cell_type": "code",
   "execution_count": 29,
   "metadata": {},
   "outputs": [
    {
     "name": "stdout",
     "output_type": "stream",
     "text": [
      "True\n",
      "False\n",
      "False\n",
      "True\n",
      "True\n"
     ]
    }
   ],
   "source": [
    "def je_anagram(*args):\n",
    "    vzor = set(args[0])\n",
    "    vysledek = 0\n",
    "    for i in args:\n",
    "        slovo = set(i)\n",
    "        if slovo != vzor:\n",
    "            vysledek = False\n",
    "            break\n",
    "        else:\n",
    "            vysledek = True\n",
    "    return vysledek\n",
    "\n",
    "print(\n",
    "    je_anagram(\"ship\", \"hips\", \"phis\"),\n",
    "    je_anagram(\"ship\", \"hips\", \"duck\"),\n",
    "    je_anagram(\"ship\", \"duck\", \"hips\"),\n",
    "    je_anagram(\"duck\", \"duck\", \"duck\"),\n",
    "    je_anagram(\"cat\", \"act\", \"tac\"),\n",
    "    sep=\"\\n\"\n",
    ")"
   ]
  },
  {
   "cell_type": "markdown",
   "metadata": {},
   "source": [
    "<h2> RÁMCE V PYTHONU </h2>"
   ]
  },
  {
   "cell_type": "code",
   "execution_count": 1,
   "metadata": {},
   "outputs": [
    {
     "ename": "NameError",
     "evalue": "name 'jmeno' is not defined",
     "output_type": "error",
     "traceback": [
      "\u001b[1;31m---------------------------------------------------------------------------\u001b[0m",
      "\u001b[1;31mNameError\u001b[0m                                 Traceback (most recent call last)",
      "Cell \u001b[1;32mIn[1], line 5\u001b[0m\n\u001b[0;32m      2\u001b[0m     jmeno \u001b[38;5;241m=\u001b[39m \u001b[38;5;124m\"\u001b[39m\u001b[38;5;124mJan\u001b[39m\u001b[38;5;124m\"\u001b[39m\n\u001b[0;32m      4\u001b[0m vytvor_jmeno()\n\u001b[1;32m----> 5\u001b[0m \u001b[38;5;28mprint\u001b[39m(\u001b[43mjmeno\u001b[49m)\n",
      "\u001b[1;31mNameError\u001b[0m: name 'jmeno' is not defined"
     ]
    }
   ],
   "source": [
    "def vytvor_jmeno():\n",
    "    jmeno = \"Jan\"\n",
    "\n",
    "vytvor_jmeno()\n",
    "print(jmeno)"
   ]
  },
  {
   "cell_type": "code",
   "execution_count": 2,
   "metadata": {},
   "outputs": [
    {
     "name": "stdout",
     "output_type": "stream",
     "text": [
      "Jan\n"
     ]
    }
   ],
   "source": [
    "def vytvor_jmeno():\n",
    "    jmeno = \"Jan\"\n",
    "    print(jmeno)\n",
    "\n",
    "vytvor_jmeno()"
   ]
  },
  {
   "cell_type": "markdown",
   "metadata": {},
   "source": [
    "\n",
    "- tady je prý vidět ten rozdíl/význam rámců (aka scopes)\n",
    "- rámce jsou jako slovníky, které mají klíče (jména proměnných) a hodnoty (hodnoty proměnných)\n",
    "- 4 druhy v Pythonu (od toho nejvíc širokého):\n",
    "    - zabudovaný/built-in (scope)\n",
    "    - globální/global\n",
    "    - uzavírající/enclosing/nonlocal\n",
    "    - lokální/local\n",
    "- zabudovaný rámec\n",
    "    - vše standarní, co znám (built-in fce jako print, sum, ..., a typy chyb)\n",
    "    - automaticky se načtou při spuštění, netřeba importu\n",
    "    - ověření přítomnosti skrze dir() a hledání '__builtins__'\n",
    "- globální rámec\n",
    "    - když otevřou soubor .py, tak jdu tímto rámcem\n",
    "    - zde jsou všechny objekty\n",
    "    - zase skrz dir a globals\n",
    "    - po zavření programu nebo interpreta rámec zaniká\n",
    "- lokální rámec\n",
    "    - globální je 1 jediný moment aktivní jen 1 X lokálních může být několik\n",
    "    - např. každá fce má vlastní\n",
    "    - ověřuju skrze locals, kde ale záleží na pořadí\n",
    "    - důležité je ty rámec nemíchat (nejen lokální s lokálním např. použitím v definici proměnnou, kterou ale nechci po uživateli jako argument a je někde jinde v kódu, ale i lokální s vyšším apod.)\n",
    "- uzavřený rámec\n",
    "    - při nestování fcí, když vnitřní fci nelze spustit bez té hlavní\n",
    "    - toho se používá u tzv. closures\n",
    "- proč ty rámec řešit?\n",
    "    - díky nim lze pracovat se stejnými jmény proměnných uvnitř různých rámců\n",
    "    - když proměnnou Python v daném/aktuálním rámci nenajde --> přesune se o rámec nahoru --> když nenajde --> NameError"
   ]
  },
  {
   "cell_type": "code",
   "execution_count": 3,
   "metadata": {},
   "outputs": [
    {
     "name": "stdout",
     "output_type": "stream",
     "text": [
      "['ArithmeticError', 'AssertionError', 'AttributeError', 'BaseException', 'BaseExceptionGroup', 'BlockingIOError', 'BrokenPipeError', 'BufferError', 'BytesWarning', 'ChildProcessError', 'ConnectionAbortedError', 'ConnectionError', 'ConnectionRefusedError', 'ConnectionResetError', 'DeprecationWarning', 'EOFError', 'Ellipsis', 'EncodingWarning', 'EnvironmentError', 'Exception', 'ExceptionGroup', 'False', 'FileExistsError', 'FileNotFoundError', 'FloatingPointError', 'FutureWarning', 'GeneratorExit', 'IOError', 'ImportError', 'ImportWarning', 'IndentationError', 'IndexError', 'InterruptedError', 'IsADirectoryError', 'KeyError', 'KeyboardInterrupt', 'LookupError', 'MemoryError', 'ModuleNotFoundError', 'NameError', 'None', 'NotADirectoryError', 'NotImplemented', 'NotImplementedError', 'OSError', 'OverflowError', 'PendingDeprecationWarning', 'PermissionError', 'ProcessLookupError', 'RecursionError', 'ReferenceError', 'ResourceWarning', 'RuntimeError', 'RuntimeWarning', 'StopAsyncIteration', 'StopIteration', 'SyntaxError', 'SyntaxWarning', 'SystemError', 'SystemExit', 'TabError', 'TimeoutError', 'True', 'TypeError', 'UnboundLocalError', 'UnicodeDecodeError', 'UnicodeEncodeError', 'UnicodeError', 'UnicodeTranslateError', 'UnicodeWarning', 'UserWarning', 'ValueError', 'Warning', 'WindowsError', 'ZeroDivisionError', '__IPYTHON__', '__build_class__', '__debug__', '__doc__', '__import__', '__loader__', '__name__', '__package__', '__spec__', 'abs', 'aiter', 'all', 'anext', 'any', 'ascii', 'bin', 'bool', 'breakpoint', 'bytearray', 'bytes', 'callable', 'chr', 'classmethod', 'compile', 'complex', 'copyright', 'credits', 'delattr', 'dict', 'dir', 'display', 'divmod', 'enumerate', 'eval', 'exec', 'execfile', 'filter', 'float', 'format', 'frozenset', 'get_ipython', 'getattr', 'globals', 'hasattr', 'hash', 'help', 'hex', 'id', 'input', 'int', 'isinstance', 'issubclass', 'iter', 'len', 'license', 'list', 'locals', 'map', 'max', 'memoryview', 'min', 'next', 'object', 'oct', 'open', 'ord', 'pow', 'print', 'property', 'range', 'repr', 'reversed', 'round', 'runfile', 'set', 'setattr', 'slice', 'sorted', 'staticmethod', 'str', 'sum', 'super', 'tuple', 'type', 'vars', 'zip']\n"
     ]
    }
   ],
   "source": [
    "print(dir(__builtins__))"
   ]
  },
  {
   "cell_type": "code",
   "execution_count": 6,
   "metadata": {},
   "outputs": [
    {
     "name": "stdout",
     "output_type": "stream",
     "text": [
      "{'__name__': '__main__', '__doc__': 'Automatically created module for IPython interactive environment', '__package__': None, '__loader__': None, '__spec__': None, '__builtin__': <module 'builtins' (built-in)>, '__builtins__': <module 'builtins' (built-in)>, '_ih': ['', 'def vytvor_jmeno():\\n    jmeno = \"Jan\"\\n\\nvytvor_jmeno()\\nprint(jmeno)', 'def vytvor_jmeno():\\n    jmeno = \"Jan\"\\n    print(jmeno)\\n\\nvytvor_jmeno()', 'print(dir(__builtins__))', 'print(globals)', 'print(globals())', 'jmeno = \"Matous\"\\nvek = 44\\nje_uzivatel = True\\n\\nprint(globals())'], '_oh': {}, '_dh': [WindowsPath('c:/Users/Michal/Desktop/Engeto python'), WindowsPath('c:/Users/Michal/Desktop/Engeto python')], 'In': ['', 'def vytvor_jmeno():\\n    jmeno = \"Jan\"\\n\\nvytvor_jmeno()\\nprint(jmeno)', 'def vytvor_jmeno():\\n    jmeno = \"Jan\"\\n    print(jmeno)\\n\\nvytvor_jmeno()', 'print(dir(__builtins__))', 'print(globals)', 'print(globals())', 'jmeno = \"Matous\"\\nvek = 44\\nje_uzivatel = True\\n\\nprint(globals())'], 'Out': {}, 'get_ipython': <bound method InteractiveShell.get_ipython of <ipykernel.zmqshell.ZMQInteractiveShell object at 0x00000217123C0310>>, 'exit': <IPython.core.autocall.ZMQExitAutocall object at 0x00000217123D06D0>, 'quit': <IPython.core.autocall.ZMQExitAutocall object at 0x00000217123D06D0>, 'open': <function open at 0x000002170FEFF740>, '_': '', '__': '', '___': '', '__vsc_ipynb_file__': 'c:\\\\Users\\\\Michal\\\\Desktop\\\\Engeto python\\\\LEKCE 8.ipynb', '_i': 'print(globals())', '_ii': 'print(globals)', '_iii': 'print(dir(__builtins__))', '_i1': 'def vytvor_jmeno():\\n    jmeno = \"Jan\"\\n\\nvytvor_jmeno()\\nprint(jmeno)', 'vytvor_jmeno': <function vytvor_jmeno at 0x0000021712522480>, '_i2': 'def vytvor_jmeno():\\n    jmeno = \"Jan\"\\n    print(jmeno)\\n\\nvytvor_jmeno()', '_i3': 'print(dir(__builtins__))', '_i4': 'print(globals)', '_i5': 'print(globals())', '_i6': 'jmeno = \"Matous\"\\nvek = 44\\nje_uzivatel = True\\n\\nprint(globals())', 'jmeno': 'Matous', 'vek': 44, 'je_uzivatel': True}\n"
     ]
    }
   ],
   "source": [
    "jmeno = \"Matous\"\n",
    "vek = 44\n",
    "je_uzivatel = True\n",
    "\n",
    "print(globals())"
   ]
  },
  {
   "cell_type": "code",
   "execution_count": 7,
   "metadata": {},
   "outputs": [
    {
     "name": "stdout",
     "output_type": "stream",
     "text": [
      "{'__name__': '__main__', '__doc__': 'Automatically created module for IPython interactive environment', '__package__': None, '__loader__': None, '__spec__': None, '__builtin__': <module 'builtins' (built-in)>, '__builtins__': <module 'builtins' (built-in)>, '_ih': ['', 'def vytvor_jmeno():\\n    jmeno = \"Jan\"\\n\\nvytvor_jmeno()\\nprint(jmeno)', 'def vytvor_jmeno():\\n    jmeno = \"Jan\"\\n    print(jmeno)\\n\\nvytvor_jmeno()', 'print(dir(__builtins__))', 'print(globals)', 'print(globals())', 'jmeno = \"Matous\"\\nvek = 44\\nje_uzivatel = True\\n\\nprint(globals())', 'print(globals())'], '_oh': {}, '_dh': [WindowsPath('c:/Users/Michal/Desktop/Engeto python'), WindowsPath('c:/Users/Michal/Desktop/Engeto python')], 'In': ['', 'def vytvor_jmeno():\\n    jmeno = \"Jan\"\\n\\nvytvor_jmeno()\\nprint(jmeno)', 'def vytvor_jmeno():\\n    jmeno = \"Jan\"\\n    print(jmeno)\\n\\nvytvor_jmeno()', 'print(dir(__builtins__))', 'print(globals)', 'print(globals())', 'jmeno = \"Matous\"\\nvek = 44\\nje_uzivatel = True\\n\\nprint(globals())', 'print(globals())'], 'Out': {}, 'get_ipython': <bound method InteractiveShell.get_ipython of <ipykernel.zmqshell.ZMQInteractiveShell object at 0x00000217123C0310>>, 'exit': <IPython.core.autocall.ZMQExitAutocall object at 0x00000217123D06D0>, 'quit': <IPython.core.autocall.ZMQExitAutocall object at 0x00000217123D06D0>, 'open': <function open at 0x000002170FEFF740>, '_': '', '__': '', '___': '', '__vsc_ipynb_file__': 'c:\\\\Users\\\\Michal\\\\Desktop\\\\Engeto python\\\\LEKCE 8.ipynb', '_i': 'jmeno = \"Matous\"\\nvek = 44\\nje_uzivatel = True\\n\\nprint(globals())', '_ii': 'print(globals())', '_iii': 'print(globals)', '_i1': 'def vytvor_jmeno():\\n    jmeno = \"Jan\"\\n\\nvytvor_jmeno()\\nprint(jmeno)', 'vytvor_jmeno': <function vytvor_jmeno at 0x0000021712522480>, '_i2': 'def vytvor_jmeno():\\n    jmeno = \"Jan\"\\n    print(jmeno)\\n\\nvytvor_jmeno()', '_i3': 'print(dir(__builtins__))', '_i4': 'print(globals)', '_i5': 'print(globals())', '_i6': 'jmeno = \"Matous\"\\nvek = 44\\nje_uzivatel = True\\n\\nprint(globals())', 'jmeno': 'Matous', 'vek': 44, 'je_uzivatel': True, '_i7': 'print(globals())'}\n"
     ]
    }
   ],
   "source": [
    "print(globals())"
   ]
  },
  {
   "cell_type": "code",
   "execution_count": 8,
   "metadata": {},
   "outputs": [
    {
     "name": "stdout",
     "output_type": "stream",
     "text": [
      "{'jmeno': 'michal', 'uzivatel': True, 'pozdrav': 'Ahoj,michal'}\n"
     ]
    }
   ],
   "source": [
    "jmeno = \"michal\"\n",
    "vek = \"24\"\n",
    "je_uzivatel = True\n",
    "\n",
    "def vytvor_pozdrav(jmeno, /, uzivatel):\n",
    "    if not uzivatel:\n",
    "        pozdrav = \"Není user\" + jmeno\n",
    "    else:\n",
    "        pozdrav = \"Ahoj,\" + jmeno\n",
    "    print(locals())\n",
    "    return pozdrav\n",
    "\n",
    "pozdrav = vytvor_pozdrav(jmeno, uzivatel=je_uzivatel)"
   ]
  },
  {
   "cell_type": "code",
   "execution_count": 9,
   "metadata": {},
   "outputs": [
    {
     "name": "stdout",
     "output_type": "stream",
     "text": [
      "uzavírající: {'var_1': 10, 'vnitrni_funkce': <function vnejsi_funkce.<locals>.vnitrni_funkce at 0x0000021712523EC0>}\n",
      "lokální: {'var_2': 20}\n"
     ]
    }
   ],
   "source": [
    "#ukázka locals\n",
    "def vnejsi_funkce():\n",
    "    var_1 = 10\n",
    "    def vnitrni_funkce():\n",
    "        var_2 = 20\n",
    "        print(\"lokální:\", locals())\n",
    "    \n",
    "    print(\"uzavírající:\", locals())\n",
    "    vnitrni_funkce()\n",
    "vnejsi_funkce()"
   ]
  },
  {
   "cell_type": "code",
   "execution_count": 10,
   "metadata": {},
   "outputs": [
    {
     "name": "stdout",
     "output_type": "stream",
     "text": [
      "25\n",
      "100\n",
      "81\n",
      "8\n"
     ]
    }
   ],
   "source": [
    "#ukázka closures\n",
    "def umoc_fce(exponent):\n",
    "    def umoc_hodnotu(cislo):\n",
    "        return cislo ** exponent\n",
    "    return umoc_hodnotu\n",
    "\n",
    "na_druhou = umoc_fce(2)\n",
    "print(na_druhou(5), na_druhou(10), na_druhou(9), sep=\"\\n\")\n",
    "\n",
    "na_treti = umoc_fce(3)\n",
    "print(na_treti(2))"
   ]
  },
  {
   "cell_type": "code",
   "execution_count": 11,
   "metadata": {},
   "outputs": [
    {
     "name": "stdout",
     "output_type": "stream",
     "text": [
      "local\n"
     ]
    }
   ],
   "source": [
    "def vnejsi_fce(ramec):\n",
    "    def vnitrni_fce(ramec):\n",
    "        print(ramec)\n",
    "    vnitrni_fce(ramec)\n",
    "vnejsi_fce(\"local\")"
   ]
  },
  {
   "cell_type": "markdown",
   "metadata": {},
   "source": [
    "<h2> DALŠÍ PRVKY FUNKCÍ </h2>\n",
    "\n",
    "- např. docstring je volitelný, protože není vždy potřeba (např. když je název všeobjímající)\n",
    "    - navíc je fajn, že při použití print(help(nazev_fce)) jej uvidíme\n",
    "    - lze ho tak i tunit o třeba popis parametrů nebo příklady fungování fce\n",
    "- napovídání (datových typů - type hints)\n",
    "    - za každý parametr v závorce dvojtečku a název datového typu\n",
    "    - plus závorku pomocnou šipku -> a název výsledného datového typu\n",
    "    - lze to udělat i mimo fce pro proměnné (za název zase : nazev_datoveho_typu a pak normálně rovná se hodnota)\n",
    "    - pozn. jsou pro mě a ostatní, na fungování nemají vliv\n",
    "- doplňující ohlášení\n",
    "    - není to moc přehledné + proti pravidlům good practise\n",
    "    - ohlášení global\n",
    "        - při definování fce na začátek (!) na samotná řádek dám global nazev_proměnné\n",
    "        - pak ji mohou použití i v jiném, než lokálním rámci\n",
    "    - ohlášení nonlocal\n",
    "        - podobně jako global - dám nonlocal a název/názvy_proměnných na samotný řádek\n",
    "        - akorát v zanořené fci, kde sahám na proměnnou ve vyšším rámci\n",
    "    - overall je lepší to nepoužívat a nemíchat ... já s tím souhlasím, protože jsem líný a přijde mi to moc costly vzhledem k results :))))\n",
    "- je name __main__ nebo ne\n",
    "    - typicky je na konci nějakého modulu (.py)\n",
    "    - používá s při importování\n",
    "    - ve stylu if __name__ == \"__main__\": hlavni_fce() ... else: ...\n",
    "    - když je podmínka splněná, tak jde o primární soubor, takže chceme od něj tu hlavní fci\n",
    "    - když ne, tak jej jen importujeme a chceme jen třeba ty fce --> jen říct, že jej nahrávám (nic zatím spouštět nechci)"
   ]
  },
  {
   "cell_type": "code",
   "execution_count": 14,
   "metadata": {},
   "outputs": [
    {
     "name": "stdout",
     "output_type": "stream",
     "text": [
      "{'a': 3, 'b': 2, 'c': 1, 'd': 1}\n"
     ]
    }
   ],
   "source": [
    "def vypocitej_vyskyt_dat(text):\n",
    "    \"\"\"\n",
    "    Vrátí slovník, který obsahuje vypočítaný výskyt hodnot\n",
    "    v parametru \"text\".\n",
    "\n",
    "    Parametry:\n",
    "    :text: list nebo tuple\n",
    "        Zadaný objekt, jehož hodnoty funkce počítá.\n",
    "\n",
    "    :vyskyt: dict\n",
    "        Eviduje výskyty jednotlivých hodnot.\n",
    "        \n",
    "    Příklad:\n",
    "    >>> vysledek = vypocitej_vyskyt_dat(\"a\", \"b\", \"a\")\n",
    "    >>> vysledek\n",
    "    {\"a\": 2, \"b\": 1}\n",
    "    \"\"\"\n",
    "    vyskyt = {}\n",
    "    \n",
    "    for slovo in text:\n",
    "        vyskyt[slovo] = vyskyt.setdefault(slovo, 0) + 1\n",
    "\n",
    "    return vyskyt\n",
    "\n",
    "\n",
    "print(vypocitej_vyskyt_dat((\"a\", \"b\", \"a\", \"c\", \"d\", \"b\", \"a\")))"
   ]
  },
  {
   "cell_type": "code",
   "execution_count": 15,
   "metadata": {},
   "outputs": [
    {
     "name": "stdout",
     "output_type": "stream",
     "text": [
      "Help on function vypocitej_vyskyt_dat in module __main__:\n",
      "\n",
      "vypocitej_vyskyt_dat(text)\n",
      "    Vrátí slovník, který obsahuje vypočítaný výskyt hodnot\n",
      "    v parametru \"text\".\n",
      "    \n",
      "    Parametry:\n",
      "    :text: list nebo tuple\n",
      "        Zadaný objekt, jehož hodnoty funkce počítá.\n",
      "    \n",
      "    :vyskyt: dict\n",
      "        Eviduje výskyty jednotlivých hodnot.\n",
      "        \n",
      "    Příklad:\n",
      "    >>> vysledek = vypocitej_vyskyt_dat(\"a\", \"b\", \"a\")\n",
      "    >>> vysledek\n",
      "    {\"a\": 2, \"b\": 1}\n",
      "\n",
      "None\n"
     ]
    }
   ],
   "source": [
    "print(help(vypocitej_vyskyt_dat))"
   ]
  },
  {
   "cell_type": "code",
   "execution_count": 19,
   "metadata": {},
   "outputs": [
    {
     "name": "stdout",
     "output_type": "stream",
     "text": [
      "100\n",
      "Name\n",
      "True\n"
     ]
    }
   ],
   "source": [
    "#typ hints\n",
    "def vynasob_hodnoty(x, y):\n",
    "    return x * y\n",
    "\n",
    "def vynasob_hodnoty(x: int, y: int) -> int:\n",
    "    return x * y \n",
    "\n",
    "vek: int = 100\n",
    "jmeno: str = \"Name\"\n",
    "je_user: bool = True\n",
    "\n",
    "print(vek, jmeno, je_user, sep=\"\\n\")"
   ]
  },
  {
   "cell_type": "markdown",
   "metadata": {},
   "source": [
    "<h3> Cvičení 2: Filtruj emaily </h3>"
   ]
  },
  {
   "cell_type": "code",
   "execution_count": 22,
   "metadata": {},
   "outputs": [
    {
     "name": "stdout",
     "output_type": "stream",
     "text": [
      "['danek11@seznam.cz', 'rennud15@gmail.com']\n"
     ]
    }
   ],
   "source": [
    "adresy = [\n",
    "   \"matous@holinka.com\",\n",
    "   \"danek11@seznam.cz\",\n",
    "   \"rennud15@gmail.com\",\n",
    "   \"pepa@centrum.cz\"\n",
    "]\n",
    "\n",
    "def filtruj_adresy_s_cisly(adresy):\n",
    "    vysledek = list()\n",
    "    for adresa in adresy:\n",
    "        znaky = set(adresa)\n",
    "        for znak in znaky:\n",
    "            if znak.isnumeric():\n",
    "                vysledek.append(adresa)\n",
    "                break\n",
    "            else:\n",
    "                pass\n",
    "    return vysledek\n",
    "\n",
    "vysledek = filtruj_adresy_s_cisly(adresy)\n",
    "print(vysledek)"
   ]
  },
  {
   "cell_type": "markdown",
   "metadata": {},
   "source": [
    "<h3> Cvičení 3: Prvočíslo </h3>"
   ]
  },
  {
   "cell_type": "code",
   "execution_count": null,
   "metadata": {},
   "outputs": [],
   "source": [
    "#!!!!!!!!!!!!DOPLNIT!!!!!!!!!!!!"
   ]
  }
 ],
 "metadata": {
  "kernelspec": {
   "display_name": "Python 3",
   "language": "python",
   "name": "python3"
  },
  "language_info": {
   "codemirror_mode": {
    "name": "ipython",
    "version": 3
   },
   "file_extension": ".py",
   "mimetype": "text/x-python",
   "name": "python",
   "nbconvert_exporter": "python",
   "pygments_lexer": "ipython3",
   "version": "3.11.6"
  }
 },
 "nbformat": 4,
 "nbformat_minor": 2
}
