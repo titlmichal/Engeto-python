{
 "cells": [
  {
   "cell_type": "markdown",
   "metadata": {},
   "source": [
    "<h1> Portfolio management app </h1>"
   ]
  },
  {
   "cell_type": "markdown",
   "metadata": {},
   "source": [
    "<h2> Read-me </h2>\n",
    "\n",
    "Cílem projektu je usnadnit si práci s osobními financemi v rovině vedení záznamů. V aktuální chvíli se mohu vydat dvěma cestami: měsíční reporting cashflow a jeho detailů nebo investiční backlog. Vzhledem k tomu, že cílem je co nejvíce automatizovat vedení reportingu, tak k prototypování a případné šíření považuji za lepší variantu investičního reportingu, neboť alespoň v současné chvílí jde primárně o nákupní pokyny, které by případně bylo možné snadněji napojit na API brokera/burzy, než klasický banking. Možná se pletu, každopádně první verze bude počítat spíše s manuálními inputy, v lepším případě napojení na aktuální kurzy, v ideálním případě napojení na aktuální ceny vlastněných aktiv, aby měl uživatel přehled o aktuálním majetku. Well, lets see where this goes :)\n",
    "\n",
    "<h3> Features </h3>\n",
    "\n",
    "Zde si budu psát potřebné/očekávané/... featurky, abych na ně trochu implicitně myslel už od začátku:\n",
    "- úvodní přivítání uživatele s textem a nabídkou možností, ideálně by měl vidět i trochu grafiky ve stylu rámečků apod.\n",
    "- jednotlivé možnosti by měly být smysluplně rozděleny do kategorií, aby šly v kódu ale i při použití dobře odlišit a případně upravovat/implementovat\n",
    "- v tuhle chvíli to vidím na kategorie: \n",
    "    1) investiční pohyby (jednotlivé funkcionality: nákup, prodej, úprava starších dat) \n",
    "    2) reporting samotný (zobrazení všech pohybů, shrnutí investovaných částek dle instrumentů, shrnutí kusů instrumentů, aktuální hodnota instrumentů)\n",
    "    3) investiční kalkulačka (nabídnout uživateli použít aktuální portfolio, resp jeho cenu, případně vložit částku dle chuti, investiční horizont, týdenní/měsíční/roční vklady apod. ... prostě klasika složené úročení)\n",
    "    4) ... asi zatím vše, možná přidám víc napadů později\n",
    "- "
   ]
  },
  {
   "cell_type": "code",
   "execution_count": 9,
   "metadata": {},
   "outputs": [
    {
     "name": "stdout",
     "output_type": "stream",
     "text": [
      "__________________________________________________ \n",
      " ### VÍTEJ V PORTFOLIO MANAGEMENT APPCE ### \n",
      " __________________________________________________ \n",
      " \n",
      "Jsem rád, že myslíš na svou budoucnost. Tahle appka má za cíl ti pomoct a zjednodušit cestu ke zdravému spoření a menší finanční závislosti na státu.\n",
      "Aktuálně můžeš vybírat z těchto funkcionalit:\n",
      "    - Pohyby\n",
      "    - Reporting\n",
      "    - Kalkulačka\n",
      "Moc toho tu zatím není, ale snad to bude brzy lepší. V každé z možností najdeš další vysvětlující text spolu s možnostmi, co můžeš udělat dál. \n",
      "Vždycky se může zadáním *back* můžeš vrátit zpět. Tak to zkus a dej vědět, co ty na to :)\n",
      " __________________________________________________\n",
      "lol\n",
      "<bound method Kernel.raw_input of <ipykernel.ipkernel.IPythonKernel object at 0x000001D13708BED0>>...hm, to tu zatím pro tebe nemám. Zkus něco z nabídky (v 1. pádě) nebo se vrať později.\n",
      "kol\n",
      "<bound method Kernel.raw_input of <ipykernel.ipkernel.IPythonKernel object at 0x000001D13708BED0>>...hm, to tu zatím pro tebe nemám. Zkus něco z nabídky (v 1. pádě) nebo se vrať později.\n",
      "pohyby\n",
      "Zvolil/a jsi možnost investičních pohybů.\n"
     ]
    }
   ],
   "source": [
    "vodorovny_znak = \"_\"\n",
    "svisly_znak = \"|\"\n",
    "welcome_header = \"### VÍTEJ V PORTFOLIO MANAGEMENT APPCE ###\"\n",
    "welcome_text = \"\"\"\n",
    "Jsem rád, že myslíš na svou budoucnost. Tahle appka má za cíl ti pomoct a zjednodušit cestu ke zdravému spoření a menší finanční závislosti na státu.\n",
    "Aktuálně můžeš vybírat z těchto funkcionalit:\n",
    "    - Pohyby\n",
    "    - Reporting\n",
    "    - Kalkulačka\n",
    "Moc toho tu zatím není, ale snad to bude brzy lepší. V každé z možností najdeš další vysvětlující text spolu s možnostmi, co můžeš udělat dál. \n",
    "Vždycky se může zadáním *back* můžeš vrátit zpět. Tak to zkus a dej vědět, co ty na to :)\n",
    "\"\"\"\n",
    "pohyby_text = \"pohyby_text\"\n",
    "reporting_text = \"reporting_text\"\n",
    "kalkulacka_text = \"kalkulacka_text\"\n",
    "\n",
    "hlavni_funkce = [\"pohyby\", \"reporting\", \"kalkulačka\"]\n",
    "\n",
    "print(\n",
    "    vodorovny_znak * 50,\n",
    "    \"\\n\",\n",
    "    welcome_header,\n",
    "    \"\\n\",\n",
    "    vodorovny_znak * 50,\n",
    "    \"\\n\",\n",
    "    welcome_text,\n",
    "    vodorovny_znak * 50\n",
    ")\n",
    "while True:\n",
    "    vstup = input(\"Co z možností bys chtěl/a zkusit? \").lower()\n",
    "    print(vstup)\n",
    "    if vstup in hlavni_funkce:\n",
    "        if vstup == \"pohyby\":\n",
    "            print(\"Zvolil/a jsi možnost investičních pohybů.\")\n",
    "        elif vstup == \"reporting\":\n",
    "            print(\"Zvolil/a jsi možnost investičního reportingu.\")\n",
    "        elif vstup == \"kalkulačka\":\n",
    "            print(\"Zvolil/a jsi možnost investiční kalkulačky.\")\n",
    "        break\n",
    "    else:\n",
    "        print(f\"{input}...hm, to tu zatím pro tebe nemám. Zkus něco z nabídky (v 1. pádě) nebo se vrať později.\")"
   ]
  }
 ],
 "metadata": {
  "kernelspec": {
   "display_name": "Python 3",
   "language": "python",
   "name": "python3"
  },
  "language_info": {
   "codemirror_mode": {
    "name": "ipython",
    "version": 3
   },
   "file_extension": ".py",
   "mimetype": "text/x-python",
   "name": "python",
   "nbconvert_exporter": "python",
   "pygments_lexer": "ipython3",
   "version": "3.11.6"
  }
 },
 "nbformat": 4,
 "nbformat_minor": 2
}
