{
 "cells": [
  {
   "cell_type": "markdown",
   "metadata": {},
   "source": [
    "<h1> LEKCE 9 </h1>\n",
    "\n",
    "- \n",
    "\n",
    "<h2> Textové soubory a práce se soubory </h2>\n",
    "\n",
    "- aka I/O files (input/output)\n",
    "    - podobně jako input a print\n",
    "- skrze např. .txt\n",
    "- aby mohl Python pracovat se souborem, musí\n",
    "    - jej otevřít\n",
    "    - upravit/číst\n",
    "    - uzavřít\n",
    "- při inicializaci je třeba říct, že jde o nový objekt\n",
    "    fce open --> povinné jméno souboru, volitlené režim (w jako write, r jako read je default)\n",
    "- k zápisu je potřeba nějak spojit objekt Pythonu a samotného texťáku\n",
    "    - např. pomocí metody write (zapisuje stringy) nebo writelines (zapisuje listy)\n",
    "- nakonec zavřít pomocí metody close\n",
    "    - lze taky ověřit pomocí metody closed, zda je skutečně zavřený\n",
    "\n",
    "- čtení\n",
    "    - při open dám mode=\"r\"\n",
    "    - nebo nic, protože default je r\n",
    "    - read přečte jako jeden string, readline pouze 1. řádek jako string, readlines celý soubor jako list (1 řádek = 1 údaj)\n",
    "- čtení i psaní zároveň\n",
    "    - mode = \"r+\"\n",
    "- nežádoucí přepisování - když už v souboru něco mám a otevřu v režimu w, tak píšu od začátku\n",
    "    --> vše si přepíšu\n",
    "    - při opakovaném otevírání a zavírání je tak lepší režim a jako append, který pokračuje na konci otevřeného souboru"
   ]
  },
  {
   "cell_type": "code",
   "execution_count": 2,
   "metadata": {},
   "outputs": [
    {
     "name": "stdout",
     "output_type": "stream",
     "text": [
      "True\n"
     ]
    }
   ],
   "source": [
    "jmeno_souboru = \"novy_soubor.txt\"\n",
    "pozdrav = \"Ahoj, toto je první zápis do txt\"\n",
    "\n",
    "#otevření\n",
    "txt_soubor = open(jmeno_souboru, mode=\"w\")\n",
    "#zápis\n",
    "txt_soubor.write(pozdrav)\n",
    "#uzavření\n",
    "txt_soubor.close()\n",
    "print(txt_soubor.closed)"
   ]
  },
  {
   "cell_type": "code",
   "execution_count": 5,
   "metadata": {},
   "outputs": [
    {
     "name": "stdout",
     "output_type": "stream",
     "text": [
      "Ahoj, toto je první zápis do txt\n"
     ]
    },
    {
     "data": {
      "text/plain": [
       "<function TextIOWrapper.close()>"
      ]
     },
     "execution_count": 5,
     "metadata": {},
     "output_type": "execute_result"
    }
   ],
   "source": [
    "#otevření při čtení\n",
    "txt_soubor = open(jmeno_souboru, mode=\"r\")\n",
    "#čtení\n",
    "obsah_txt = txt_soubor.read()\n",
    "print(obsah_txt)\n",
    "txt_soubor.close"
   ]
  },
  {
   "cell_type": "code",
   "execution_count": 13,
   "metadata": {},
   "outputs": [
    {
     "name": "stdout",
     "output_type": "stream",
     "text": [
      "Ahoj, toto je první zápis do txt\n",
      "Teď přidávám druhý řádek\n"
     ]
    }
   ],
   "source": [
    "#režim r+\n",
    "radek_2 = \"\\nTeď přidávám druhý řádek\"\n",
    "\n",
    "txt_soubor = open(\"novy_soubor.txt\", mode=\"r+\")\n",
    "obsah_txt = txt_soubor.read()\n",
    "txt_soubor.write(radek_2)\n",
    "print(obsah_txt)\n",
    "txt_soubor.close()"
   ]
  },
  {
   "cell_type": "code",
   "execution_count": 16,
   "metadata": {},
   "outputs": [
    {
     "name": "stdout",
     "output_type": "stream",
     "text": [
      "\n",
      "Teď přidávám druhý řádek\n"
     ]
    }
   ],
   "source": [
    "radek_3 = \"\\nTeď přidávám druhý řádek\"\n",
    "\n",
    "txt_soubor = open(\"novy_soubor.txt\", mode=\"w\")\n",
    "txt_soubor.write(radek_3)\n",
    "txt_soubor.close()\n",
    "\n",
    "txt_soubor = open(\"novy_soubor.txt\", mode=\"r\")\n",
    "obsah_txt = txt_soubor.read()\n",
    "txt_soubor.close()\n",
    "print(obsah_txt)\n",
    "#tady jsem si přepsal celý texťák, protože režim byl normální write"
   ]
  },
  {
   "cell_type": "code",
   "execution_count": 17,
   "metadata": {},
   "outputs": [
    {
     "name": "stdout",
     "output_type": "stream",
     "text": [
      "\n",
      "Teď přidávám druhý řádek\n",
      "Toto by byl už čtvrtý řádek, ale protože jsem si první dva přepsal, tak je druhý\n"
     ]
    }
   ],
   "source": [
    "#použití režimu a (append)\n",
    "txt_soubor = open(\"novy_soubor.txt\", mode=\"a\")\n",
    "txt_soubor.write(\"\\nToto by byl už čtvrtý řádek, ale protože jsem si první dva přepsal, tak je druhý\")\n",
    "txt_soubor.close()\n",
    "\n",
    "txt_soubor = open(\"novy_soubor.txt\", mode=\"r\")\n",
    "obsah_txt = txt_soubor.read()\n",
    "txt_soubor.close()\n",
    "print(obsah_txt)"
   ]
  },
  {
   "cell_type": "markdown",
   "metadata": {},
   "source": [
    "<h2> Práce s (dalšími) soubory </h2>\n",
    "\n",
    "- mp3, pdf, png, ...\n",
    "- prvně je musím najít --> cesta\n",
    "- může se to lišit dle systému\n",
    "    - Windows: C:\\Users\\Bob\\Documents\\gifts.txt\n",
    "    - Mac/Linux: /home/Bob/Documents/gifts.txt\n",
    "- cesta musí být zapsána jako str\n",
    "- absolutní X relativní cesta\n",
    "    - absolutní: viz výše, počáteční bod označen jako root\n",
    "    - relativní: dle práce v aktuálním adresáři\n",
    "    - když mám třeba modul ve složce, která je v aktuální složce, kde pracuji, tak musím upravit příkaz ke spustění na: python nazev_podsložky\\modul.py\n",
    "    - relativní tak neobsahuje nutně celou cestu nebo vůbec (když jde o stejné adresáře)\n",
    "- nejlepší, teď na začátku, tak pracovat v jedné složce\n",
    "- kontextový manažer (with)\n",
    "    - má spojit 3 kroky v jednom bloku: inicializace (otevření) + zpracování (třeba zápis) + uzavření\n",
    "    - začnu s with\n",
    "    - pokračuji s open(nazev_souboru, mode)\n",
    "    - po závorkách akronym --> as nazev_akronymu\n",
    "    - dvojtečka :\n",
    "        - odsadím, co chci provést\n",
    "    - po konci odsazení interpret sám objekt zavře\n",
    "    - navíc, když dojde k chybě uvnit manažeru, objekt je i tak uazvřen"
   ]
  },
  {
   "cell_type": "code",
   "execution_count": 21,
   "metadata": {},
   "outputs": [
    {
     "name": "stdout",
     "output_type": "stream",
     "text": [
      "nový txt s kontextovým manažerem\n",
      "True\n"
     ]
    }
   ],
   "source": [
    "#kontexktový manažer pro textáky\n",
    "with open(\"dalsi_soubor.txt\", mode=\"w\") as txt_soubor:\n",
    "    txt_soubor.write(\"nový txt s kontextovým manažerem\")\n",
    "\n",
    "with open(\"dalsi_soubor.txt\", mode=\"r\") as txt_soubor:\n",
    "    obsah_txt = txt_soubor.read()\n",
    "\n",
    "print(obsah_txt)\n",
    "print(txt_soubor.closed)"
   ]
  },
  {
   "cell_type": "markdown",
   "metadata": {},
   "source": [
    "<h3> Cvičení 1: Přečti slova </h3>"
   ]
  },
  {
   "cell_type": "code",
   "execution_count": 36,
   "metadata": {},
   "outputs": [
    {
     "name": "stdout",
     "output_type": "stream",
     "text": [
      "['koupelna', 'nacitani', 'cokolada', 'asociace', 'lavicka', 'zamestnanec', 'balicek', 'komunikace', 'popularni']\n"
     ]
    }
   ],
   "source": [
    "txt_soubor = open(\"slova.txt\", mode=\"w\")\n",
    "txt_soubor.write(\"\"\"\n",
    "koupelna\n",
    "zona\n",
    "syr\n",
    "teta\n",
    "kriz\n",
    "rodina\n",
    "nacitani\n",
    "cokolada\n",
    "asociace\n",
    "lavicka\n",
    "povrch\n",
    "rotace\n",
    "zamestnanec\n",
    "balicek\n",
    "komunikace\n",
    "popularni\n",
    "veta\n",
    "\"\"\")\n",
    "txt_soubor.close()\n",
    "\n",
    "def zobraz_slova(textovy_soubor):\n",
    "    vysledek = list()\n",
    "    txt_soubor = open(textovy_soubor, mode=\"r\")\n",
    "    obsah_txt = txt_soubor.readlines()\n",
    "    for i in obsah_txt:\n",
    "        slovo = i.strip(\"\\n\")\n",
    "        if len(slovo) >= 7:\n",
    "            vysledek.append(slovo)\n",
    "    return vysledek\n",
    "\n",
    "if __name__== \"__main__\":\n",
    "    print(zobraz_slova(\"slova.txt\"))"
   ]
  },
  {
   "cell_type": "markdown",
   "metadata": {},
   "source": [
    "<h3> Cvičení 2: Vytvoř textový soubor </h3>"
   ]
  },
  {
   "cell_type": "code",
   "execution_count": 42,
   "metadata": {},
   "outputs": [
    {
     "name": "stdout",
     "output_type": "stream",
     "text": [
      "['První řádek v souboru,\\n', 'druhý řádek v souboru,\\n', 'třetí řádek v souboru.']\n"
     ]
    }
   ],
   "source": [
    "prvni_radek = \"První řádek v souboru,\\n\"\n",
    "druhy_radek = \"druhý řádek v souboru,\\n\"\n",
    "treti_radek = \"třetí řádek v souboru.\"\n",
    "\n",
    "txt_soubor1 = open(\"txt_soubor1.txt\", mode=\"w\")\n",
    "txt_soubor1.write(prvni_radek)\n",
    "txt_soubor1.write(druhy_radek)\n",
    "txt_soubor1.write(treti_radek)\n",
    "txt_soubor1.close()\n",
    "\n",
    "txt_soubor1 = open(\"txt_soubor1.txt\", mode=\"r\")\n",
    "obsah_txt = txt_soubor1.readlines()\n",
    "\n",
    "print(obsah_txt)"
   ]
  },
  {
   "cell_type": "markdown",
   "metadata": {},
   "source": [
    "<h2> Formátování stringů </h2>\n",
    "\n",
    "- = vizuální úprava stringu\n",
    "- 3 basic způsoby\n",
    "    - formátovací výraz\n",
    "    - formátovací metoda\n",
    "    - formátovaný string (also f-string)\n",
    "- formátovací výraz\n",
    "    - starší, od začátku Pythonu\n",
    "    - konverzní operátory: %s %d (kam přijdou hodnoty)\n",
    "        - %d pro celé číslo\n",
    "        - %f pro desetinné\n",
    "        - %s pro text\n",
    "    - operátor %\n",
    "    - tuple proměnných na konci (dle pozičního přístupu)\n",
    "    - lze taky řešit skrze to default šírku, výplň nebo zarovnání či přesnost\n",
    "    - dnes se NEDOPORUČUJE, protože nemusí dobře pracovat s tuplem nebo dictem + nepraktické\n",
    "- formátovací metoda\n",
    "    - od v2.6\n",
    "    - složené závorky {} pro místo pro hodnoty\n",
    "    - metoda .format(argumenty proměnných/hodnot)\n",
    "    - dle pozice nebo pořadí\n",
    "    - umí taky šírku, zarovnání, výplň, přesnost, řadový oddělovač, znaménka ... vše lze kombinovat\n",
    "- f-string\n",
    "    - od v3.6\n",
    "    - prostě f před začátkem \"\"\n",
    "    - a pak v {nazev_proměnné}\n",
    "    - lze tak zapsat i funkci (prostě do {} dám nazev_funkce(argumenty)) nebo to použít pro více řádkový zápis\n",
    "    - POZOR U SLOVNÍKU: mapování klíčů je nutné pomocí jednoducchý '' (!)\n",
    "    - další formátování podobně jako u formátovací metody (!)\n",
    "    - nejvíc used\n",
    "- zabudované metody (krom .format())\n",
    "    - .ljust, .rjust, .center a .zfill"
   ]
  },
  {
   "cell_type": "code",
   "execution_count": 3,
   "metadata": {},
   "outputs": [
    {
     "name": "stdout",
     "output_type": "stream",
     "text": [
      "Ahoj, jmenuji s Michal a jem 24 let\n",
      "|  54|\n",
      "|0054|\n",
      "|54   |\n",
      "|   54|\n",
      "|54|\n",
      "|54.7|\n",
      "|1.123457|1.123457e+00|1.12346|\n"
     ]
    }
   ],
   "source": [
    "#formátovací výraz\n",
    "jmeno = \"Michal\"\n",
    "vek = 24\n",
    "\n",
    "print(\"Ahoj, jmenuji s %s a jem %d let\" % (jmeno, vek))\n",
    "#šírka\n",
    "print(\"|%4d|\" % (54,))\n",
    "#výplň\n",
    "print('|%04d|' % (54,))\n",
    "#zarovnání\n",
    "print(\n",
    "    \"|%-5d|\" % (54,),\n",
    "    \"|%5d|\" % (54,),\n",
    "    sep=\"\\n\"\n",
    ")\n",
    "#přesnost\n",
    "print(\n",
    "    \"|%.2d|\" % (54.653,),\n",
    "    \"|%.1f|\" % (54.653,),\n",
    "    sep=\"\\n\"\n",
    ")\n",
    "\n",
    "\n",
    "num = 1.1234567\n",
    "print(\"|%f|%e|%g|\" % (num, num, num))"
   ]
  },
  {
   "cell_type": "code",
   "execution_count": 5,
   "metadata": {},
   "outputs": [
    {
     "name": "stdout",
     "output_type": "stream",
     "text": [
      "Ahoj, jmenuji se Michal a je mi 24\n",
      "Ahoj, jmenuji se 24 a je mi Michal\n"
     ]
    }
   ],
   "source": [
    "#formátovací metoda\n",
    "jmeno = \"Michal\"\n",
    "vek = 24\n",
    "print(\"Ahoj, jmenuji se {} a je mi {}\".format(jmeno, vek))\n",
    "\n",
    "jmeno = \"Michal\"\n",
    "vek = 24\n",
    "print(\"Ahoj, jmenuji se {1} a je mi {0}\".format(jmeno, vek))"
   ]
  },
  {
   "cell_type": "code",
   "execution_count": 14,
   "metadata": {},
   "outputs": [
    {
     "name": "stdout",
     "output_type": "stream",
     "text": [
      "|desktop|\n",
      "|desktop        |\n",
      "|    desktop    |\n",
      "|desktop        |\n",
      "|        desktop|\n",
      "|$$$$$$$$desktop|\n",
      "|12.4|\n",
      "|12.36|\n",
      "|123,456,789|\n",
      "|280| |+280| | 280|\n"
     ]
    }
   ],
   "source": [
    "#další formy formátovací metody\n",
    "\n",
    "#šírka\n",
    "print(\"|{}|\".format(\"desktop\"))\n",
    "print(\"|{:15}|\".format(\"desktop\"))\n",
    "#zarovnání\n",
    "print(\"|{:^15}|\".format(\"desktop\"))\n",
    "print(\"|{:<15}|\".format(\"desktop\"))\n",
    "#výplň\n",
    "print(\"|{:>15}|\".format(\"desktop\"))\n",
    "print(\"|{:$>15}|\".format(\"desktop\"))\n",
    "#přesnost\n",
    "print(\n",
    "    \"|{:.3}|\".format(12.356),\n",
    "    \"|{:.4}|\".format(12.356),\n",
    "    sep=\"\\n\"\n",
    ")\n",
    "#řadový oddělovač (dle tisíců)\n",
    "print(\"|{0:,}|\".format(123456789))\n",
    "#znaménka\n",
    "print(\n",
    "    \"|{0:-}|\".format(280),\n",
    "    \"|{0:+}|\".format(280),\n",
    "    \"|{0: }|\".format(280)\n",
    ")"
   ]
  },
  {
   "cell_type": "code",
   "execution_count": 15,
   "metadata": {},
   "outputs": [
    {
     "name": "stdout",
     "output_type": "stream",
     "text": [
      "Ahoj, jmenuji se michal a je mi 24 let\n"
     ]
    }
   ],
   "source": [
    "#f-string\n",
    "jmeno = \"michal\"\n",
    "vek = 24\n",
    "\n",
    "print(f\"Ahoj, jmenuji se {jmeno} a je mi {vek} let\")"
   ]
  },
  {
   "cell_type": "code",
   "execution_count": 17,
   "metadata": {},
   "outputs": [
    {
     "name": "stdout",
     "output_type": "stream",
     "text": [
      "5xxxxxxxxx\n",
      "xxxxxxxxx5\n",
      "xxxx5xxxxx\n",
      "0000000005\n"
     ]
    }
   ],
   "source": [
    "#další built-in\n",
    "print(\"5\".ljust(10,\"x\"))\n",
    "print(\"5\".rjust(10,\"x\"))\t\n",
    "print(\"5\".center(10,\"x\"))\t\n",
    "print(\"5\".zfill(10))\t"
   ]
  },
  {
   "cell_type": "markdown",
   "metadata": {},
   "source": [
    "<h3> Cvičení 3: Zaokrouhli hodnoty </h3>"
   ]
  },
  {
   "cell_type": "code",
   "execution_count": 39,
   "metadata": {},
   "outputs": [
    {
     "name": "stdout",
     "output_type": "stream",
     "text": [
      "Naformátovaná přesnost: |1.23e+02|123.5|123.46|,\n",
      "Naformátovaná kombinace: |1.234$|,\n",
      "Naformátovaný string: |Hell|.\n",
      "Zapisuji do souboru.\n"
     ]
    }
   ],
   "source": [
    "kombinace = 1.234\n",
    "presnost_str = \"Hello\"\n",
    "presnost_cisla = 123.4567\n",
    "\n",
    "formatovana_presnost = \"|%.2e|%.1f|%.2f|\" % (presnost_cisla, presnost_cisla, presnost_cisla)\n",
    "formatovana_kombinace= f\"|{kombinace}$|\"\n",
    "formatovana_presnost_str = f\"|{presnost_str[0:4]}|\"\n",
    "\n",
    "print(f\"Naformátovaná přesnost: {formatovana_presnost},\", \n",
    "      f\"Naformátovaná kombinace: {formatovana_kombinace},\", \n",
    "      f\"Naformátovaný string: {formatovana_presnost_str}.\",\n",
    "      \"Zapisuji do souboru.\",\n",
    "      sep=\"\\n\")\n",
    "\n",
    "txt_soubor = open(\"vysledek.txt\", mode=\"w\")\n",
    "txt_soubor.write(f\"{formatovana_presnost} \\n\")\n",
    "txt_soubor.write(f\"{formatovana_kombinace} \\n\")\n",
    "txt_soubor.write(f\"{formatovana_presnost_str} \\n\")\n",
    "txt_soubor.close()"
   ]
  }
 ],
 "metadata": {
  "kernelspec": {
   "display_name": "Python 3",
   "language": "python",
   "name": "python3"
  },
  "language_info": {
   "codemirror_mode": {
    "name": "ipython",
    "version": 3
   },
   "file_extension": ".py",
   "mimetype": "text/x-python",
   "name": "python",
   "nbconvert_exporter": "python",
   "pygments_lexer": "ipython3",
   "version": "3.11.6"
  }
 },
 "nbformat": 4,
 "nbformat_minor": 2
}
