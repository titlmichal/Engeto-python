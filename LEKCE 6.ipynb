{
 "cells": [
  {
   "cell_type": "markdown",
   "metadata": {},
   "source": [
    "<h1> LEKCE 6 </h1>\n",
    "\n",
    "... od šesté lekce kód i notes v odpovídajícím jupyteru..."
   ]
  },
  {
   "cell_type": "markdown",
   "metadata": {},
   "source": [
    "...akorát si tady napíšu pár věcí z live 5. lekce :D\n",
    "<h2> COMPREHENSION </h2>\n",
    "- pro zjednodušení zápisu"
   ]
  },
  {
   "cell_type": "code",
   "execution_count": null,
   "metadata": {},
   "outputs": [],
   "source": [
    "nasobek = list()\n",
    "for cislo in range(30):\n",
    "    nasobek.append(cislo ** 2)\n",
    "print(nasobek)"
   ]
  }
 ],
 "metadata": {
  "kernelspec": {
   "display_name": "Python 3",
   "language": "python",
   "name": "python3"
  },
  "language_info": {
   "codemirror_mode": {
    "name": "ipython",
    "version": 3
   },
   "file_extension": ".py",
   "mimetype": "text/x-python",
   "name": "python",
   "nbconvert_exporter": "python",
   "pygments_lexer": "ipython3",
   "version": "3.11.6"
  }
 },
 "nbformat": 4,
 "nbformat_minor": 2
}
