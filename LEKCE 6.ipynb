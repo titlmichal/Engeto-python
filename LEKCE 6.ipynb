{
 "cells": [
  {
   "cell_type": "markdown",
   "metadata": {},
   "source": [
    "<h1> LEKCE 5 </h1>\n",
    "\n",
    "... od šesté lekce kód i notes v odpovídajícím jupyteru..."
   ]
  },
  {
   "cell_type": "markdown",
   "metadata": {},
   "source": [
    "...akorát si tady napíšu pár věcí z live 5. lekce :D\n",
    "<h2> COMPREHENSION </h2>\n",
    "\n",
    "- pro zjednodušení zápisu"
   ]
  },
  {
   "cell_type": "code",
   "execution_count": 4,
   "metadata": {},
   "outputs": [
    {
     "name": "stdout",
     "output_type": "stream",
     "text": [
      "[0, 2, 4, 6, 8, 10, 12, 14, 16, 18, 20, 22, 24, 26, 28, 30, 32, 34, 36, 38, 40, 42, 44, 46, 48, 50, 52, 54, 56, 58]\n"
     ]
    }
   ],
   "source": [
    "nasobek = list()\n",
    "for cislo in range(30):\n",
    "    nasobek.append(cislo * 2)\n",
    "print(nasobek)"
   ]
  },
  {
   "cell_type": "markdown",
   "metadata": {},
   "source": [
    "- tu for smyčku lze ale zapsat kratším způsobem:"
   ]
  },
  {
   "cell_type": "code",
   "execution_count": 5,
   "metadata": {},
   "outputs": [
    {
     "name": "stdout",
     "output_type": "stream",
     "text": [
      "[0, 2, 4, 6, 8, 10, 12, 14, 16, 18, 20, 22, 24, 26, 28, 30, 32, 34, 36, 38, 40, 42, 44, 46, 48, 50, 52, 54, 56, 58]\n"
     ]
    }
   ],
   "source": [
    "nasobek = [cislo * 2 for cislo in range(30)]\n",
    "print(nasobek)"
   ]
  },
  {
   "cell_type": "markdown",
   "metadata": {},
   "source": [
    "- co když tam ale chci přidat třeba podmínky?"
   ]
  },
  {
   "cell_type": "code",
   "execution_count": 11,
   "metadata": {},
   "outputs": [
    {
     "name": "stdout",
     "output_type": "stream",
     "text": [
      "[2, 4, 6, 10, 12, 14]\n"
     ]
    }
   ],
   "source": [
    "data = [1, 2, 3, \"a\", 5, 6, \"@\", 7, \"7\"]\n",
    "nasobek = [i * 2 for i in data if isinstance(i, int)]\n",
    "print(nasobek)"
   ]
  },
  {
   "cell_type": "markdown",
   "metadata": {},
   "source": [
    "- basically to udělám v hranatých závorkách + napíšu, co se má stát + pak standardní syntax for + případně pak přidám podmínku\n",
    "\n",
    "nasobek = [\n",
    "    [hodnota, nebo prostě, co s tím udělat]\n",
    "    [for smyčka]\n",
    "    [podmínka]\n",
    "]\n",
    "\n",
    "- z logiky věci potřebuju předtím mít z čeho ty data ve smyčce tahat\n",
    "- ta podmínka je tam pak takový filtr (možná podobný jak WHERE v SQLku)\n",
    "- podobný comba jdou dělat i se slovníky nebo sety/množinami --> viz studijní materiály"
   ]
  },
  {
   "cell_type": "markdown",
   "metadata": {},
   "source": [
    "<h2> Lekce 5 - úkoly v hodině </h2>"
   ]
  },
  {
   "cell_type": "markdown",
   "metadata": {},
   "source": [
    "1) vypíše list zbývajích písmen a bude se ptát dokola uživatele, aby zadal písmeno ke smazání, dokud nebude list prázdný\n",
    "btw Ctrl + ´ (vedle backspacu) o a odkomentuje vše označené (!!!)"
   ]
  },
  {
   "cell_type": "code",
   "execution_count": 9,
   "metadata": {},
   "outputs": [
    {
     "name": "stdout",
     "output_type": "stream",
     "text": [
      "a, a, a, a, a, a, a, a, a, a, b, b, b, c, c\n",
      "b, b, b, c, c\n",
      "c, c\n"
     ]
    }
   ],
   "source": [
    "pismena = list(\"abcd\")\n",
    "pismena = [\"a\", \"b\", \"c\", \"d\", \"a\", \"e\", \"g\"]\n",
    "\n",
    "while pismena:                      #0 dá False --> stačí len(pismena) --> dokonce stačí jen bool, resp jen samotný list (prázdný list hodí False)\n",
    "    print(\", \".join(pismena))       #VYPÍŠE HODNOTY Z LISTU ODDĚLENÉ ČÁRKOU\n",
    "    zadani = input(\"Zadej písmeno, které chceš vymazat\")\n",
    "    if zadani in pismena:           #když bych místo IF dal WHILE, smaže všechny odpovídající písmenka\n",
    "        pismena.remove(zadani)"
   ]
  },
  {
   "cell_type": "markdown",
   "metadata": {},
   "source": [
    "2) nákup v obchodě"
   ]
  },
  {
   "cell_type": "code",
   "execution_count": 6,
   "metadata": {},
   "outputs": [
    {
     "name": "stdout",
     "output_type": "stream",
     "text": [
      "           Vítejte v obchodě!           \n",
      "========================================\n",
      " POTRAVINA:   mleko   - CENA: 30 Kč\n",
      " POTRAVINA:   maso    - CENA: 100 Kč\n",
      " POTRAVINA:   banan   - CENA: 30 Kč\n",
      " POTRAVINA:  jogurt   - CENA: 10 Kč\n",
      " POTRAVINA:   chleb   - CENA: 20 Kč\n",
      " POTRAVINA:  jablko   - CENA: 10 Kč\n",
      " POTRAVINA: pomeranc  - CENA: 15 Kč\n",
      "========================================\n",
      "------\n",
      "{'maso': [100, 1]}\n",
      "{'mleko': [30, 5], 'maso': [100, 0], 'banan': [30, 10], 'jogurt': [10, 5], 'chleb': [20, 5], 'jablko': [10, 10], 'pomeranc': [15, 10]}\n",
      "------\n",
      "Zboží quit nemáme v nabídce - zvolte jiné\n",
      "------\n",
      "{'maso': [100, 1]}\n",
      "{'mleko': [30, 5], 'maso': [100, 0], 'banan': [30, 10], 'jogurt': [10, 5], 'chleb': [20, 5], 'jablko': [10, 10], 'pomeranc': [15, 10]}\n",
      "------\n",
      "Nashledanou!\n"
     ]
    }
   ],
   "source": [
    "kosik = {}\n",
    "oddelovac = \"=\" * 40\n",
    "potraviny = {\n",
    "    \"mleko\": [30, 5],      #index 0 je cena, index 1 počet\n",
    "    \"maso\": [100, 1],\n",
    "    \"banan\": [30, 10],\n",
    "    \"jogurt\": [10, 5],\n",
    "    \"chleb\": [20, 5],\n",
    "    \"jablko\": [10, 10],\n",
    "    \"pomeranc\": [15, 10]\n",
    "}\n",
    "print(\"Vítejte v obchodě!\".center(len(oddelovac)), oddelovac, sep=\"\\n\")\n",
    "for i in potraviny:\n",
    "    print(f\" POTRAVINA: {i: ^9} - CENA: {potraviny[i][0]} Kč\")           #defaultně slovník iteruje klíčem\n",
    "                            #tou dvojtečkou a stříškou (alt + 94) udělám délku stringu (!!!)\n",
    "print(oddelovac)\n",
    "zbozi = \"\"\n",
    "while zbozi != \"quit\":\n",
    "    zbozi = input(\"Jaké zboží byste chtěl/a přidat do košíku? \")\n",
    "    if zbozi not in potraviny:                                          #slovník --> opět defaultně řeší klíč, ne cenu nebo množství\n",
    "        print(f\"Zboží {zbozi} nemáme v nabídce - zvolte jiné\")\n",
    "    elif zbozi not in kosik and potraviny[zbozi][1] > 0:\n",
    "        kosik[zbozi] = [potraviny[zbozi][0], 1]\n",
    "        potraviny[zbozi][1] -= 1 \n",
    "    elif zbozi in kosik and potraviny[zbozi][1] > 0:\n",
    "        kosik[zbozi][1] += 1\n",
    "        potraviny[zbozi][1] -= 1 \n",
    "    elif potraviny[zbozi][1] == 0:\n",
    "        print(f\"Zboží {zbozi} je vyprodano :(\")\n",
    "    print(\"------\")\n",
    "    print(kosik)\n",
    "    print(potraviny)\n",
    "    print(\"------\")\n",
    "else:\n",
    "    print(\"Nashledanou!\")"
   ]
  },
  {
   "cell_type": "code",
   "execution_count": null,
   "metadata": {},
   "outputs": [],
   "source": [
    "<h1> LEKCE 6 </h1>"
   ]
  }
 ],
 "metadata": {
  "kernelspec": {
   "display_name": "Python 3",
   "language": "python",
   "name": "python3"
  },
  "language_info": {
   "codemirror_mode": {
    "name": "ipython",
    "version": 3
   },
   "file_extension": ".py",
   "mimetype": "text/x-python",
   "name": "python",
   "nbconvert_exporter": "python",
   "pygments_lexer": "ipython3",
   "version": "3.11.6"
  }
 },
 "nbformat": 4,
 "nbformat_minor": 2
}
