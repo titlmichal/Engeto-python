{
 "cells": [
  {
   "cell_type": "markdown",
   "metadata": {},
   "source": [
    "<h1> LEKCE 5 </h1>\n",
    "\n",
    "... od šesté lekce kód i notes v odpovídajícím jupyteru..."
   ]
  },
  {
   "cell_type": "markdown",
   "metadata": {},
   "source": [
    "...akorát si tady napíšu pár věcí z live 5. lekce :D\n",
    "<h2> COMPREHENSION </h2>\n",
    "\n",
    "- pro zjednodušení zápisu"
   ]
  },
  {
   "cell_type": "code",
   "execution_count": 4,
   "metadata": {},
   "outputs": [
    {
     "name": "stdout",
     "output_type": "stream",
     "text": [
      "[0, 2, 4, 6, 8, 10, 12, 14, 16, 18, 20, 22, 24, 26, 28, 30, 32, 34, 36, 38, 40, 42, 44, 46, 48, 50, 52, 54, 56, 58]\n"
     ]
    }
   ],
   "source": [
    "nasobek = list()\n",
    "for cislo in range(30):\n",
    "    nasobek.append(cislo * 2)\n",
    "print(nasobek)"
   ]
  },
  {
   "cell_type": "markdown",
   "metadata": {},
   "source": [
    "- tu for smyčku lze ale zapsat kratším způsobem:"
   ]
  },
  {
   "cell_type": "code",
   "execution_count": 5,
   "metadata": {},
   "outputs": [
    {
     "name": "stdout",
     "output_type": "stream",
     "text": [
      "[0, 2, 4, 6, 8, 10, 12, 14, 16, 18, 20, 22, 24, 26, 28, 30, 32, 34, 36, 38, 40, 42, 44, 46, 48, 50, 52, 54, 56, 58]\n"
     ]
    }
   ],
   "source": [
    "nasobek = [cislo * 2 for cislo in range(30)]\n",
    "print(nasobek)"
   ]
  },
  {
   "cell_type": "markdown",
   "metadata": {},
   "source": [
    "- co když tam ale chci přidat třeba podmínky?"
   ]
  },
  {
   "cell_type": "code",
   "execution_count": 11,
   "metadata": {},
   "outputs": [
    {
     "name": "stdout",
     "output_type": "stream",
     "text": [
      "[2, 4, 6, 10, 12, 14]\n"
     ]
    }
   ],
   "source": [
    "data = [1, 2, 3, \"a\", 5, 6, \"@\", 7, \"7\"]\n",
    "nasobek = [i * 2 for i in data if isinstance(i, int)]\n",
    "print(nasobek)"
   ]
  },
  {
   "cell_type": "markdown",
   "metadata": {},
   "source": [
    "- basically to udělám v hranatých závorkách + napíšu, co se má stát + pak standardní syntax for + případně pak přidám podmínku\n",
    "\n",
    "nasobek = [\n",
    "    [hodnota, nebo prostě, co s tím udělat]\n",
    "    [for smyčka]\n",
    "    [podmínka]\n",
    "]\n",
    "\n",
    "- z logiky věci potřebuju předtím mít z čeho ty data ve smyčce tahat\n",
    "- ta podmínka je tam pak takový filtr (možná podobný jak WHERE v SQLku)\n",
    "- podobný comba jdou dělat i se slovníky nebo sety/množinami --> viz studijní materiály"
   ]
  },
  {
   "cell_type": "markdown",
   "metadata": {},
   "source": [
    "<h2> Lekce 5 - úkoly v hodině </h2>"
   ]
  },
  {
   "cell_type": "markdown",
   "metadata": {},
   "source": [
    "1) vypíše list zbývajích písmen a bude se ptát dokola uživatele, aby zadal písmeno ke smazání, dokud nebude list prázdný\n",
    "btw Ctrl + ´ (vedle backspacu) o a odkomentuje vše označené (!!!)"
   ]
  },
  {
   "cell_type": "code",
   "execution_count": 9,
   "metadata": {},
   "outputs": [
    {
     "name": "stdout",
     "output_type": "stream",
     "text": [
      "a, a, a, a, a, a, a, a, a, a, b, b, b, c, c\n",
      "b, b, b, c, c\n",
      "c, c\n"
     ]
    }
   ],
   "source": [
    "pismena = list(\"abcd\")\n",
    "pismena = [\"a\", \"b\", \"c\", \"d\", \"a\", \"e\", \"g\"]\n",
    "\n",
    "while pismena:                      #0 dá False --> stačí len(pismena) --> dokonce stačí jen bool, resp jen samotný list (prázdný list hodí False)\n",
    "    print(\", \".join(pismena))       #VYPÍŠE HODNOTY Z LISTU ODDĚLENÉ ČÁRKOU\n",
    "    zadani = input(\"Zadej písmeno, které chceš vymazat\")\n",
    "    if zadani in pismena:           #když bych místo IF dal WHILE, smaže všechny odpovídající písmenka\n",
    "        pismena.remove(zadani)"
   ]
  },
  {
   "cell_type": "markdown",
   "metadata": {},
   "source": [
    "2) nákup v obchodě"
   ]
  },
  {
   "cell_type": "code",
   "execution_count": 6,
   "metadata": {},
   "outputs": [
    {
     "name": "stdout",
     "output_type": "stream",
     "text": [
      "           Vítejte v obchodě!           \n",
      "========================================\n",
      " POTRAVINA:   mleko   - CENA: 30 Kč\n",
      " POTRAVINA:   maso    - CENA: 100 Kč\n",
      " POTRAVINA:   banan   - CENA: 30 Kč\n",
      " POTRAVINA:  jogurt   - CENA: 10 Kč\n",
      " POTRAVINA:   chleb   - CENA: 20 Kč\n",
      " POTRAVINA:  jablko   - CENA: 10 Kč\n",
      " POTRAVINA: pomeranc  - CENA: 15 Kč\n",
      "========================================\n",
      "------\n",
      "{'maso': [100, 1]}\n",
      "{'mleko': [30, 5], 'maso': [100, 0], 'banan': [30, 10], 'jogurt': [10, 5], 'chleb': [20, 5], 'jablko': [10, 10], 'pomeranc': [15, 10]}\n",
      "------\n",
      "Zboží quit nemáme v nabídce - zvolte jiné\n",
      "------\n",
      "{'maso': [100, 1]}\n",
      "{'mleko': [30, 5], 'maso': [100, 0], 'banan': [30, 10], 'jogurt': [10, 5], 'chleb': [20, 5], 'jablko': [10, 10], 'pomeranc': [15, 10]}\n",
      "------\n",
      "Nashledanou!\n"
     ]
    }
   ],
   "source": [
    "kosik = {}\n",
    "oddelovac = \"=\" * 40\n",
    "potraviny = {\n",
    "    \"mleko\": [30, 5],      #index 0 je cena, index 1 počet\n",
    "    \"maso\": [100, 1],\n",
    "    \"banan\": [30, 10],\n",
    "    \"jogurt\": [10, 5],\n",
    "    \"chleb\": [20, 5],\n",
    "    \"jablko\": [10, 10],\n",
    "    \"pomeranc\": [15, 10]\n",
    "}\n",
    "print(\"Vítejte v obchodě!\".center(len(oddelovac)), oddelovac, sep=\"\\n\")\n",
    "for i in potraviny:\n",
    "    print(f\" POTRAVINA: {i: ^9} - CENA: {potraviny[i][0]} Kč\")           #defaultně slovník iteruje klíčem\n",
    "                            #tou dvojtečkou a stříškou (alt + 94) udělám délku stringu (!!!)\n",
    "print(oddelovac)\n",
    "zbozi = \"\"\n",
    "while zbozi != \"quit\":\n",
    "    zbozi = input(\"Jaké zboží byste chtěl/a přidat do košíku? \")\n",
    "    if zbozi not in potraviny:                                          #slovník --> opět defaultně řeší klíč, ne cenu nebo množství\n",
    "        print(f\"Zboží {zbozi} nemáme v nabídce - zvolte jiné\")\n",
    "    elif zbozi not in kosik and potraviny[zbozi][1] > 0:\n",
    "        kosik[zbozi] = [potraviny[zbozi][0], 1]\n",
    "        potraviny[zbozi][1] -= 1 \n",
    "    elif zbozi in kosik and potraviny[zbozi][1] > 0:\n",
    "        kosik[zbozi][1] += 1\n",
    "        potraviny[zbozi][1] -= 1 \n",
    "    elif potraviny[zbozi][1] == 0:\n",
    "        print(f\"Zboží {zbozi} je vyprodano :(\")\n",
    "    print(\"------\")\n",
    "    print(kosik)\n",
    "    print(potraviny)\n",
    "    print(\"------\")\n",
    "else:\n",
    "    print(\"Nashledanou!\")"
   ]
  },
  {
   "cell_type": "markdown",
   "metadata": {},
   "source": [
    "<h1> LEKCE 6 </h1>"
   ]
  },
  {
   "cell_type": "markdown",
   "metadata": {},
   "source": [
    "<h2> Knihovny v Pythonu </h2>"
   ]
  },
  {
   "cell_type": "markdown",
   "metadata": {},
   "source": [
    "- víceméně soubory, kde je přípona .py\n",
    "- obecně 2 typy:\n",
    "    - moduly: samotný soubor s příponou .py\n",
    "    - balíčky: obsahuje více modulů\n",
    "- různé příklady: datetime (práce s datumy a časem), string (additional string operace), decimal (přesná práce s desetinnými místy), ...\n",
    "- použít knihovnu = nahrát ji\n",
    "- různé podoby nahrávání:\n",
    "    - import <knihovna>\n",
    "    - from <knihovna> import\n",
    "    - from <knihonva> import <objekt>\n",
    "    - ...\n",
    "- vždy se importy píšou na začátku kódu"
   ]
  },
  {
   "cell_type": "code",
   "execution_count": 1,
   "metadata": {},
   "outputs": [
    {
     "name": "stdout",
     "output_type": "stream",
     "text": [
      "1\n"
     ]
    }
   ],
   "source": [
    "import math\n",
    "\n",
    "print(math.floor(1.234))"
   ]
  },
  {
   "cell_type": "code",
   "execution_count": 3,
   "metadata": {},
   "outputs": [
    {
     "name": "stdout",
     "output_type": "stream",
     "text": [
      "3.141592653589793\n"
     ]
    }
   ],
   "source": [
    "import math\n",
    "\n",
    "print(math.pi)"
   ]
  },
  {
   "cell_type": "markdown",
   "metadata": {},
   "source": [
    "<h3> Ohlášení nahrávání knihoven </h3>\n",
    "\n",
    "- nejčastěji jako import + název knihovny (bez .py)\n",
    "- from <knihovna> import *\n",
    "    - není to moc časté - hodí se spíš do interaktivních zápisů apod.\n",
    "- from <knihovna> import <proměnná>\n",
    "    - když stačí jedna proměnná\n",
    "- from <knihovna> import <proměnná> as <alias>\n",
    "    - hodí se, když proměnná má super dlouhý název a byla by otrava jej pořád vypisovat\n",
    "- import <knihovna> as <alias>\n",
    "    - podobně jako výše\n",
    "- když knihovna rovnou pro něco sahá/vykonává kód, tak se to udělá při importu\n",
    "    - --> je dobré dát obsah (vlastní) knihovny pod podmínku, např.:\n",
    "    - if __name__ == \"__main__\": ...\n",
    "    - interpreter totiž při spuštění kódů přiřazuje speciální hodnoty (kam patří i __name__)\n",
    "    - takže jen při NAHRÁNÍ se knihovna nespustí, při spuštění kódu nastaví hodnotu __name__ dle názvu"
   ]
  },
  {
   "cell_type": "code",
   "execution_count": 4,
   "metadata": {},
   "outputs": [
    {
     "name": "stdout",
     "output_type": "stream",
     "text": [
      "3.141592653589793\n"
     ]
    }
   ],
   "source": [
    "from math import pi as p\n",
    "\n",
    "print(p)"
   ]
  },
  {
   "cell_type": "code",
   "execution_count": 5,
   "metadata": {},
   "outputs": [
    {
     "name": "stdout",
     "output_type": "stream",
     "text": [
      "3.141592653589793\n"
     ]
    }
   ],
   "source": [
    "import math as m\n",
    "\n",
    "print(m.pi)"
   ]
  },
  {
   "cell_type": "markdown",
   "metadata": {},
   "source": [
    "<h2> Moduly </h2>"
   ]
  },
  {
   "cell_type": "markdown",
   "metadata": {},
   "source": [
    "- cokoliv s příponou .py (takže všechny .py souboury, co jsem tu do teď měl), několik jich je už built-in\n",
    "- můžu si třeba v jednomu modulu uložit jen něco malého jako list a pak z knihovny (from soubor import list) to nahrát jinam\n",
    "- tychle malé věci nemusíme rozdělovat do modulů, ale v praxi velké projekty se rozdělují do modulů\n",
    "- když si nevím rady?\n",
    "    - --> print(help(nazev_knihovny)) \n",
    "    - NEBO rovnou print(help(nazev_knihovny.funkcionalita))\n",
    "- když chci znát všechny objekty v modulu?\n",
    "    --> print(dir(knihovna))\n",
    "    - btw to s __ na začátku a na konci jsou magické metody (teď netřeba řešit)\n",
    "- když mám něco naimportované (třeba různé proměnné), tak musím uvést při použití objektů ten zdroj --> zdrojova_knihovna.proměnná\n",
    "- modul/importovaný kód musí být ve stejné složce\n",
    "- modul je objekt, chová se jako každý jiný objekt --> musí být zadefinovaný (tj. např. prvně importuju, pak používám)\n",
    "- btw Python neupozorní, když si přepíšu naimportovanou proměnnou (!)\n",
    "- když dám jen import nazev_modulu, tak Python půjde tam a spustí ho (aby zadefinoval obsah, který pak chceme použít)\n",
    "- btw když dělám s jupynotebookem, tak velké množství kódu si můžu hodit do .py souboru a pak importovat, ALE NELZE importovat notebok (pouze DO notebooku)\n",
    "- když bychom si měli všechno psát od základu (bez knihoven/modelů), tak nikdy v životě nic pořádného nenapíšeme\n",
    "    - --> proto používáme built-in moduly nebo třetích stran"
   ]
  },
  {
   "cell_type": "code",
   "execution_count": 6,
   "metadata": {},
   "outputs": [
    {
     "name": "stdout",
     "output_type": "stream",
     "text": [
      "True\n",
      "False\n"
     ]
    }
   ],
   "source": [
    "import os       #pro práci s OS\n",
    "import sys      #...přístup k některým systémovým proměnným\n",
    "import random   #...pro pseudo-random procesy\n",
    "\n",
    "print(\n",
    "    \"os\" in dir() \\\n",
    "    and \"sys\" in dir() \\\n",
    "    and \"random\" in dir()       #tohle bude TRUE, protože se to nahrálo\n",
    ")\n",
    "print(\"muj modul\" in dir())     #tohle FALSE, protože je to pouze fiktivní (pro vlastní modul, když bych nějaký měl)"
   ]
  },
  {
   "cell_type": "code",
   "execution_count": null,
   "metadata": {},
   "outputs": [],
   "source": [
    "import math\n",
    "\n",
    "print(help(math))"
   ]
  },
  {
   "cell_type": "code",
   "execution_count": null,
   "metadata": {},
   "outputs": [],
   "source": [
    "import os\n",
    "\n",
    "print(help(os.path))"
   ]
  },
  {
   "cell_type": "code",
   "execution_count": 10,
   "metadata": {},
   "outputs": [
    {
     "name": "stdout",
     "output_type": "stream",
     "text": [
      "['__doc__', '__loader__', '__name__', '__package__', '__spec__', 'acos', 'acosh', 'asin', 'asinh', 'atan', 'atan2', 'atanh', 'cbrt', 'ceil', 'comb', 'copysign', 'cos', 'cosh', 'degrees', 'dist', 'e', 'erf', 'erfc', 'exp', 'exp2', 'expm1', 'fabs', 'factorial', 'floor', 'fmod', 'frexp', 'fsum', 'gamma', 'gcd', 'hypot', 'inf', 'isclose', 'isfinite', 'isinf', 'isnan', 'isqrt', 'lcm', 'ldexp', 'lgamma', 'log', 'log10', 'log1p', 'log2', 'modf', 'nan', 'nextafter', 'perm', 'pi', 'pow', 'prod', 'radians', 'remainder', 'sin', 'sinh', 'sqrt', 'tan', 'tanh', 'tau', 'trunc', 'ulp']\n"
     ]
    }
   ],
   "source": [
    "import math\n",
    "\n",
    "print(dir(math))"
   ]
  },
  {
   "cell_type": "code",
   "execution_count": 2,
   "metadata": {},
   "outputs": [
    {
     "name": "stdout",
     "output_type": "stream",
     "text": [
      "['c:\\\\Users\\\\Michal\\\\Desktop\\\\Engeto python', 'C:\\\\Program Files\\\\WindowsApps\\\\PythonSoftwareFoundation.Python.3.11_3.11.1776.0_x64__qbz5n2kfra8p0\\\\python311.zip', 'C:\\\\Program Files\\\\WindowsApps\\\\PythonSoftwareFoundation.Python.3.11_3.11.1776.0_x64__qbz5n2kfra8p0\\\\DLLs', 'C:\\\\Program Files\\\\WindowsApps\\\\PythonSoftwareFoundation.Python.3.11_3.11.1776.0_x64__qbz5n2kfra8p0\\\\Lib', 'C:\\\\Program Files\\\\WindowsApps\\\\PythonSoftwareFoundation.Python.3.11_3.11.1776.0_x64__qbz5n2kfra8p0', '', 'C:\\\\Users\\\\Michal\\\\AppData\\\\Local\\\\Packages\\\\PythonSoftwareFoundation.Python.3.11_qbz5n2kfra8p0\\\\LocalCache\\\\local-packages\\\\Python311\\\\site-packages', 'C:\\\\Users\\\\Michal\\\\AppData\\\\Local\\\\Packages\\\\PythonSoftwareFoundation.Python.3.11_qbz5n2kfra8p0\\\\LocalCache\\\\local-packages\\\\Python311\\\\site-packages\\\\win32', 'C:\\\\Users\\\\Michal\\\\AppData\\\\Local\\\\Packages\\\\PythonSoftwareFoundation.Python.3.11_qbz5n2kfra8p0\\\\LocalCache\\\\local-packages\\\\Python311\\\\site-packages\\\\win32\\\\lib', 'C:\\\\Users\\\\Michal\\\\AppData\\\\Local\\\\Packages\\\\PythonSoftwareFoundation.Python.3.11_qbz5n2kfra8p0\\\\LocalCache\\\\local-packages\\\\Python311\\\\site-packages\\\\Pythonwin', 'C:\\\\Program Files\\\\WindowsApps\\\\PythonSoftwareFoundation.Python.3.11_3.11.1776.0_x64__qbz5n2kfra8p0\\\\Lib\\\\site-packages']\n"
     ]
    }
   ],
   "source": [
    "import sys\n",
    "\n",
    "print(sys.path)\n",
    "#list cest, kudy se k souboru lze dostat"
   ]
  },
  {
   "cell_type": "code",
   "execution_count": 5,
   "metadata": {},
   "outputs": [
    {
     "name": "stdout",
     "output_type": "stream",
     "text": [
      "['# LEKCE 1.py', '# LEKCE 2.py', '# LEKCE 3.py', '# LEKCE 4.py', '# LEKCE 5.py', '# Python projekt 1.py', '.git', 'cheat sheets', 'gify', 'LEKCE 6.ipynb', 'module.py', 'obrazky', 'README.md', 'skript1.py', 'texty']\n",
      "c:\\Users\\Michal\\Desktop\\Engeto python\n"
     ]
    }
   ],
   "source": [
    "import os\n",
    "\n",
    "print(os.listdir())\n",
    "#vypíše soubory na stejné úrovni (ve stejné složce), jako je tento soubor\n",
    "print(os.getcwd())\n",
    "#get current working directory --> vypíše, v jaké složce jsme"
   ]
  },
  {
   "cell_type": "code",
   "execution_count": null,
   "metadata": {},
   "outputs": [],
   "source": [
    "syp.path.append(\"cesta/jak/se/dostat/k/souboru/co/není/ve/stejné/složce\")"
   ]
  },
  {
   "cell_type": "markdown",
   "metadata": {},
   "source": [
    "<h2> Balíčky </h2>"
   ]
  },
  {
   "cell_type": "markdown",
   "metadata": {},
   "source": [
    "- sbírka modulů, nějaká složka, adresář, ..., kde je modulů víc .. prostě knihovna\n",
    "    - moduly = soubory X balíky = adresáře\n",
    "- mj. JSON obsahuje i __init__.py a __pycache__\n",
    "    - init k indexaci a nalzení konkrétního modulu interpretem (když není v adresáři, interpreter tam nehledá)\n",
    "    - do pycache pak interpret ukládá soubory s příponou .pyc (když existují --> přeskočí --> rychlejší spuštění X když ne --> vytvoří ji --> příště rychlejší); hodí se to taky při kompilaci do bytecodu\n",
    "- Python pozná, že jde o balík, protože tam je ten soubor __init__.py\n",
    "    - většinou je prázdný, když ne, chceme to tam nechat, protože to má svůj důvod\n",
    "- složka __pycache__ se vytvoří sama\n",
    "    - pomáhá rychlejšímu spuštění z balíku\n",
    "    - když to smažeme, tak to neva, ale po spuštění se vytvoří znovu"
   ]
  },
  {
   "cell_type": "code",
   "execution_count": 10,
   "metadata": {},
   "outputs": [
    {
     "name": "stdout",
     "output_type": "stream",
     "text": [
      "<function pprint at 0x0000023E618C0360>\n"
     ]
    }
   ],
   "source": [
    "#když nechci vždy vypisovat název modulu před objektem\n",
    "from pprint import *\n",
    "\n",
    "# naimportuje vše --> nemusíme/nemůžeme psát pprint.objekt\n",
    "print(pprint)"
   ]
  },
  {
   "cell_type": "markdown",
   "metadata": {},
   "source": [
    "- má to tu výhodu, že už nemusíme psát objekt s tou cestou\n",
    "- ALE mohou se tak potkat stejná jména funkcí, proměnných, ...\n",
    "- typicky fce typu visualize, save, ... --> první přepíšeme druhým\n",
    "- ... a ani o tom nemusíme vědět\n",
    "- --> lepší informovat třeba jednotlivé fce/objekty\n",
    "    - from modul import proměnnou/objekt\n",
    "    - navíc lze za to ještě přidat as <alias>, čímž to nějak přejmenujeme, abychom si to nepřepsali\n",
    "    - třeba numpy se často importují jako import numpy as np nebo pandas jako import pandas as pd\n",
    "- POZOR, když už mám ve složce soubor, který se jmenuje stejně jako knihovna (třeba pandas), tak vezme ten soubor (!)\n",
    "    - často se to stává s modulem math\n",
    "    - sice se naimportuje třeba ten math soubor, ale ten lokální, kde budou ty věci z built-in knihovny chybět\n",
    "    - ... a Python to neohlásí\n",
    "- "
   ]
  },
  {
   "cell_type": "code",
   "execution_count": 17,
   "metadata": {},
   "outputs": [
    {
     "name": "stdout",
     "output_type": "stream",
     "text": [
      "Helo\n"
     ]
    }
   ],
   "source": [
    "if __name__ == \"__main__\":\n",
    "    print(\"Helo\")"
   ]
  },
  {
   "cell_type": "code",
   "execution_count": 16,
   "metadata": {},
   "outputs": [
    {
     "name": "stdout",
     "output_type": "stream",
     "text": [
      "__main__\n"
     ]
    }
   ],
   "source": [
    "print(__name__)"
   ]
  },
  {
   "cell_type": "markdown",
   "metadata": {},
   "source": [
    "- při importu se spustí kód, klasika žejo\n",
    "- pokud tam ale budu mít tu podmínku výše, tak ...\n",
    "- každý soubor má jméno a to lze zjisti přímo v Pythonu (pomocí třeba print(__name__))\n",
    "- jakmile něco spustíme přímo (ten hlavní soubor), bude mít jméno __main__ (2 podtržítka main 2 podtržítka)\n",
    "    - btw když tam jsou ty podtržítka na začátku a na konci, tak to obvykle znamená v Pythonu, že je to něco special\n",
    "    - ostatní se jmenuje tak, jak je to pojmenované\n",
    "    - soubor zůstává stejný, jen se přepíše ten string názvu\n",
    "- takže když dám do importovaného modulu print(__name__), tak hodí skutečný název\n",
    "- ... --> pokud spustíme soubor přímo, vykoná se to pod podmínkou\n",
    "    - pokud nepřímo (skrze import), tak se nespustí\n",
    "- --> je dobré to dávat do kódu, který importujeme, abychom schovali kód z modulu, který nepotřebujeme vidět (printy, operace, vizualizace, ...)"
   ]
  },
  {
   "cell_type": "markdown",
   "metadata": {},
   "source": [
    "<h3> Cvičení 1: Kámen, nůžky, papír </h3>"
   ]
  },
  {
   "cell_type": "code",
   "execution_count": 15,
   "metadata": {},
   "outputs": [
    {
     "name": "stdout",
     "output_type": "stream",
     "text": [
      "Hráč: kamen\n",
      "Počítač: kamen\n",
      "Nerozhodně...\n"
     ]
    }
   ],
   "source": [
    "import random\n",
    "\n",
    "moznosti = [\"kamen\", \"nuzky\", \"papir\"]\n",
    "hrac = \"kamen\"\n",
    "pocitac = random.choice(moznosti)\n",
    "\n",
    "print(\"Hráč:\", hrac)\n",
    "print(\"Počítač:\", pocitac)\n",
    "if hrac == pocitac:\n",
    "    print(\"Nerozhodně...\")\n",
    "else:\n",
    "    if hrac == \"kamen\":\n",
    "        if pocitac == \"nuzky\":\n",
    "            print(\"Vyhrál jsi!\")\n",
    "        else:\n",
    "            print(\"Prohrál jsi!\")\n",
    "    elif hrac == \"nuzky\":\n",
    "        if pocitac == \"kamen\":\n",
    "            print(\"Prohrál jsi!\")\n",
    "        else:\n",
    "            print(\"Vyhrál jsi!\")\n",
    "    elif hrac == \"papir\":\n",
    "        if pocitac == \"kamen\":\n",
    "            print(\"Vyhrál jsi!\")\n",
    "        else:\n",
    "            print(\"Prohrál jsi!\")\n",
    "    else:\n",
    "        print(\"CHYBA!\")"
   ]
  },
  {
   "cell_type": "markdown",
   "metadata": {},
   "source": [
    "<h3> Cvičení 2: Vytvoř složky </h3>"
   ]
  },
  {
   "cell_type": "code",
   "execution_count": 26,
   "metadata": {},
   "outputs": [
    {
     "name": "stdout",
     "output_type": "stream",
     "text": [
      "['# LEKCE 1.py', '# LEKCE 2.py', '# LEKCE 3.py', '# LEKCE 4.py', '# LEKCE 5.py', '# Python projekt 1.py', '.git', 'cheat sheets', 'LEKCE 6.ipynb', 'module.py', 'README.md', 'skript1.py']\n",
      "Vytvářím složku: obrazky\n",
      "Vytvářím složku: texty\n",
      "Vytvářím složku: gify\n",
      "Všechny složky existují\n"
     ]
    }
   ],
   "source": [
    "import os\n",
    "\n",
    "jmena_slozek = [\"obrazky\", \"texty\", \"gify\"]\n",
    "print(os.listdir())\n",
    "for i in jmena_slozek:\n",
    "    if i in os.listdir():\n",
    "        print(\"Složka již existuje!\")\n",
    "    else:\n",
    "        os.mkdir(i)\n",
    "        print(\"Vytvářím složku:\", i)\n",
    "print(\"Všechny složky existují\")"
   ]
  },
  {
   "cell_type": "markdown",
   "metadata": {},
   "source": [
    "<h3> Cvičení 3: Hod kostkou </h3>"
   ]
  },
  {
   "cell_type": "code",
   "execution_count": 36,
   "metadata": {},
   "outputs": [
    {
     "name": "stdout",
     "output_type": "stream",
     "text": [
      "Házím kostkou...\n",
      "Na kostce je: 6\n",
      "Házím kostkou...\n",
      "Na kostce je: 2\n"
     ]
    }
   ],
   "source": [
    "import random\n",
    "\n",
    "min_hodnota = int(1)\n",
    "max_hodnota = int(6)\n",
    "while True:\n",
    "    print(\"Házím kostkou...\")\n",
    "    kostka_hodnota = random.randint(min_hodnota, max_hodnota)\n",
    "    print(\"Na kostce je:\", kostka_hodnota)\n",
    "    if kostka_hodnota != 6:\n",
    "        break\n"
   ]
  },
  {
   "cell_type": "code",
   "execution_count": 18,
   "metadata": {},
   "outputs": [
    {
     "name": "stdout",
     "output_type": "stream",
     "text": [
      "Collecting pandas\n",
      "  Obtaining dependency information for pandas from https://files.pythonhosted.org/packages/77/62/8e11962934e024a093758992bc82711e3e30efd5ea355cbfdc6e1ab5de76/pandas-2.2.0-cp311-cp311-win_amd64.whl.metadata\n",
      "  Downloading pandas-2.2.0-cp311-cp311-win_amd64.whl.metadata (19 kB)\n",
      "Collecting numpy<2,>=1.23.2 (from pandas)\n",
      "  Obtaining dependency information for numpy<2,>=1.23.2 from https://files.pythonhosted.org/packages/3f/6b/5610004206cf7f8e7ad91c5a85a8c71b2f2f8051a0c0c4d5916b76d6cbb2/numpy-1.26.4-cp311-cp311-win_amd64.whl.metadata\n",
      "  Downloading numpy-1.26.4-cp311-cp311-win_amd64.whl.metadata (61 kB)\n",
      "     ---------------------------------------- 0.0/61.0 kB ? eta -:--:--\n",
      "     ------------------- ------------------ 30.7/61.0 kB 640.0 kB/s eta 0:00:01\n",
      "     ---------------------------------------- 61.0/61.0 kB 1.1 MB/s eta 0:00:00\n",
      "Requirement already satisfied: python-dateutil>=2.8.2 in c:\\users\\michal\\appdata\\local\\packages\\pythonsoftwarefoundation.python.3.11_qbz5n2kfra8p0\\localcache\\local-packages\\python311\\site-packages (from pandas) (2.8.2)\n",
      "Collecting pytz>=2020.1 (from pandas)\n",
      "  Obtaining dependency information for pytz>=2020.1 from https://files.pythonhosted.org/packages/9c/3d/a121f284241f08268b21359bd425f7d4825cffc5ac5cd0e1b3d82ffd2b10/pytz-2024.1-py2.py3-none-any.whl.metadata\n",
      "  Downloading pytz-2024.1-py2.py3-none-any.whl.metadata (22 kB)\n",
      "Collecting tzdata>=2022.7 (from pandas)\n",
      "  Obtaining dependency information for tzdata>=2022.7 from https://files.pythonhosted.org/packages/65/58/f9c9e6be752e9fcb8b6a0ee9fb87e6e7a1f6bcab2cdc73f02bb7ba91ada0/tzdata-2024.1-py2.py3-none-any.whl.metadata\n",
      "  Downloading tzdata-2024.1-py2.py3-none-any.whl.metadata (1.4 kB)\n",
      "Requirement already satisfied: six>=1.5 in c:\\users\\michal\\appdata\\local\\packages\\pythonsoftwarefoundation.python.3.11_qbz5n2kfra8p0\\localcache\\local-packages\\python311\\site-packages (from python-dateutil>=2.8.2->pandas) (1.16.0)\n",
      "Downloading pandas-2.2.0-cp311-cp311-win_amd64.whl (11.6 MB)\n",
      "   ---------------------------------------- 0.0/11.6 MB ? eta -:--:--\n",
      "    --------------------------------------- 0.2/11.6 MB 6.1 MB/s eta 0:00:02\n",
      "   --- ------------------------------------ 0.9/11.6 MB 11.7 MB/s eta 0:00:01\n",
      "   ------- -------------------------------- 2.1/11.6 MB 19.4 MB/s eta 0:00:01\n",
      "   ----------- ---------------------------- 3.5/11.6 MB 24.5 MB/s eta 0:00:01\n",
      "   ---------------- ----------------------- 4.8/11.6 MB 25.4 MB/s eta 0:00:01\n",
      "   --------------------- ------------------ 6.1/11.6 MB 27.8 MB/s eta 0:00:01\n",
      "   ------------------------- -------------- 7.5/11.6 MB 29.9 MB/s eta 0:00:01\n",
      "   ------------------------------ --------- 8.8/11.6 MB 31.3 MB/s eta 0:00:01\n",
      "   ----------------------------------- ---- 10.2/11.6 MB 30.9 MB/s eta 0:00:01\n",
      "   ---------------------------------------  11.5/11.6 MB 36.4 MB/s eta 0:00:01\n",
      "   ---------------------------------------- 11.6/11.6 MB 34.4 MB/s eta 0:00:00\n",
      "Downloading numpy-1.26.4-cp311-cp311-win_amd64.whl (15.8 MB)\n",
      "   ---------------------------------------- 0.0/15.8 MB ? eta -:--:--\n",
      "   --- ------------------------------------ 1.4/15.8 MB 43.6 MB/s eta 0:00:01\n",
      "   ------ --------------------------------- 2.7/15.8 MB 34.7 MB/s eta 0:00:01\n",
      "   ---------- ----------------------------- 4.1/15.8 MB 37.1 MB/s eta 0:00:01\n",
      "   ------------- -------------------------- 5.4/15.8 MB 38.8 MB/s eta 0:00:01\n",
      "   ----------------- ---------------------- 6.8/15.8 MB 36.3 MB/s eta 0:00:01\n",
      "   -------------------- ------------------- 8.1/15.8 MB 37.1 MB/s eta 0:00:01\n",
      "   ----------------------- ---------------- 9.5/15.8 MB 37.8 MB/s eta 0:00:01\n",
      "   --------------------------- ------------ 10.8/15.8 MB 38.5 MB/s eta 0:00:01\n",
      "   ------------------------------ --------- 12.1/15.8 MB 36.4 MB/s eta 0:00:01\n",
      "   ---------------------------------- ----- 13.5/15.8 MB 38.5 MB/s eta 0:00:01\n",
      "   ------------------------------------- -- 14.8/15.8 MB 38.6 MB/s eta 0:00:01\n",
      "   ---------------------------------------  15.8/15.8 MB 38.5 MB/s eta 0:00:01\n",
      "   ---------------------------------------- 15.8/15.8 MB 34.4 MB/s eta 0:00:00\n",
      "Downloading pytz-2024.1-py2.py3-none-any.whl (505 kB)\n",
      "   ---------------------------------------- 0.0/505.5 kB ? eta -:--:--\n",
      "   --------------------------------------- 505.5/505.5 kB 31.0 MB/s eta 0:00:00\n",
      "Downloading tzdata-2024.1-py2.py3-none-any.whl (345 kB)\n",
      "   ---------------------------------------- 0.0/345.4 kB ? eta -:--:--\n",
      "   ---------------------------------------- 345.4/345.4 kB ? eta 0:00:00\n",
      "Installing collected packages: pytz, tzdata, numpy, pandas\n",
      "Successfully installed numpy-1.26.4 pandas-2.2.0 pytz-2024.1 tzdata-2024.1\n",
      "Note: you may need to restart the kernel to use updated packages.\n"
     ]
    },
    {
     "name": "stderr",
     "output_type": "stream",
     "text": [
      "\n",
      "[notice] A new release of pip is available: 23.2.1 -> 24.0\n",
      "[notice] To update, run: C:\\Users\\Michal\\AppData\\Local\\Microsoft\\WindowsApps\\PythonSoftwareFoundation.Python.3.11_qbz5n2kfra8p0\\python.exe -m pip install --upgrade pip\n"
     ]
    }
   ],
   "source": [
    "#jak stáhnout knihovny nebo třeba i sdílet práci\n",
    "pip install pandas"
   ]
  },
  {
   "cell_type": "markdown",
   "metadata": {},
   "source": [
    "<h3> Cvičení v hodině - hangman </h3>\n"
   ]
  },
  {
   "cell_type": "code",
   "execution_count": null,
   "metadata": {},
   "outputs": [],
   "source": [
    "from figurka import hangman\n",
    "import os\n",
    "import random\n",
    "\n",
    "slovo = \"nerozhodnost\"          #dočasně zvolené pevné slovo (nenasdílela v době psaní seznam slov), jinak by to bylo random.choice (pak nastavit seed na testování)\n",
    "zivoty = 7\n",
    "hra_bezi = True\n",
    "tajenka = len(slovo) * [\"_\"]\n",
    "\n",
    "while hra_bezi and zivoty > 0:\n",
    "    os.system(\"Clear\")                  #tohle by mělo vyčistit terminál\n",
    "    print(f\"Tajenka: {tajenka}, životy: {zivoty}\")\n",
    "    print(figurka.hangman[7 - zivoty])\n",
    "    hadani = input(\"Hádej písmenko: \")\n",
    "    if hadani == slovo:\n",
    "        hra_bezi = False\n",
    "        print(\"Vyhrál jsi!\")\n",
    "    elif len(hadani) == 1 and hadani in slovo:\n",
    "        for index, pismeno in enumerate(slovo):\n",
    "            if hadani == pismeno:\n",
    "                tajenka[index] = hadani\n",
    "        if \"_\" not in tajenka:\n",
    "            hra_bezi = False\n",
    "            print(\"Vyhrál jsi!\")\n",
    "    else:\n",
    "        zivoty = zivoty - 1\n",
    "\n",
    "if not hra_bezi:           #aka hra_bezi je False\n",
    "    print(\"Vyhrál jsi\")\n",
    "else:\n",
    "    print(figurka.hangman[7])\n",
    "    print(\"Prohrál jsi\")"
   ]
  }
 ],
 "metadata": {
  "kernelspec": {
   "display_name": "Python 3",
   "language": "python",
   "name": "python3"
  },
  "language_info": {
   "codemirror_mode": {
    "name": "ipython",
    "version": 3
   },
   "file_extension": ".py",
   "mimetype": "text/x-python",
   "name": "python",
   "nbconvert_exporter": "python",
   "pygments_lexer": "ipython3",
   "version": "3.11.6"
  }
 },
 "nbformat": 4,
 "nbformat_minor": 2
}
