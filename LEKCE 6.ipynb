{
 "cells": [
  {
   "cell_type": "markdown",
   "metadata": {},
   "source": [
    "<h1> LEKCE 5 </h1>\n",
    "\n",
    "... od šesté lekce kód i notes v odpovídajícím jupyteru..."
   ]
  },
  {
   "cell_type": "markdown",
   "metadata": {},
   "source": [
    "...akorát si tady napíšu pár věcí z live 5. lekce :D\n",
    "<h2> COMPREHENSION </h2>\n",
    "\n",
    "- pro zjednodušení zápisu"
   ]
  },
  {
   "cell_type": "code",
   "execution_count": 4,
   "metadata": {},
   "outputs": [
    {
     "name": "stdout",
     "output_type": "stream",
     "text": [
      "[0, 2, 4, 6, 8, 10, 12, 14, 16, 18, 20, 22, 24, 26, 28, 30, 32, 34, 36, 38, 40, 42, 44, 46, 48, 50, 52, 54, 56, 58]\n"
     ]
    }
   ],
   "source": [
    "nasobek = list()\n",
    "for cislo in range(30):\n",
    "    nasobek.append(cislo * 2)\n",
    "print(nasobek)"
   ]
  },
  {
   "cell_type": "markdown",
   "metadata": {},
   "source": [
    "- tu for smyčku lze ale zapsat kratším způsobem:"
   ]
  },
  {
   "cell_type": "code",
   "execution_count": 5,
   "metadata": {},
   "outputs": [
    {
     "name": "stdout",
     "output_type": "stream",
     "text": [
      "[0, 2, 4, 6, 8, 10, 12, 14, 16, 18, 20, 22, 24, 26, 28, 30, 32, 34, 36, 38, 40, 42, 44, 46, 48, 50, 52, 54, 56, 58]\n"
     ]
    }
   ],
   "source": [
    "nasobek = [cislo * 2 for cislo in range(30)]\n",
    "print(nasobek)"
   ]
  },
  {
   "cell_type": "markdown",
   "metadata": {},
   "source": [
    "- co když tam ale chci přidat třeba podmínky?"
   ]
  },
  {
   "cell_type": "code",
   "execution_count": 11,
   "metadata": {},
   "outputs": [
    {
     "name": "stdout",
     "output_type": "stream",
     "text": [
      "[2, 4, 6, 10, 12, 14]\n"
     ]
    }
   ],
   "source": [
    "data = [1, 2, 3, \"a\", 5, 6, \"@\", 7, \"7\"]\n",
    "nasobek = [i * 2 for i in data if isinstance(i, int)]\n",
    "print(nasobek)"
   ]
  },
  {
   "cell_type": "markdown",
   "metadata": {},
   "source": [
    "- basically to udělám v hranatých závorkách + napíšu, co se má stát + pak standardní syntax for + případně pak přidám podmínku\n",
    "\n",
    "nasobek = [\n",
    "    [hodnota, nebo prostě, co s tím udělat]\n",
    "    [for smyčka]\n",
    "    [podmínka]\n",
    "]\n",
    "\n",
    "- z logiky věci potřebuju předtím mít z čeho ty data ve smyčce tahat\n",
    "- ta podmínka je tam pak takový filtr (možná podobný jak WHERE v SQLku)\n",
    "- podobný comba jdou dělat i se slovníky nebo sety/množinami --> viz studijní materiály"
   ]
  },
  {
   "cell_type": "markdown",
   "metadata": {},
   "source": [
    "<h2> Lekce 5 - úkoly v hodině </h2>"
   ]
  },
  {
   "cell_type": "markdown",
   "metadata": {},
   "source": [
    "1) vypíše list zbývajích písmen a bude se ptát dokola uživatele, aby zadal písmeno ke smazání, dokud nebude list prázdný\n",
    "btw Ctrl + ´ (vedle backspacu) o a odkomentuje vše označené (!!!)"
   ]
  },
  {
   "cell_type": "code",
   "execution_count": 9,
   "metadata": {},
   "outputs": [
    {
     "name": "stdout",
     "output_type": "stream",
     "text": [
      "a, a, a, a, a, a, a, a, a, a, b, b, b, c, c\n",
      "b, b, b, c, c\n",
      "c, c\n"
     ]
    }
   ],
   "source": [
    "pismena = list(\"abcd\")\n",
    "pismena = [\"a\", \"b\", \"c\", \"d\", \"a\", \"e\", \"g\"]\n",
    "\n",
    "while pismena:                      #0 dá False --> stačí len(pismena) --> dokonce stačí jen bool, resp jen samotný list (prázdný list hodí False)\n",
    "    print(\", \".join(pismena))       #VYPÍŠE HODNOTY Z LISTU ODDĚLENÉ ČÁRKOU\n",
    "    zadani = input(\"Zadej písmeno, které chceš vymazat\")\n",
    "    if zadani in pismena:           #když bych místo IF dal WHILE, smaže všechny odpovídající písmenka\n",
    "        pismena.remove(zadani)"
   ]
  },
  {
   "cell_type": "markdown",
   "metadata": {},
   "source": [
    "2) nákup v obchodě"
   ]
  },
  {
   "cell_type": "code",
   "execution_count": 6,
   "metadata": {},
   "outputs": [
    {
     "name": "stdout",
     "output_type": "stream",
     "text": [
      "           Vítejte v obchodě!           \n",
      "========================================\n",
      " POTRAVINA:   mleko   - CENA: 30 Kč\n",
      " POTRAVINA:   maso    - CENA: 100 Kč\n",
      " POTRAVINA:   banan   - CENA: 30 Kč\n",
      " POTRAVINA:  jogurt   - CENA: 10 Kč\n",
      " POTRAVINA:   chleb   - CENA: 20 Kč\n",
      " POTRAVINA:  jablko   - CENA: 10 Kč\n",
      " POTRAVINA: pomeranc  - CENA: 15 Kč\n",
      "========================================\n",
      "------\n",
      "{'maso': [100, 1]}\n",
      "{'mleko': [30, 5], 'maso': [100, 0], 'banan': [30, 10], 'jogurt': [10, 5], 'chleb': [20, 5], 'jablko': [10, 10], 'pomeranc': [15, 10]}\n",
      "------\n",
      "Zboží quit nemáme v nabídce - zvolte jiné\n",
      "------\n",
      "{'maso': [100, 1]}\n",
      "{'mleko': [30, 5], 'maso': [100, 0], 'banan': [30, 10], 'jogurt': [10, 5], 'chleb': [20, 5], 'jablko': [10, 10], 'pomeranc': [15, 10]}\n",
      "------\n",
      "Nashledanou!\n"
     ]
    }
   ],
   "source": [
    "kosik = {}\n",
    "oddelovac = \"=\" * 40\n",
    "potraviny = {\n",
    "    \"mleko\": [30, 5],      #index 0 je cena, index 1 počet\n",
    "    \"maso\": [100, 1],\n",
    "    \"banan\": [30, 10],\n",
    "    \"jogurt\": [10, 5],\n",
    "    \"chleb\": [20, 5],\n",
    "    \"jablko\": [10, 10],\n",
    "    \"pomeranc\": [15, 10]\n",
    "}\n",
    "print(\"Vítejte v obchodě!\".center(len(oddelovac)), oddelovac, sep=\"\\n\")\n",
    "for i in potraviny:\n",
    "    print(f\" POTRAVINA: {i: ^9} - CENA: {potraviny[i][0]} Kč\")           #defaultně slovník iteruje klíčem\n",
    "                            #tou dvojtečkou a stříškou (alt + 94) udělám délku stringu (!!!)\n",
    "print(oddelovac)\n",
    "zbozi = \"\"\n",
    "while zbozi != \"quit\":\n",
    "    zbozi = input(\"Jaké zboží byste chtěl/a přidat do košíku? \")\n",
    "    if zbozi not in potraviny:                                          #slovník --> opět defaultně řeší klíč, ne cenu nebo množství\n",
    "        print(f\"Zboží {zbozi} nemáme v nabídce - zvolte jiné\")\n",
    "    elif zbozi not in kosik and potraviny[zbozi][1] > 0:\n",
    "        kosik[zbozi] = [potraviny[zbozi][0], 1]\n",
    "        potraviny[zbozi][1] -= 1 \n",
    "    elif zbozi in kosik and potraviny[zbozi][1] > 0:\n",
    "        kosik[zbozi][1] += 1\n",
    "        potraviny[zbozi][1] -= 1 \n",
    "    elif potraviny[zbozi][1] == 0:\n",
    "        print(f\"Zboží {zbozi} je vyprodano :(\")\n",
    "    print(\"------\")\n",
    "    print(kosik)\n",
    "    print(potraviny)\n",
    "    print(\"------\")\n",
    "else:\n",
    "    print(\"Nashledanou!\")"
   ]
  },
  {
   "cell_type": "markdown",
   "metadata": {},
   "source": [
    "<h1> LEKCE 6 </h1>"
   ]
  },
  {
   "cell_type": "markdown",
   "metadata": {},
   "source": [
    "<h2> Knihovny v Pythonu </h2>"
   ]
  },
  {
   "cell_type": "markdown",
   "metadata": {},
   "source": [
    "- víceméně soubory, kde je přípona .py\n",
    "- obecně 2 typy:\n",
    "    - moduly: samotný soubor s příponou .py\n",
    "    - balíčky: obsahuje více modulů\n",
    "- různé příklady: datetime (práce s datumy a časem), string (additional string operace), decimal (přesná práce s desetinnými místy), ...\n",
    "- použít knihovnu = nahrát ji\n",
    "- různé podoby nahrávání:\n",
    "    - import <knihovna>\n",
    "    - from <knihovna> import\n",
    "    - from <knihonva> import <objekt>\n",
    "    - ...\n",
    "- vždy se importy píšou na začátku kódu"
   ]
  },
  {
   "cell_type": "code",
   "execution_count": 1,
   "metadata": {},
   "outputs": [
    {
     "name": "stdout",
     "output_type": "stream",
     "text": [
      "1\n"
     ]
    }
   ],
   "source": [
    "import math\n",
    "\n",
    "print(math.floor(1.234))"
   ]
  },
  {
   "cell_type": "code",
   "execution_count": 3,
   "metadata": {},
   "outputs": [
    {
     "name": "stdout",
     "output_type": "stream",
     "text": [
      "3.141592653589793\n"
     ]
    }
   ],
   "source": [
    "import math\n",
    "\n",
    "print(math.pi)"
   ]
  },
  {
   "cell_type": "markdown",
   "metadata": {},
   "source": [
    "<h3> Ohlášení nahrávání knihoven </h3>\n",
    "\n",
    "- nejčastěji jako import + název knihovny (bez .py)\n",
    "- from <knihovna> import *\n",
    "    - není to moc časté - hodí se spíš do interaktivních zápisů apod.\n",
    "- from <knihovna> import <proměnná>\n",
    "    - když stačí jedna proměnná\n",
    "- from <knihovna> import <proměnná> as <alias>\n",
    "    - hodí se, když proměnná má super dlouhý název a byla by otrava jej pořád vypisovat\n",
    "- import <knihovna> as <alias>\n",
    "    - podobně jako výše\n",
    "- když knihovna rovnou pro něco sahá/vykonává kód, tak se to udělá při importu\n",
    "    - --> je dobré dát obsah (vlastní) knihovny pod podmínku, např.:\n",
    "    - if __name__ == \"__main__\": ...\n",
    "    - interpreter totiž při spuštění kódů přiřazuje speciální hodnoty (kam patří i __name__)\n",
    "    - takže jen při NAHRÁNÍ se knihovna nespustí, při spuštění kódu nastaví hodnotu __name__ dle názvu"
   ]
  },
  {
   "cell_type": "code",
   "execution_count": 4,
   "metadata": {},
   "outputs": [
    {
     "name": "stdout",
     "output_type": "stream",
     "text": [
      "3.141592653589793\n"
     ]
    }
   ],
   "source": [
    "from math import pi as p\n",
    "\n",
    "print(p)"
   ]
  },
  {
   "cell_type": "code",
   "execution_count": 5,
   "metadata": {},
   "outputs": [
    {
     "name": "stdout",
     "output_type": "stream",
     "text": [
      "3.141592653589793\n"
     ]
    }
   ],
   "source": [
    "import math as m\n",
    "\n",
    "print(m.pi)"
   ]
  },
  {
   "cell_type": "markdown",
   "metadata": {},
   "source": [
    "<h2> Moduly </h2>"
   ]
  },
  {
   "cell_type": "markdown",
   "metadata": {},
   "source": [
    "- cokoliv s příponou .py, několik jich je už built-in\n",
    "- můžu si třeba v jednomu modulu uložit jen něco malého jako list a pak z knihovny (from soubor import list) to nahrát jinam\n",
    "- když si nevím rady?\n",
    "    - --> print(help(nazev_knihovny)) \n",
    "    - NEBO rovnou print(help(nazev_knihovny.funkcionalita))\n",
    "- když chci znát všechny objekty v modulu?\n",
    "    --> print(dir(knihovna))\n",
    "    - btw to s __ na začátku a na konci jsou magické metody (teď netřeba řešit)"
   ]
  },
  {
   "cell_type": "code",
   "execution_count": 6,
   "metadata": {},
   "outputs": [
    {
     "name": "stdout",
     "output_type": "stream",
     "text": [
      "True\n",
      "False\n"
     ]
    }
   ],
   "source": [
    "import os       #pro práci s OS\n",
    "import sys      #...přístup k některým systémovým proměnným\n",
    "import random   #...pro pseudo-random procesy\n",
    "\n",
    "print(\n",
    "    \"os\" in dir() \\\n",
    "    and \"sys\" in dir() \\\n",
    "    and \"random\" in dir()       #tohle bude TRUE, protože se to nahrálo\n",
    ")\n",
    "print(\"muj modul\" in dir())     #tohle FALSE, protože je to pouze fiktivní (pro vlastní modul, když bych nějaký měl)"
   ]
  },
  {
   "cell_type": "code",
   "execution_count": null,
   "metadata": {},
   "outputs": [],
   "source": [
    "import math\n",
    "\n",
    "print(help(math))"
   ]
  },
  {
   "cell_type": "code",
   "execution_count": null,
   "metadata": {},
   "outputs": [],
   "source": [
    "import os\n",
    "\n",
    "print(help(os.path))"
   ]
  },
  {
   "cell_type": "code",
   "execution_count": 10,
   "metadata": {},
   "outputs": [
    {
     "name": "stdout",
     "output_type": "stream",
     "text": [
      "['__doc__', '__loader__', '__name__', '__package__', '__spec__', 'acos', 'acosh', 'asin', 'asinh', 'atan', 'atan2', 'atanh', 'cbrt', 'ceil', 'comb', 'copysign', 'cos', 'cosh', 'degrees', 'dist', 'e', 'erf', 'erfc', 'exp', 'exp2', 'expm1', 'fabs', 'factorial', 'floor', 'fmod', 'frexp', 'fsum', 'gamma', 'gcd', 'hypot', 'inf', 'isclose', 'isfinite', 'isinf', 'isnan', 'isqrt', 'lcm', 'ldexp', 'lgamma', 'log', 'log10', 'log1p', 'log2', 'modf', 'nan', 'nextafter', 'perm', 'pi', 'pow', 'prod', 'radians', 'remainder', 'sin', 'sinh', 'sqrt', 'tan', 'tanh', 'tau', 'trunc', 'ulp']\n"
     ]
    }
   ],
   "source": [
    "import math\n",
    "\n",
    "print(dir(math))"
   ]
  },
  {
   "cell_type": "markdown",
   "metadata": {},
   "source": [
    "<h2> Balíčky </h2>"
   ]
  },
  {
   "cell_type": "markdown",
   "metadata": {},
   "source": [
    "- sbírka modulů\n",
    "- mj. JSON obsahuje i __init__.py a __pycache__\n",
    "    - init k indexaci a nalzení konkrétního modulu interpretem (když není v adresáři, interpreter tam nehledá)\n",
    "    - do pycache pak interpret ukládá soubory s příponou .pyc (když existují --> přeskočí --> rychlejší spuštění X když ne --> vytvoří ji --> příště rychlejší); hodí se to taky při kompilaci do bytecodu"
   ]
  },
  {
   "cell_type": "markdown",
   "metadata": {},
   "source": [
    "<h3> Cvičení 1: Kámen, nůžky, papír </h3>"
   ]
  },
  {
   "cell_type": "code",
   "execution_count": 15,
   "metadata": {},
   "outputs": [
    {
     "name": "stdout",
     "output_type": "stream",
     "text": [
      "Hráč: kamen\n",
      "Počítač: kamen\n",
      "Nerozhodně...\n"
     ]
    }
   ],
   "source": [
    "import random\n",
    "\n",
    "moznosti = [\"kamen\", \"nuzky\", \"papir\"]\n",
    "hrac = \"kamen\"\n",
    "pocitac = random.choice(moznosti)\n",
    "\n",
    "print(\"Hráč:\", hrac)\n",
    "print(\"Počítač:\", pocitac)\n",
    "if hrac == pocitac:\n",
    "    print(\"Nerozhodně...\")\n",
    "else:\n",
    "    if hrac == \"kamen\":\n",
    "        if pocitac == \"nuzky\":\n",
    "            print(\"Vyhrál jsi!\")\n",
    "        else:\n",
    "            print(\"Prohrál jsi!\")\n",
    "    elif hrac == \"nuzky\":\n",
    "        if pocitac == \"kamen\":\n",
    "            print(\"Prohrál jsi!\")\n",
    "        else:\n",
    "            print(\"Vyhrál jsi!\")\n",
    "    elif hrac == \"papir\":\n",
    "        if pocitac == \"kamen\":\n",
    "            print(\"Vyhrál jsi!\")\n",
    "        else:\n",
    "            print(\"Prohrál jsi!\")\n",
    "    else:\n",
    "        print(\"CHYBA!\")"
   ]
  },
  {
   "cell_type": "markdown",
   "metadata": {},
   "source": [
    "<h3> Cvičení 2: Vytvoř složky </h3>"
   ]
  },
  {
   "cell_type": "code",
   "execution_count": 26,
   "metadata": {},
   "outputs": [
    {
     "name": "stdout",
     "output_type": "stream",
     "text": [
      "['# LEKCE 1.py', '# LEKCE 2.py', '# LEKCE 3.py', '# LEKCE 4.py', '# LEKCE 5.py', '# Python projekt 1.py', '.git', 'cheat sheets', 'LEKCE 6.ipynb', 'module.py', 'README.md', 'skript1.py']\n",
      "Vytvářím složku: obrazky\n",
      "Vytvářím složku: texty\n",
      "Vytvářím složku: gify\n",
      "Všechny složky existují\n"
     ]
    }
   ],
   "source": [
    "import os\n",
    "\n",
    "jmena_slozek = [\"obrazky\", \"texty\", \"gify\"]\n",
    "print(os.listdir())\n",
    "for i in jmena_slozek:\n",
    "    if i in os.listdir():\n",
    "        print(\"Složka již existuje!\")\n",
    "    else:\n",
    "        os.mkdir(i)\n",
    "        print(\"Vytvářím složku:\", i)\n",
    "print(\"Všechny složky existují\")"
   ]
  },
  {
   "cell_type": "markdown",
   "metadata": {},
   "source": [
    "<h3> Cvičení 3: Hod kostkou </h3>"
   ]
  },
  {
   "cell_type": "code",
   "execution_count": 36,
   "metadata": {},
   "outputs": [
    {
     "name": "stdout",
     "output_type": "stream",
     "text": [
      "Házím kostkou...\n",
      "Na kostce je: 6\n",
      "Házím kostkou...\n",
      "Na kostce je: 2\n"
     ]
    }
   ],
   "source": [
    "import random\n",
    "\n",
    "min_hodnota = int(1)\n",
    "max_hodnota = int(6)\n",
    "while True:\n",
    "    print(\"Házím kostkou...\")\n",
    "    kostka_hodnota = random.randint(min_hodnota, max_hodnota)\n",
    "    print(\"Na kostce je:\", kostka_hodnota)\n",
    "    if kostka_hodnota != 6:\n",
    "        break\n",
    "\n",
    "\n"
   ]
  }
 ],
 "metadata": {
  "kernelspec": {
   "display_name": "Python 3",
   "language": "python",
   "name": "python3"
  },
  "language_info": {
   "codemirror_mode": {
    "name": "ipython",
    "version": 3
   },
   "file_extension": ".py",
   "mimetype": "text/x-python",
   "name": "python",
   "nbconvert_exporter": "python",
   "pygments_lexer": "ipython3",
   "version": "3.11.6"
  }
 },
 "nbformat": 4,
 "nbformat_minor": 2
}
