{
 "cells": [
  {
   "cell_type": "markdown",
   "metadata": {},
   "source": [
    "<h1> LEKCE 12 </h1>\n",
    "\n",
    "<h2> Knihovny třetích stran </h2>\n",
    "\n",
    "- builtin (https://docs.python.org/3/library/index.html) X 3rd party knihovny\n",
    "- builtin dělám přes import, 3rd party mi ale chodí chybu tímto způsobem - není mezi knihovnami, kde má Python hledat (vi cesta níže)\n",
    "- virtuální prostředí?\n",
    "    - něco jako složky dle projektů, kde jsou vlastní verze Pythonu/knihoven, které se vzájemně nebudou ovlivňovat\n",
    "    - pokud instaluju knihovnu bez virtuálního prostředí, může se stát, že nahradím původní verze (--> možné kolize napříč projekty a tak)\n",
    "- virtuální prostředí lze vytvořit v command lině\n",
    "    - napíšu: python -m venv moje_prvni_prostredi\n",
    "    - vznikne složka s nazvem moje_prvni_prostredi\n",
    "    - napíšu: moje_prvni_prostredi\\Scripts\\Activate.ps1\n",
    "    - tím se údajně aktivuje virtuální prostředí\n",
    "- s tím se instaluje (s celým Pythonem) manažer balíčků pip (pip --version ke zjištění verze)\n",
    "    - když znám jméno knihovny: pip install <jmeno_knihovny>\n",
    "    - podobně odinstalace knihoven: pip uninstall jmeno_knihovny\n",
    "    - seznam knihoven zde: https://pypi.org/\n",
    "- v PyCharmu se nové virtuální prostředí vytváří při každém novém projektu automaticky\n",
    "    - tan taky skrze settings, projekt, interpreter a + lze přidávat nové knihovny\n",
    "- dobré je pak přikládat nějaký texťák k projektům, kde používám knihovny 3. stran"
   ]
  },
  {
   "cell_type": "code",
   "execution_count": 1,
   "metadata": {},
   "outputs": [],
   "source": [
    "import uuid\n",
    "import random\n",
    "import typing"
   ]
  },
  {
   "cell_type": "code",
   "execution_count": 2,
   "metadata": {},
   "outputs": [
    {
     "ename": "ModuleNotFoundError",
     "evalue": "No module named 'flask'",
     "output_type": "error",
     "traceback": [
      "\u001b[1;31m---------------------------------------------------------------------------\u001b[0m",
      "\u001b[1;31mModuleNotFoundError\u001b[0m                       Traceback (most recent call last)",
      "Cell \u001b[1;32mIn[2], line 1\u001b[0m\n\u001b[1;32m----> 1\u001b[0m \u001b[38;5;28;01mimport\u001b[39;00m \u001b[38;5;21;01mflask\u001b[39;00m\n",
      "\u001b[1;31mModuleNotFoundError\u001b[0m: No module named 'flask'"
     ]
    }
   ],
   "source": [
    "import flask"
   ]
  },
  {
   "cell_type": "code",
   "execution_count": 3,
   "metadata": {},
   "outputs": [
    {
     "name": "stdout",
     "output_type": "stream",
     "text": [
      "['c:\\\\Users\\\\Michal\\\\Desktop\\\\Engeto python',\n",
      " 'C:\\\\Program '\n",
      " 'Files\\\\WindowsApps\\\\PythonSoftwareFoundation.Python.3.11_3.11.1776.0_x64__qbz5n2kfra8p0\\\\python311.zip',\n",
      " 'C:\\\\Program '\n",
      " 'Files\\\\WindowsApps\\\\PythonSoftwareFoundation.Python.3.11_3.11.1776.0_x64__qbz5n2kfra8p0\\\\DLLs',\n",
      " 'C:\\\\Program '\n",
      " 'Files\\\\WindowsApps\\\\PythonSoftwareFoundation.Python.3.11_3.11.1776.0_x64__qbz5n2kfra8p0\\\\Lib',\n",
      " 'C:\\\\Program '\n",
      " 'Files\\\\WindowsApps\\\\PythonSoftwareFoundation.Python.3.11_3.11.1776.0_x64__qbz5n2kfra8p0',\n",
      " '',\n",
      " 'C:\\\\Users\\\\Michal\\\\AppData\\\\Local\\\\Packages\\\\PythonSoftwareFoundation.Python.3.11_qbz5n2kfra8p0\\\\LocalCache\\\\local-packages\\\\Python311\\\\site-packages',\n",
      " 'C:\\\\Users\\\\Michal\\\\AppData\\\\Local\\\\Packages\\\\PythonSoftwareFoundation.Python.3.11_qbz5n2kfra8p0\\\\LocalCache\\\\local-packages\\\\Python311\\\\site-packages\\\\win32',\n",
      " 'C:\\\\Users\\\\Michal\\\\AppData\\\\Local\\\\Packages\\\\PythonSoftwareFoundation.Python.3.11_qbz5n2kfra8p0\\\\LocalCache\\\\local-packages\\\\Python311\\\\site-packages\\\\win32\\\\lib',\n",
      " 'C:\\\\Users\\\\Michal\\\\AppData\\\\Local\\\\Packages\\\\PythonSoftwareFoundation.Python.3.11_qbz5n2kfra8p0\\\\LocalCache\\\\local-packages\\\\Python311\\\\site-packages\\\\Pythonwin',\n",
      " 'C:\\\\Program '\n",
      " 'Files\\\\WindowsApps\\\\PythonSoftwareFoundation.Python.3.11_3.11.1776.0_x64__qbz5n2kfra8p0\\\\Lib\\\\site-packages']\n"
     ]
    }
   ],
   "source": [
    "from sys import path\n",
    "from pprint import pprint\n",
    "\n",
    "pprint(path)"
   ]
  },
  {
   "cell_type": "markdown",
   "metadata": {},
   "source": [
    "<h2> Soubory HTML </h2>\n",
    "\n",
    "- když mi nejde o zážitek z webu, ale data --> scraping\n",
    "- 3 základní kroky před scrapováním\n",
    "    - 1) jak data vyhledat\n",
    "    - 2) jak získat jejich zdroj\n",
    "    - 3) jak přečíst tento zdroj\n",
    "- vyhledávání dat: klasika skrze prohlížeč najít, co chci\n",
    "- získávání podkladů webu: skrze HTTP/HTTPS protokoly posílám požadavky a server vrací odpovědi (dotazy get, post, put, delete, ...)\n",
    "- zdrojový kód: viz klasika skrze prohlížeč, HTML formát\n",
    "- HTML (hypertext markup language) úvod\n",
    "    - (!) když si tenhle markdown otevřu jen v read režimu, tak html příklady nebudou vidět z podstaty věci (!)\n",
    "    - HTML používá tagy, např. <div></div>\n",
    "    - tagy jsou párové, jeden tag otevírá, druhý zavírá (ten s lomítkem), ALE existují i nepárové (např <br> nebo <img>)\n",
    "    - některé tagy jsou zarovnané, jiné odsazené\n",
    "    - tagy taky lze dělit na hlavní rodičovské (<div>), odsazené potomky (<li>, <a>) a sourozence na stejné úrovni jako potomci\n",
    "    - atributy tagů: velmi podobné dictům v Pythonu, viz div id=\"menu\" ... účelem je přidat nějaké doplňující nebo rozšiřující chování, tvoří je klíč a hodnota, spojené pomocí =\n",
    "    - příklady níže\n",
    "\n",
    "<a href=\"https://www.google.com/\" target=\"_blank\">Go to Google</a>\n",
    "\n",
    "<!-- pouze vzorový zápis -->\n",
    "<body>\n",
    "<div id=\"menu\">\n",
    "<li>\n",
    "<a href=\"http://XXXXXXX.cz\" title=\"\">Homepage</a>\n",
    "</li>\n",
    "</div>\n",
    "</body>\n",
    "<div id=\"menu\">\n",
    "    <li>\n",
    "        <a href=\"XYZ\">Homepage</a>\n",
    "        <a href=\"MNO\">Source</a>\n",
    "    </li>\n",
    "</div>"
   ]
  },
  {
   "cell_type": "markdown",
   "metadata": {},
   "source": [
    "<h2> Úvod do web scrapingu </h2>\n",
    "\n",
    "- obecně lze rozdělit do kroků:\n",
    "    - 1) Získání zdrojového souboru z webové adresy\n",
    "    - 2) rozdělení a procházení takového zdrojového souboru\n",
    "    - 3) zpřístupnění a uložení dat ve zdrojovém souboru, která potřebuješ\n",
    "    - 4) přesun na další stránku a zopakovat první tři kroky (volitelné)\n",
    "- získávání zdrojového souboru\n",
    "    - prvně je potřeba uložit web adresu do proměnné\n",
    "    - budu posílat požadavky --> potřebuju 3rd party knihovnu requests\n",
    "    - jaký požadavek zvolit? v prohlížeči na stránce dát prozkoumat/inspect, záložka network a reloadnout stránku --> na výstupu by měl být požadavek vidět\n",
    "- chci získat zdroj a nic vyplňovat --> metoda GET\n",
    "    - adresu už mám uloženou\n",
    "    - odpověď si uložím do proměnné = get(adresa)\n",
    "    - zjistím odpověď pomocí print(adresa.text) .... (NE TXT, ale TEXT!) ... .text zformátuje HTML na string\n",
    "    - výsledek je šíleně dlouhá output --> chci rozdělit\n",
    "- rozdělení údajů\n",
    "    - parsing, striding, ... se nabízí, ale to je pak zbytečně složité --> knihovna BeautifulSoup\n",
    "    - pak budu potřebovat samotný BeautifulSoup (lepší použít akronym pomocí as bs), onu dříve získanou odpověď skrze get a typ rozdělovače zvolit\n",
    "    - pak použiju objekt/fci bs(odpoved.text, features=\"typ_rozdělovač\") --> výsledkem bude string dělený dle tagů\n",
    "    - typů rozdělovačů je vícero, např. lxml, html5 ad.\n",
    "- Vyhledávání v HTML struktuře, obecně\n",
    "    - když už mám původní zdrojový kód stránky, tak můžu vyhledávat dle potřeby\n",
    "    - ale hlavně PARSOVAT pomocí bs ... zase stejný postup = bs(html_doc, features=\"html.parser\")\n",
    "    - dostanu zpátky datový typ třídy bs4.BeautifulSoup\n",
    "    - --> teď můžu procházet po ELEMENTECH\n",
    "- Vyhledávání v HTML struktuře, podle atributů\n",
    "    - zde např. chci v tagu div z potomka a atribut title=\"Wikipedie:Článek týdne\"\n",
    "    - můžu na to jít pomocí hledání atributů bs, pomocí metody select_one nebo select, nebo pomocí metody find (nebo find_all)\n",
    "    - když použiju např. metodu .div, tak můžu nad tím ještě použít další (.name, .text, .attrs), abych získal jejich hodnoty\n",
    "    - když chci získat hodnotu z nějakého atribut v nějakém tagu, tak použiju metodu toho tagu a jméno atributu v [\"\"] --> html_doc.a[\"title\"]\n",
    "    - hledání pomocí atributů je fajn na menší soubory, na velké úplně nikoliv\n",
    "- Vyhledávání v HTML struktuře, pomocí metody SELECT\n",
    "    - ....\n",
    "\n",
    "    "
   ]
  },
  {
   "cell_type": "code",
   "execution_count": null,
   "metadata": {},
   "outputs": [],
   "source": [
    "pip install requests"
   ]
  },
  {
   "cell_type": "code",
   "execution_count": null,
   "metadata": {},
   "outputs": [],
   "source": [
    "pip install beautifulsoup4"
   ]
  },
  {
   "cell_type": "code",
   "execution_count": 3,
   "metadata": {},
   "outputs": [
    {
     "name": "stdout",
     "output_type": "stream",
     "text": [
      "['ConnectTimeout', 'ConnectionError', 'DependencyWarning', 'FileModeWarning', 'HTTPError', 'JSONDecodeError', 'NullHandler', 'PreparedRequest', 'ReadTimeout', 'Request', 'RequestException', 'RequestsDependencyWarning', 'Response', 'Session', 'Timeout', 'TooManyRedirects', 'URLRequired', '__author__', '__author_email__', '__build__', '__builtins__', '__cached__', '__cake__', '__copyright__', '__description__', '__doc__', '__file__', '__license__', '__loader__', '__name__', '__package__', '__path__', '__spec__', '__title__', '__url__', '__version__', '_check_cryptography', '_internal_utils', 'adapters', 'api', 'auth', 'certs', 'chardet_version', 'charset_normalizer_version', 'check_compatibility', 'codes', 'compat', 'cookies', 'delete', 'exceptions', 'get', 'head', 'hooks', 'logging', 'models', 'options', 'packages', 'patch', 'post', 'put', 'request', 'session', 'sessions', 'ssl', 'status_codes', 'structures', 'urllib3', 'utils', 'warnings']\n"
     ]
    }
   ],
   "source": [
    "import requests\n",
    "\n",
    "print(dir(requests))"
   ]
  },
  {
   "cell_type": "code",
   "execution_count": null,
   "metadata": {},
   "outputs": [],
   "source": [
    "#krok 1 - získání zdrojového souboru z adresy\n",
    "\n",
    "from requests import get\n",
    "from bs4 import BeautifulSoup as bs\n",
    "\n",
    "adresa = \"https://cs.wikipedia.org/wiki/Hlavn%C3%AD_strana\"\n",
    "odpoved = get(adresa)\n",
    "\n",
    "# print(odpoved.text)\n",
    "rozdelene_html = bs(odpoved.text, features=\"html.parser\")\n",
    "print(type(rozdelene_html))\n",
    "print(rozdelene_html)"
   ]
  },
  {
   "cell_type": "code",
   "execution_count": 28,
   "metadata": {},
   "outputs": [
    {
     "name": "stdout",
     "output_type": "stream",
     "text": [
      "<div class=\"mainpage-headline\">\n",
      "<a href=\"/wiki/Wikipedie:%C4%8Cl%C3%A1nek_t%C3%BDdne\" title=\"Wikipedie:Článek týdne\">Článek týdne</a>\n",
      "</div>\n",
      "<class 'str'>\n",
      "----------------------------- rozdělení pomocí objektu BeautifulSoup\n",
      "<div class=\"mainpage-headline\">\n",
      "<a href=\"/wiki/Wikipedie:%C4%8Cl%C3%A1nek_t%C3%BDdne\" title=\"Wikipedie:Článek týdne\">Článek týdne</a>\n",
      "</div>\n",
      "<class 'bs4.BeautifulSoup'>\n",
      "----------------------------- metoda .div\n",
      "<div class=\"mainpage-headline\">\n",
      "<a href=\"/wiki/Wikipedie:%C4%8Cl%C3%A1nek_t%C3%BDdne\" title=\"Wikipedie:Článek týdne\">Článek týdne</a>\n",
      "</div>\n",
      "----------------------------- metoda .a\n",
      "<a href=\"/wiki/Wikipedie:%C4%8Cl%C3%A1nek_t%C3%BDdne\" title=\"Wikipedie:Článek týdne\">Článek týdne</a>\n",
      "----------------------------- získání hodnot z tagů pomocí dalších metod\n",
      "div\n",
      "\n",
      "Článek týdne\n",
      "\n",
      "{'class': ['mainpage-headline']}\n",
      "<class 'str'>\n",
      "<class 'str'>\n",
      "<class 'dict'>\n",
      "----------------------------- získání textu v atributu title v tagu a\n",
      "Wikipedie:Článek týdne\n"
     ]
    }
   ],
   "source": [
    "html_doc = \"\"\"<div class=\"mainpage-headline\">\n",
    "<a href=\"/wiki/Wikipedie:%C4%8Cl%C3%A1nek_t%C3%BDdne\" title=\"Wikipedie:Článek týdne\">Článek týdne</a>\n",
    "</div>\"\"\"\n",
    "\n",
    "print(html_doc)\n",
    "print(type(html_doc))\n",
    "print(\"----------------------------- rozdělení pomocí objektu BeautifulSoup\")\n",
    "\n",
    "from bs4 import BeautifulSoup as bs\n",
    "\n",
    "rozdelene_html = bs(html_doc, features=\"html.parser\")\n",
    "print(rozdelene_html)\n",
    "print(type(rozdelene_html))\n",
    "print(\"----------------------------- metoda .div\")\n",
    "print(rozdelene_html.div)\n",
    "print(\"----------------------------- metoda .a\")\n",
    "print(rozdelene_html.a)\n",
    "print(\"----------------------------- získání hodnot z tagů pomocí dalších metod\")\n",
    "print(\n",
    "    rozdelene_html.div.name,\n",
    "    rozdelene_html.div.text,\n",
    "    rozdelene_html.div.attrs,\n",
    "    type(rozdelene_html.div.name),\n",
    "    type(rozdelene_html.div.text),\n",
    "    type(rozdelene_html.div.attrs),\n",
    "    sep=\"\\n\"\n",
    ")\n",
    "print(\"----------------------------- získání textu v atributu title v tagu a\")\n",
    "print(rozdelene_html.a[\"title\"])"
   ]
  }
 ],
 "metadata": {
  "kernelspec": {
   "display_name": "Python 3",
   "language": "python",
   "name": "python3"
  },
  "language_info": {
   "codemirror_mode": {
    "name": "ipython",
    "version": 3
   },
   "file_extension": ".py",
   "mimetype": "text/x-python",
   "name": "python",
   "nbconvert_exporter": "python",
   "pygments_lexer": "ipython3",
   "version": "3.11.6"
  }
 },
 "nbformat": 4,
 "nbformat_minor": 2
}
