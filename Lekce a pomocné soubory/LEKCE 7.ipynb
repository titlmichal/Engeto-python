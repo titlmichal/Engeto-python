{
 "cells": [
  {
   "cell_type": "markdown",
   "metadata": {},
   "source": [
    "<h1> LEKCE 7 </h1>\n",
    "\n",
    "<h2> FUNKCE </h2>\n",
    "\n",
    "- zabudované (stačí spustit) X uživatelské (prvně je musíme definovat)\n",
    "- zabudované lze doplni volitelnými argumenty\n",
    "    - často se k nim lze dostat skrze print(help(nazev_funkce))\n",
    "- i třeba tuple, list, apod. jsou vlastně taky funkce, i když je Python označuje jako class\n",
    "    - každopádně všechno v Python je OBJEKT\n",
    "    - to je ale specifické pro Python, v jiném jazyce to být nemusí"
   ]
  },
  {
   "cell_type": "code",
   "execution_count": 1,
   "metadata": {},
   "outputs": [
    {
     "name": "stdout",
     "output_type": "stream",
     "text": [
      "Help on built-in function print in module builtins:\n",
      "\n",
      "print(*args, sep=' ', end='\\n', file=None, flush=False)\n",
      "    Prints the values to a stream, or to sys.stdout by default.\n",
      "    \n",
      "    sep\n",
      "      string inserted between values, default a space.\n",
      "    end\n",
      "      string appended after the last value, default a newline.\n",
      "    file\n",
      "      a file-like object (stream); defaults to the current sys.stdout.\n",
      "    flush\n",
      "      whether to forcibly flush the stream.\n",
      "\n",
      "None\n"
     ]
    }
   ],
   "source": [
    "print(help(print))"
   ]
  },
  {
   "cell_type": "code",
   "execution_count": 2,
   "metadata": {},
   "outputs": [
    {
     "name": "stdout",
     "output_type": "stream",
     "text": [
      "Jmenuji\n",
      "se\n",
      "Michal\n"
     ]
    }
   ],
   "source": [
    "print(\"Jmenuji\", \"se\", \"Michal\", sep=\"\\n\")"
   ]
  },
  {
   "cell_type": "code",
   "execution_count": 3,
   "metadata": {},
   "outputs": [
    {
     "name": "stdout",
     "output_type": "stream",
     "text": [
      "Součet sekvence je 6\n",
      "Součet sekvence je 10\n",
      "Součet sekvence je 26\n",
      "Součet sekvence je 42\n"
     ]
    }
   ],
   "source": [
    "ciselna_r_1 = (1, 2, 3, \"a\")\n",
    "ciselna_r_2 = (1, 2, 3, 4)\n",
    "ciselna_r_3 = (5, 6, 7, 8)\n",
    "ciselna_r_4 = (9, 10, 11, 12)\n",
    "\n",
    "def secti_cisla(sekvence):\n",
    "    soucet = 0\n",
    "    for cislo in sekvence:\n",
    "        if isinstance(cislo, str) and not cislo.isnumeric():\n",
    "            continue\n",
    "        soucet = soucet + int(cislo)\n",
    "    else:\n",
    "        print(f\"Součet sekvence je {soucet}\")\n",
    "\n",
    "secti_cisla(ciselna_r_1)\n",
    "secti_cisla(ciselna_r_2)\n",
    "secti_cisla(ciselna_r_3)\n",
    "secti_cisla(ciselna_r_4)"
   ]
  },
  {
   "cell_type": "markdown",
   "metadata": {},
   "source": [
    "<h3> Uživatelské funkce </h3>\n",
    "\n",
    "- prvně definovat, pak spouštět\n",
    "- začíná se použítím klíčového slova def a k tomu nazev(argument, argument2, ..., argument_x):\n",
    "    - pak odsadím\n",
    "    - argumentům se taky říká parametry (resp při definici to jsou parametry, při použití argumenty) --> neplést argumenty a paramtery --> při použití fce se parametrům přiřazují argumenty\n",
    "    - defaultní hodnota je v dokumentaci za rovnítkem (např. u printu sep = \" \")\n",
    "    - tuto hodnotu lze do fce zapsat napsáním nazev_parametru = nova_hodnota\n",
    "    - do odsazení dám/můžu dát docstring, tedy popis funkce, např. \"\"\"Vrací součet 2 čísel\"\"\" (to pak uvidím při použití help)\n",
    "    - pod to klíčové slovo return a to, co má vrátit (nemusí být nutně součástí) --> v dokumentaci (třeba když ve VSC najedu na fci print) jako to za šipkou na konci\n",
    "- BTW při tom definování, když k nějakému parametru přiřadím už nějakou hodnut (skrze parametr1 = defaulthodnota1), tak z toho je default parametr\n",
    "- když by tam nebylo to return, tak nevrátí funkce hodnotu (jen None) ... jen udělá, co má udělat, třeba něco printne\n",
    "    - když tu hodnotu neschovám do nějaké proměnné (viz níže), tak bych o ni přišel\n",
    "    - lze to řešit tak, že když třeba chci printnout něco z té funkce, tak dám v definování na konec print (vytištění bude tak součást funkce)\n",
    "    - když ji ale chci někde uložit nebo použít v jiné funkci, tak tam musím mít to return\n",
    "- možné chyby\n",
    "    - nezadání argumentů --> printne typ a název objektu\n",
    "    - více argumentů než je definovaných parametrů --> chyba o tom\n",
    "    - absence výpisu nebo neuložení výstupu funkce --> spustí se, ale je hned ztracena\n",
    "- doporučení\n",
    "    - nevymýšlet znovu kolo = když už na to existuje built-in fce, tak zbytečné dělat novou\n",
    "    - jméno by mělo vystihovat účel a ideálně začínat SLOVESEM, případně dát docstring na popis\n",
    "    - míň parametrů = lepší (max tak 3)\n",
    "    - fce by měla dělat jednu věc (např. filtrovat aktivní uživatele a těm poslat mail v jedné fci není ideální --> rozdělit do 2)"
   ]
  },
  {
   "cell_type": "code",
   "execution_count": 1,
   "metadata": {},
   "outputs": [
    {
     "name": "stdout",
     "output_type": "stream",
     "text": [
      "3\n",
      "7\n"
     ]
    }
   ],
   "source": [
    "def soucet_2_cisel(cislo_1, cislo_2):\n",
    "    \"\"\"Vrací součet 2 čísel\"\"\"\n",
    "    return cislo_1 + cislo_2\n",
    "\n",
    "soucet_1 = soucet_2_cisel(1, 2)\n",
    "soucet_2 = soucet_2_cisel(3, 4)\n",
    "\n",
    "print(soucet_1, soucet_2, sep=\"\\n\")"
   ]
  },
  {
   "cell_type": "code",
   "execution_count": 2,
   "metadata": {},
   "outputs": [
    {
     "name": "stdout",
     "output_type": "stream",
     "text": [
      "Help on function soucet_2_cisel in module __main__:\n",
      "\n",
      "soucet_2_cisel(cislo_1, cislo_2)\n",
      "    Vrací součet 2 čísel\n",
      "\n"
     ]
    }
   ],
   "source": [
    "help(soucet_2_cisel)"
   ]
  },
  {
   "cell_type": "markdown",
   "metadata": {},
   "source": [
    "<h3> Cvičení 1: Minimum a maximum </h3>"
   ]
  },
  {
   "cell_type": "code",
   "execution_count": 7,
   "metadata": {},
   "outputs": [
    {
     "name": "stdout",
     "output_type": "stream",
     "text": [
      "Minimální hodnota je 21. Maximální hodnota je 87.\n"
     ]
    }
   ],
   "source": [
    "muj_seznam = [43, 45, 87, 21, 23]\n",
    "minimum = min(muj_seznam)\n",
    "maximum = max(muj_seznam)\n",
    "print(f\"Minimální hodnota je {minimum}. Maximální hodnota je {maximum}.\")"
   ]
  },
  {
   "cell_type": "markdown",
   "metadata": {},
   "source": [
    "<h3> Cvičení 2: Vynásob čísla </h3>"
   ]
  },
  {
   "cell_type": "code",
   "execution_count": 8,
   "metadata": {},
   "outputs": [
    {
     "name": "stdout",
     "output_type": "stream",
     "text": [
      "Vysledek je: 25\n"
     ]
    }
   ],
   "source": [
    "prvni_cislo = 5\n",
    "druhe_cislo = 5\n",
    "\n",
    "def vynasob(num1, num2):\n",
    "    return num1 * num2\n",
    "\n",
    "vysledek = vynasob(prvni_cislo, druhe_cislo)\n",
    "print(f\"Vysledek je: {vysledek}\")"
   ]
  },
  {
   "cell_type": "markdown",
   "metadata": {},
   "source": [
    "<h3> Cvičení 3: Průměr </h3>"
   ]
  },
  {
   "cell_type": "code",
   "execution_count": 9,
   "metadata": {},
   "outputs": [
    {
     "name": "stdout",
     "output_type": "stream",
     "text": [
      "26.533333333333335\n"
     ]
    }
   ],
   "source": [
    "sekvence_cisel = [35, 14, 26, 48, 49, 26, 18, 25, 16, 16, 39, 17, 10, 29, 30]\n",
    "\n",
    "def spocitej_prumer(sekvence):\n",
    "    prumer = sum(sekvence)/len(sekvence)\n",
    "    return prumer\n",
    "\n",
    "vysledek = spocitej_prumer(sekvence_cisel)\n",
    "print(vysledek)"
   ]
  },
  {
   "cell_type": "markdown",
   "metadata": {},
   "source": [
    "<h3> Cvičení 4: Zdvojnásob znaky </h3>"
   ]
  },
  {
   "cell_type": "code",
   "execution_count": 31,
   "metadata": {},
   "outputs": [
    {
     "name": "stdout",
     "output_type": "stream",
     "text": [
      "AAhhoojj  vvššeemm\n"
     ]
    }
   ],
   "source": [
    "vstup = 'Ahoj všem'\n",
    "vysledek = list()\n",
    "\n",
    "def zdvojnasob_vsechny_znaky(zadani):\n",
    "    vysledek = list()\n",
    "    for i in zadani:\n",
    "        vysledek.append(i * 2)\n",
    "    return \"\".join(vysledek)\n",
    "\n",
    "vysledek = zdvojnasob_vsechny_znaky(vstup)\n",
    "print(vysledek)\n"
   ]
  },
  {
   "cell_type": "markdown",
   "metadata": {},
   "source": [
    "<h3> Cvičení 5: Můj operační systém </h3>"
   ]
  },
  {
   "cell_type": "code",
   "execution_count": 35,
   "metadata": {},
   "outputs": [
    {
     "name": "stdout",
     "output_type": "stream",
     "text": [
      "True\n"
     ]
    }
   ],
   "source": [
    "import platform\n",
    "\n",
    "def je_os_windows():\n",
    "    if platform.system() == \"Windows\":\n",
    "        return True\n",
    "    else:\n",
    "        return False\n",
    "    \n",
    "print(je_os_windows())"
   ]
  },
  {
   "cell_type": "markdown",
   "metadata": {},
   "source": [
    "<h3> Další přiřazování proměnných </h3>\n",
    "\n",
    "- zkrácený zápis (místo x = x + 4 dám x += 4)\n",
    "    - je to rychlejší, protože: nenačítá hodnotu a vlastně neukládá dvakrát do paměti\n",
    "    - podobně tak pro - * / **\n",
    "    - NELZE pro string (!)\n",
    "- vícenásobně přiřazování\n",
    "    - místo indexování z listu, indexuju \"implicitně\" dle pořadí proměnných před =\n",
    "    - ale musí být stejný počet prvků k přiřazení jako proměnných, ke kterým přiřazuji\n",
    "    - lze tahat hodnoty ze stringu, listu, tuplu, dictu i range\n",
    "- sbalovací operátor\n",
    "    - když mám víc hodnot k přiřazení než proměnných\n",
    "    - udělám \"zbytkovou\" proměnnou, před kterou napíšu *\n",
    "    - dle pořadí proměnných lze měnit i to, o které hodnoty půjde\n",
    "    - ALE sbalovací proměnná může být pouze 1 (!)\n",
    "- když za proměnnou, resp její hodnotou doplním čárku, udělám z ní tuple (ALE ta čárka tam zůstane)\n",
    "- když definuju proměnnou a dám před ní hvězdičku, tak musím dát na konce čárku, jinak hodí chybu, že to není tuple/list"
   ]
  },
  {
   "cell_type": "code",
   "execution_count": 1,
   "metadata": {},
   "outputs": [
    {
     "name": "stdout",
     "output_type": "stream",
     "text": [
      "True\n"
     ]
    }
   ],
   "source": [
    "x = 1\n",
    "x = x + 4\n",
    "\n",
    "y = 1\n",
    "y += 4\n",
    "print(x == y)"
   ]
  },
  {
   "cell_type": "code",
   "execution_count": 3,
   "metadata": {},
   "outputs": [
    {
     "name": "stdout",
     "output_type": "stream",
     "text": [
      "True, True\n"
     ]
    }
   ],
   "source": [
    "jmena = (\"Matous\", \"Lukas\")\n",
    "prvni_jmeno = jmena[0]\n",
    "druhe_jmeno = jmena[1]\n",
    "\n",
    "jmeno1, jmeno2 = (\"Matous\", \"Lukas\")\n",
    "print(prvni_jmeno == jmeno1, druhe_jmeno == jmeno2, sep=\", \")\n",
    "\n"
   ]
  },
  {
   "cell_type": "code",
   "execution_count": 5,
   "metadata": {},
   "outputs": [
    {
     "name": "stdout",
     "output_type": "stream",
     "text": [
      "Matous, Marek, ['Lukas', 'Jan']\n"
     ]
    }
   ],
   "source": [
    "jmena = (\"Matous\", \"Marek\", \"Lukas\", \"Jan\")\n",
    "jmeno1, jmeno2, *zbytek = jmena\n",
    "print(jmeno1, jmeno2, zbytek, sep=\", \")"
   ]
  },
  {
   "cell_type": "code",
   "execution_count": 6,
   "metadata": {},
   "outputs": [
    {
     "name": "stdout",
     "output_type": "stream",
     "text": [
      "Matous, Jan, ['Marek', 'Lukas']\n"
     ]
    }
   ],
   "source": [
    "jmena = (\"Matous\", \"Marek\", \"Lukas\", \"Jan\")\n",
    "jmeno1, *zbytek, jmeno2 = jmena\n",
    "print(jmeno1, jmeno2, zbytek, sep=\", \")"
   ]
  },
  {
   "cell_type": "code",
   "execution_count": 7,
   "metadata": {},
   "outputs": [
    {
     "name": "stdout",
     "output_type": "stream",
     "text": [
      "Jan, Lukas, ['Matous', 'Marek']\n"
     ]
    }
   ],
   "source": [
    "jmena = (\"Matous\", \"Marek\", \"Lukas\", \"Jan\")\n",
    "*zbytek, predposledni, posledni = jmena\n",
    "print(posledni, predposledni, zbytek, sep=\", \")"
   ]
  },
  {
   "cell_type": "code",
   "execution_count": 13,
   "metadata": {},
   "outputs": [
    {
     "name": "stdout",
     "output_type": "stream",
     "text": [
      "1, <class 'int'>, (2,), <class 'tuple'>\n",
      "['a', 'b', 'c', 'd']\n"
     ]
    }
   ],
   "source": [
    "var1 = 1\n",
    "var2 = 2,\n",
    "print(var1, type(var1), var2, type(var2), sep=\", \")\n",
    "\n",
    "*pismena, = \"abcd\"\n",
    "print(pismena)"
   ]
  },
  {
   "cell_type": "code",
   "execution_count": null,
   "metadata": {},
   "outputs": [],
   "source": [
    "<h3> Cvičení 6: Největší společný dělitel </h3>"
   ]
  },
  {
   "cell_type": "code",
   "execution_count": 30,
   "metadata": {},
   "outputs": [
    {
     "name": "stdout",
     "output_type": "stream",
     "text": [
      "4\n"
     ]
    }
   ],
   "source": [
    "#najít největší společný dělitel dvou int\n",
    "\n",
    "prvni_cislo = 12\n",
    "druhe_cislo = 16\n",
    "\n",
    "def najdi_gcd(x1, x2):\n",
    "    gcd = x2 % (x1 % x2)\n",
    "    return gcd\n",
    "\n",
    "vysledek = najdi_gcd(prvni_cislo, druhe_cislo)\n",
    "print(vysledek)\n"
   ]
  }
 ],
 "metadata": {
  "kernelspec": {
   "display_name": "Python 3",
   "language": "python",
   "name": "python3"
  },
  "language_info": {
   "codemirror_mode": {
    "name": "ipython",
    "version": 3
   },
   "file_extension": ".py",
   "mimetype": "text/x-python",
   "name": "python",
   "nbconvert_exporter": "python",
   "pygments_lexer": "ipython3",
   "version": "3.11.6"
  }
 },
 "nbformat": 4,
 "nbformat_minor": 2
}
